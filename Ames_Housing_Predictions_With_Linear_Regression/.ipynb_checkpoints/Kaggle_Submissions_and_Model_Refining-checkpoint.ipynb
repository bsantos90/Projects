{
 "cells": [
  {
   "cell_type": "markdown",
   "metadata": {},
   "source": [
    "# First Submission"
   ]
  },
  {
   "cell_type": "code",
   "execution_count": 1,
   "metadata": {},
   "outputs": [],
   "source": [
    "import pandas as pd\n",
    "import numpy as np\n",
    "import matplotlib.pyplot as plt\n",
    "import seaborn as sns\n",
    "import scipy.stats\n",
    "from sklearn import metrics\n",
    "from sklearn.model_selection import cross_val_score, cross_val_predict, KFold, train_test_split\n",
    "from sklearn.linear_model import LinearRegression, RidgeCV, LassoCV\n",
    "import statsmodels.api as sm\n",
    "from sklearn.preprocessing import StandardScaler, PowerTransformer, PolynomialFeatures\n",
    "\n",
    "import warnings\n",
    "warnings.filterwarnings(\"ignore\")\n",
    "\n",
    "%matplotlib inline"
   ]
  },
  {
   "cell_type": "code",
   "execution_count": null,
   "metadata": {},
   "outputs": [],
   "source": []
  },
  {
   "cell_type": "code",
   "execution_count": 2,
   "metadata": {},
   "outputs": [],
   "source": [
    "train = pd.read_csv('./datasets/train.csv')\n",
    "test = pd.read_csv('./datasets/test.csv')"
   ]
  },
  {
   "cell_type": "code",
   "execution_count": 3,
   "metadata": {},
   "outputs": [
    {
     "data": {
      "text/html": [
       "<div>\n",
       "<style scoped>\n",
       "    .dataframe tbody tr th:only-of-type {\n",
       "        vertical-align: middle;\n",
       "    }\n",
       "\n",
       "    .dataframe tbody tr th {\n",
       "        vertical-align: top;\n",
       "    }\n",
       "\n",
       "    .dataframe thead th {\n",
       "        text-align: right;\n",
       "    }\n",
       "</style>\n",
       "<table border=\"1\" class=\"dataframe\">\n",
       "  <thead>\n",
       "    <tr style=\"text-align: right;\">\n",
       "      <th></th>\n",
       "      <th>Id</th>\n",
       "      <th>PID</th>\n",
       "      <th>MS SubClass</th>\n",
       "      <th>MS Zoning</th>\n",
       "      <th>Lot Frontage</th>\n",
       "      <th>Lot Area</th>\n",
       "      <th>Street</th>\n",
       "      <th>Alley</th>\n",
       "      <th>Lot Shape</th>\n",
       "      <th>Land Contour</th>\n",
       "      <th>...</th>\n",
       "      <th>Screen Porch</th>\n",
       "      <th>Pool Area</th>\n",
       "      <th>Pool QC</th>\n",
       "      <th>Fence</th>\n",
       "      <th>Misc Feature</th>\n",
       "      <th>Misc Val</th>\n",
       "      <th>Mo Sold</th>\n",
       "      <th>Yr Sold</th>\n",
       "      <th>Sale Type</th>\n",
       "      <th>SalePrice</th>\n",
       "    </tr>\n",
       "  </thead>\n",
       "  <tbody>\n",
       "    <tr>\n",
       "      <th>0</th>\n",
       "      <td>109</td>\n",
       "      <td>533352170</td>\n",
       "      <td>60</td>\n",
       "      <td>RL</td>\n",
       "      <td>NaN</td>\n",
       "      <td>13517</td>\n",
       "      <td>Pave</td>\n",
       "      <td>NaN</td>\n",
       "      <td>IR1</td>\n",
       "      <td>Lvl</td>\n",
       "      <td>...</td>\n",
       "      <td>0</td>\n",
       "      <td>0</td>\n",
       "      <td>NaN</td>\n",
       "      <td>NaN</td>\n",
       "      <td>NaN</td>\n",
       "      <td>0</td>\n",
       "      <td>3</td>\n",
       "      <td>2010</td>\n",
       "      <td>WD</td>\n",
       "      <td>130500</td>\n",
       "    </tr>\n",
       "    <tr>\n",
       "      <th>1</th>\n",
       "      <td>544</td>\n",
       "      <td>531379050</td>\n",
       "      <td>60</td>\n",
       "      <td>RL</td>\n",
       "      <td>43.0</td>\n",
       "      <td>11492</td>\n",
       "      <td>Pave</td>\n",
       "      <td>NaN</td>\n",
       "      <td>IR1</td>\n",
       "      <td>Lvl</td>\n",
       "      <td>...</td>\n",
       "      <td>0</td>\n",
       "      <td>0</td>\n",
       "      <td>NaN</td>\n",
       "      <td>NaN</td>\n",
       "      <td>NaN</td>\n",
       "      <td>0</td>\n",
       "      <td>4</td>\n",
       "      <td>2009</td>\n",
       "      <td>WD</td>\n",
       "      <td>220000</td>\n",
       "    </tr>\n",
       "    <tr>\n",
       "      <th>2</th>\n",
       "      <td>153</td>\n",
       "      <td>535304180</td>\n",
       "      <td>20</td>\n",
       "      <td>RL</td>\n",
       "      <td>68.0</td>\n",
       "      <td>7922</td>\n",
       "      <td>Pave</td>\n",
       "      <td>NaN</td>\n",
       "      <td>Reg</td>\n",
       "      <td>Lvl</td>\n",
       "      <td>...</td>\n",
       "      <td>0</td>\n",
       "      <td>0</td>\n",
       "      <td>NaN</td>\n",
       "      <td>NaN</td>\n",
       "      <td>NaN</td>\n",
       "      <td>0</td>\n",
       "      <td>1</td>\n",
       "      <td>2010</td>\n",
       "      <td>WD</td>\n",
       "      <td>109000</td>\n",
       "    </tr>\n",
       "    <tr>\n",
       "      <th>3</th>\n",
       "      <td>318</td>\n",
       "      <td>916386060</td>\n",
       "      <td>60</td>\n",
       "      <td>RL</td>\n",
       "      <td>73.0</td>\n",
       "      <td>9802</td>\n",
       "      <td>Pave</td>\n",
       "      <td>NaN</td>\n",
       "      <td>Reg</td>\n",
       "      <td>Lvl</td>\n",
       "      <td>...</td>\n",
       "      <td>0</td>\n",
       "      <td>0</td>\n",
       "      <td>NaN</td>\n",
       "      <td>NaN</td>\n",
       "      <td>NaN</td>\n",
       "      <td>0</td>\n",
       "      <td>4</td>\n",
       "      <td>2010</td>\n",
       "      <td>WD</td>\n",
       "      <td>174000</td>\n",
       "    </tr>\n",
       "    <tr>\n",
       "      <th>4</th>\n",
       "      <td>255</td>\n",
       "      <td>906425045</td>\n",
       "      <td>50</td>\n",
       "      <td>RL</td>\n",
       "      <td>82.0</td>\n",
       "      <td>14235</td>\n",
       "      <td>Pave</td>\n",
       "      <td>NaN</td>\n",
       "      <td>IR1</td>\n",
       "      <td>Lvl</td>\n",
       "      <td>...</td>\n",
       "      <td>0</td>\n",
       "      <td>0</td>\n",
       "      <td>NaN</td>\n",
       "      <td>NaN</td>\n",
       "      <td>NaN</td>\n",
       "      <td>0</td>\n",
       "      <td>3</td>\n",
       "      <td>2010</td>\n",
       "      <td>WD</td>\n",
       "      <td>138500</td>\n",
       "    </tr>\n",
       "  </tbody>\n",
       "</table>\n",
       "<p>5 rows × 81 columns</p>\n",
       "</div>"
      ],
      "text/plain": [
       "    Id        PID  MS SubClass MS Zoning  Lot Frontage  Lot Area Street Alley  \\\n",
       "0  109  533352170           60        RL           NaN     13517   Pave   NaN   \n",
       "1  544  531379050           60        RL          43.0     11492   Pave   NaN   \n",
       "2  153  535304180           20        RL          68.0      7922   Pave   NaN   \n",
       "3  318  916386060           60        RL          73.0      9802   Pave   NaN   \n",
       "4  255  906425045           50        RL          82.0     14235   Pave   NaN   \n",
       "\n",
       "  Lot Shape Land Contour  ... Screen Porch Pool Area Pool QC Fence  \\\n",
       "0       IR1          Lvl  ...            0         0     NaN   NaN   \n",
       "1       IR1          Lvl  ...            0         0     NaN   NaN   \n",
       "2       Reg          Lvl  ...            0         0     NaN   NaN   \n",
       "3       Reg          Lvl  ...            0         0     NaN   NaN   \n",
       "4       IR1          Lvl  ...            0         0     NaN   NaN   \n",
       "\n",
       "  Misc Feature Misc Val Mo Sold Yr Sold  Sale Type  SalePrice  \n",
       "0          NaN        0       3    2010        WD      130500  \n",
       "1          NaN        0       4    2009        WD      220000  \n",
       "2          NaN        0       1    2010        WD      109000  \n",
       "3          NaN        0       4    2010        WD      174000  \n",
       "4          NaN        0       3    2010        WD      138500  \n",
       "\n",
       "[5 rows x 81 columns]"
      ]
     },
     "execution_count": 3,
     "metadata": {},
     "output_type": "execute_result"
    }
   ],
   "source": [
    "train.head()"
   ]
  },
  {
   "cell_type": "code",
   "execution_count": 4,
   "metadata": {},
   "outputs": [
    {
     "data": {
      "text/html": [
       "<div>\n",
       "<style scoped>\n",
       "    .dataframe tbody tr th:only-of-type {\n",
       "        vertical-align: middle;\n",
       "    }\n",
       "\n",
       "    .dataframe tbody tr th {\n",
       "        vertical-align: top;\n",
       "    }\n",
       "\n",
       "    .dataframe thead th {\n",
       "        text-align: right;\n",
       "    }\n",
       "</style>\n",
       "<table border=\"1\" class=\"dataframe\">\n",
       "  <thead>\n",
       "    <tr style=\"text-align: right;\">\n",
       "      <th></th>\n",
       "      <th>Id</th>\n",
       "      <th>PID</th>\n",
       "      <th>MS SubClass</th>\n",
       "      <th>MS Zoning</th>\n",
       "      <th>Lot Frontage</th>\n",
       "      <th>Lot Area</th>\n",
       "      <th>Street</th>\n",
       "      <th>Alley</th>\n",
       "      <th>Lot Shape</th>\n",
       "      <th>Land Contour</th>\n",
       "      <th>...</th>\n",
       "      <th>3Ssn Porch</th>\n",
       "      <th>Screen Porch</th>\n",
       "      <th>Pool Area</th>\n",
       "      <th>Pool QC</th>\n",
       "      <th>Fence</th>\n",
       "      <th>Misc Feature</th>\n",
       "      <th>Misc Val</th>\n",
       "      <th>Mo Sold</th>\n",
       "      <th>Yr Sold</th>\n",
       "      <th>Sale Type</th>\n",
       "    </tr>\n",
       "  </thead>\n",
       "  <tbody>\n",
       "    <tr>\n",
       "      <th>0</th>\n",
       "      <td>2658</td>\n",
       "      <td>902301120</td>\n",
       "      <td>190</td>\n",
       "      <td>RM</td>\n",
       "      <td>69.0</td>\n",
       "      <td>9142</td>\n",
       "      <td>Pave</td>\n",
       "      <td>Grvl</td>\n",
       "      <td>Reg</td>\n",
       "      <td>Lvl</td>\n",
       "      <td>...</td>\n",
       "      <td>0</td>\n",
       "      <td>0</td>\n",
       "      <td>0</td>\n",
       "      <td>NaN</td>\n",
       "      <td>NaN</td>\n",
       "      <td>NaN</td>\n",
       "      <td>0</td>\n",
       "      <td>4</td>\n",
       "      <td>2006</td>\n",
       "      <td>WD</td>\n",
       "    </tr>\n",
       "    <tr>\n",
       "      <th>1</th>\n",
       "      <td>2718</td>\n",
       "      <td>905108090</td>\n",
       "      <td>90</td>\n",
       "      <td>RL</td>\n",
       "      <td>NaN</td>\n",
       "      <td>9662</td>\n",
       "      <td>Pave</td>\n",
       "      <td>NaN</td>\n",
       "      <td>IR1</td>\n",
       "      <td>Lvl</td>\n",
       "      <td>...</td>\n",
       "      <td>0</td>\n",
       "      <td>0</td>\n",
       "      <td>0</td>\n",
       "      <td>NaN</td>\n",
       "      <td>NaN</td>\n",
       "      <td>NaN</td>\n",
       "      <td>0</td>\n",
       "      <td>8</td>\n",
       "      <td>2006</td>\n",
       "      <td>WD</td>\n",
       "    </tr>\n",
       "    <tr>\n",
       "      <th>2</th>\n",
       "      <td>2414</td>\n",
       "      <td>528218130</td>\n",
       "      <td>60</td>\n",
       "      <td>RL</td>\n",
       "      <td>58.0</td>\n",
       "      <td>17104</td>\n",
       "      <td>Pave</td>\n",
       "      <td>NaN</td>\n",
       "      <td>IR1</td>\n",
       "      <td>Lvl</td>\n",
       "      <td>...</td>\n",
       "      <td>0</td>\n",
       "      <td>0</td>\n",
       "      <td>0</td>\n",
       "      <td>NaN</td>\n",
       "      <td>NaN</td>\n",
       "      <td>NaN</td>\n",
       "      <td>0</td>\n",
       "      <td>9</td>\n",
       "      <td>2006</td>\n",
       "      <td>New</td>\n",
       "    </tr>\n",
       "    <tr>\n",
       "      <th>3</th>\n",
       "      <td>1989</td>\n",
       "      <td>902207150</td>\n",
       "      <td>30</td>\n",
       "      <td>RM</td>\n",
       "      <td>60.0</td>\n",
       "      <td>8520</td>\n",
       "      <td>Pave</td>\n",
       "      <td>NaN</td>\n",
       "      <td>Reg</td>\n",
       "      <td>Lvl</td>\n",
       "      <td>...</td>\n",
       "      <td>0</td>\n",
       "      <td>0</td>\n",
       "      <td>0</td>\n",
       "      <td>NaN</td>\n",
       "      <td>NaN</td>\n",
       "      <td>NaN</td>\n",
       "      <td>0</td>\n",
       "      <td>7</td>\n",
       "      <td>2007</td>\n",
       "      <td>WD</td>\n",
       "    </tr>\n",
       "    <tr>\n",
       "      <th>4</th>\n",
       "      <td>625</td>\n",
       "      <td>535105100</td>\n",
       "      <td>20</td>\n",
       "      <td>RL</td>\n",
       "      <td>NaN</td>\n",
       "      <td>9500</td>\n",
       "      <td>Pave</td>\n",
       "      <td>NaN</td>\n",
       "      <td>IR1</td>\n",
       "      <td>Lvl</td>\n",
       "      <td>...</td>\n",
       "      <td>0</td>\n",
       "      <td>185</td>\n",
       "      <td>0</td>\n",
       "      <td>NaN</td>\n",
       "      <td>NaN</td>\n",
       "      <td>NaN</td>\n",
       "      <td>0</td>\n",
       "      <td>7</td>\n",
       "      <td>2009</td>\n",
       "      <td>WD</td>\n",
       "    </tr>\n",
       "  </tbody>\n",
       "</table>\n",
       "<p>5 rows × 80 columns</p>\n",
       "</div>"
      ],
      "text/plain": [
       "     Id        PID  MS SubClass MS Zoning  Lot Frontage  Lot Area Street  \\\n",
       "0  2658  902301120          190        RM          69.0      9142   Pave   \n",
       "1  2718  905108090           90        RL           NaN      9662   Pave   \n",
       "2  2414  528218130           60        RL          58.0     17104   Pave   \n",
       "3  1989  902207150           30        RM          60.0      8520   Pave   \n",
       "4   625  535105100           20        RL           NaN      9500   Pave   \n",
       "\n",
       "  Alley Lot Shape Land Contour  ... 3Ssn Porch Screen Porch Pool Area Pool QC  \\\n",
       "0  Grvl       Reg          Lvl  ...          0            0         0     NaN   \n",
       "1   NaN       IR1          Lvl  ...          0            0         0     NaN   \n",
       "2   NaN       IR1          Lvl  ...          0            0         0     NaN   \n",
       "3   NaN       Reg          Lvl  ...          0            0         0     NaN   \n",
       "4   NaN       IR1          Lvl  ...          0          185         0     NaN   \n",
       "\n",
       "  Fence Misc Feature Misc Val Mo Sold  Yr Sold  Sale Type  \n",
       "0   NaN          NaN        0       4     2006        WD   \n",
       "1   NaN          NaN        0       8     2006        WD   \n",
       "2   NaN          NaN        0       9     2006        New  \n",
       "3   NaN          NaN        0       7     2007        WD   \n",
       "4   NaN          NaN        0       7     2009        WD   \n",
       "\n",
       "[5 rows x 80 columns]"
      ]
     },
     "execution_count": 4,
     "metadata": {},
     "output_type": "execute_result"
    }
   ],
   "source": [
    "test.head()"
   ]
  },
  {
   "cell_type": "code",
   "execution_count": 5,
   "metadata": {},
   "outputs": [
    {
     "data": {
      "text/plain": [
       "(2051, 81)"
      ]
     },
     "execution_count": 5,
     "metadata": {},
     "output_type": "execute_result"
    }
   ],
   "source": [
    "train.shape"
   ]
  },
  {
   "cell_type": "code",
   "execution_count": 6,
   "metadata": {},
   "outputs": [
    {
     "data": {
      "text/plain": [
       "(879, 80)"
      ]
     },
     "execution_count": 6,
     "metadata": {},
     "output_type": "execute_result"
    }
   ],
   "source": [
    "test.shape"
   ]
  },
  {
   "cell_type": "code",
   "execution_count": 7,
   "metadata": {
    "scrolled": true
   },
   "outputs": [
    {
     "data": {
      "text/plain": [
       "Id                   0\n",
       "PID                  0\n",
       "MS SubClass          0\n",
       "MS Zoning            0\n",
       "Lot Frontage       330\n",
       "Lot Area             0\n",
       "Street               0\n",
       "Alley             1911\n",
       "Lot Shape            0\n",
       "Land Contour         0\n",
       "Utilities            0\n",
       "Lot Config           0\n",
       "Land Slope           0\n",
       "Neighborhood         0\n",
       "Condition 1          0\n",
       "Condition 2          0\n",
       "Bldg Type            0\n",
       "House Style          0\n",
       "Overall Qual         0\n",
       "Overall Cond         0\n",
       "Year Built           0\n",
       "Year Remod/Add       0\n",
       "Roof Style           0\n",
       "Roof Matl            0\n",
       "Exterior 1st         0\n",
       "Exterior 2nd         0\n",
       "Mas Vnr Type        22\n",
       "Mas Vnr Area        22\n",
       "Exter Qual           0\n",
       "Exter Cond           0\n",
       "                  ... \n",
       "Half Bath            0\n",
       "Bedroom AbvGr        0\n",
       "Kitchen AbvGr        0\n",
       "Kitchen Qual         0\n",
       "TotRms AbvGrd        0\n",
       "Functional           0\n",
       "Fireplaces           0\n",
       "Fireplace Qu      1000\n",
       "Garage Type        113\n",
       "Garage Yr Blt      114\n",
       "Garage Finish      114\n",
       "Garage Cars          1\n",
       "Garage Area          1\n",
       "Garage Qual        114\n",
       "Garage Cond        114\n",
       "Paved Drive          0\n",
       "Wood Deck SF         0\n",
       "Open Porch SF        0\n",
       "Enclosed Porch       0\n",
       "3Ssn Porch           0\n",
       "Screen Porch         0\n",
       "Pool Area            0\n",
       "Pool QC           2042\n",
       "Fence             1651\n",
       "Misc Feature      1986\n",
       "Misc Val             0\n",
       "Mo Sold              0\n",
       "Yr Sold              0\n",
       "Sale Type            0\n",
       "SalePrice            0\n",
       "Length: 81, dtype: int64"
      ]
     },
     "execution_count": 7,
     "metadata": {},
     "output_type": "execute_result"
    }
   ],
   "source": [
    "train.isnull().sum()"
   ]
  },
  {
   "cell_type": "code",
   "execution_count": 8,
   "metadata": {},
   "outputs": [],
   "source": [
    "features = ['Lot Area', 'Overall Qual', 'Overall Cond', 'Year Built',\n",
    "            'Year Remod/Add', '1st Flr SF', '2nd Flr SF', 'Low Qual Fin SF',\n",
    "            'Gr Liv Area', 'Full Bath', 'Half Bath', 'Bedroom AbvGr', \n",
    "            'Kitchen AbvGr', 'TotRms AbvGrd', 'Wood Deck SF', 'Open Porch SF', \n",
    "            'Pool Area']"
   ]
  },
  {
   "cell_type": "code",
   "execution_count": 9,
   "metadata": {},
   "outputs": [],
   "source": [
    "y = train['SalePrice']\n",
    "X = train[features]"
   ]
  },
  {
   "cell_type": "code",
   "execution_count": 10,
   "metadata": {},
   "outputs": [],
   "source": [
    "mlr = LinearRegression()"
   ]
  },
  {
   "cell_type": "code",
   "execution_count": 11,
   "metadata": {},
   "outputs": [
    {
     "data": {
      "text/plain": [
       "LinearRegression(copy_X=True, fit_intercept=True, n_jobs=None, normalize=False)"
      ]
     },
     "execution_count": 11,
     "metadata": {},
     "output_type": "execute_result"
    }
   ],
   "source": [
    "mlr.fit(X, y)"
   ]
  },
  {
   "cell_type": "code",
   "execution_count": 12,
   "metadata": {},
   "outputs": [],
   "source": [
    "predictions = mlr.predict(X)"
   ]
  },
  {
   "cell_type": "code",
   "execution_count": 13,
   "metadata": {},
   "outputs": [
    {
     "data": {
      "text/plain": [
       "35629.58430639573"
      ]
     },
     "execution_count": 13,
     "metadata": {},
     "output_type": "execute_result"
    }
   ],
   "source": [
    "metrics.mean_squared_error(y, predictions)\n",
    "\n",
    "rmse = np.sqrt(metrics.mean_squared_error(y, predictions))\n",
    "rmse"
   ]
  },
  {
   "cell_type": "code",
   "execution_count": 14,
   "metadata": {},
   "outputs": [],
   "source": [
    "first_submission = pd.DataFrame()\n",
    "\n",
    "first_submission['Id'] = test['Id']\n",
    "first_submission['SalePrice'] = mlr.predict(test[features])"
   ]
  },
  {
   "cell_type": "code",
   "execution_count": 15,
   "metadata": {},
   "outputs": [
    {
     "data": {
      "text/html": [
       "<div>\n",
       "<style scoped>\n",
       "    .dataframe tbody tr th:only-of-type {\n",
       "        vertical-align: middle;\n",
       "    }\n",
       "\n",
       "    .dataframe tbody tr th {\n",
       "        vertical-align: top;\n",
       "    }\n",
       "\n",
       "    .dataframe thead th {\n",
       "        text-align: right;\n",
       "    }\n",
       "</style>\n",
       "<table border=\"1\" class=\"dataframe\">\n",
       "  <thead>\n",
       "    <tr style=\"text-align: right;\">\n",
       "      <th></th>\n",
       "      <th>Id</th>\n",
       "      <th>SalePrice</th>\n",
       "    </tr>\n",
       "  </thead>\n",
       "  <tbody>\n",
       "    <tr>\n",
       "      <th>0</th>\n",
       "      <td>2658</td>\n",
       "      <td>140668.912393</td>\n",
       "    </tr>\n",
       "    <tr>\n",
       "      <th>1</th>\n",
       "      <td>2718</td>\n",
       "      <td>168352.685129</td>\n",
       "    </tr>\n",
       "    <tr>\n",
       "      <th>2</th>\n",
       "      <td>2414</td>\n",
       "      <td>209495.347031</td>\n",
       "    </tr>\n",
       "    <tr>\n",
       "      <th>3</th>\n",
       "      <td>1989</td>\n",
       "      <td>109410.302331</td>\n",
       "    </tr>\n",
       "    <tr>\n",
       "      <th>4</th>\n",
       "      <td>625</td>\n",
       "      <td>166893.197599</td>\n",
       "    </tr>\n",
       "  </tbody>\n",
       "</table>\n",
       "</div>"
      ],
      "text/plain": [
       "     Id      SalePrice\n",
       "0  2658  140668.912393\n",
       "1  2718  168352.685129\n",
       "2  2414  209495.347031\n",
       "3  1989  109410.302331\n",
       "4   625  166893.197599"
      ]
     },
     "execution_count": 15,
     "metadata": {},
     "output_type": "execute_result"
    }
   ],
   "source": [
    "first_submission.head()"
   ]
  },
  {
   "cell_type": "code",
   "execution_count": 16,
   "metadata": {},
   "outputs": [],
   "source": [
    "first_submission.to_csv('./datasets/first_submission.csv', index = False)"
   ]
  },
  {
   "cell_type": "markdown",
   "metadata": {},
   "source": [
    "# Second Submission"
   ]
  },
  {
   "cell_type": "code",
   "execution_count": 17,
   "metadata": {
    "scrolled": true
   },
   "outputs": [
    {
     "data": {
      "text/html": [
       "<div>\n",
       "<style scoped>\n",
       "    .dataframe tbody tr th:only-of-type {\n",
       "        vertical-align: middle;\n",
       "    }\n",
       "\n",
       "    .dataframe tbody tr th {\n",
       "        vertical-align: top;\n",
       "    }\n",
       "\n",
       "    .dataframe thead th {\n",
       "        text-align: right;\n",
       "    }\n",
       "</style>\n",
       "<table border=\"1\" class=\"dataframe\">\n",
       "  <thead>\n",
       "    <tr style=\"text-align: right;\">\n",
       "      <th></th>\n",
       "      <th>Id</th>\n",
       "      <th>PID</th>\n",
       "      <th>MS SubClass</th>\n",
       "      <th>Lot Frontage</th>\n",
       "      <th>Lot Area</th>\n",
       "      <th>Overall Qual</th>\n",
       "      <th>Overall Cond</th>\n",
       "      <th>Year Built</th>\n",
       "      <th>Year Remod/Add</th>\n",
       "      <th>Mas Vnr Area</th>\n",
       "      <th>...</th>\n",
       "      <th>Wood Deck SF</th>\n",
       "      <th>Open Porch SF</th>\n",
       "      <th>Enclosed Porch</th>\n",
       "      <th>3Ssn Porch</th>\n",
       "      <th>Screen Porch</th>\n",
       "      <th>Pool Area</th>\n",
       "      <th>Misc Val</th>\n",
       "      <th>Mo Sold</th>\n",
       "      <th>Yr Sold</th>\n",
       "      <th>SalePrice</th>\n",
       "    </tr>\n",
       "  </thead>\n",
       "  <tbody>\n",
       "    <tr>\n",
       "      <th>SalePrice</th>\n",
       "      <td>-0.051398</td>\n",
       "      <td>-0.255052</td>\n",
       "      <td>-0.087335</td>\n",
       "      <td>0.341842</td>\n",
       "      <td>0.296566</td>\n",
       "      <td>0.800207</td>\n",
       "      <td>-0.097019</td>\n",
       "      <td>0.571849</td>\n",
       "      <td>0.550370</td>\n",
       "      <td>0.512230</td>\n",
       "      <td>...</td>\n",
       "      <td>0.326490</td>\n",
       "      <td>0.333476</td>\n",
       "      <td>-0.135656</td>\n",
       "      <td>0.048732</td>\n",
       "      <td>0.134581</td>\n",
       "      <td>0.023106</td>\n",
       "      <td>-0.007375</td>\n",
       "      <td>0.032735</td>\n",
       "      <td>-0.015203</td>\n",
       "      <td>1.000000</td>\n",
       "    </tr>\n",
       "    <tr>\n",
       "      <th>Overall Qual</th>\n",
       "      <td>-0.061483</td>\n",
       "      <td>-0.265863</td>\n",
       "      <td>0.035763</td>\n",
       "      <td>0.194808</td>\n",
       "      <td>0.105824</td>\n",
       "      <td>1.000000</td>\n",
       "      <td>-0.082770</td>\n",
       "      <td>0.602964</td>\n",
       "      <td>0.584654</td>\n",
       "      <td>0.438685</td>\n",
       "      <td>...</td>\n",
       "      <td>0.257081</td>\n",
       "      <td>0.308855</td>\n",
       "      <td>-0.154554</td>\n",
       "      <td>0.031938</td>\n",
       "      <td>0.048752</td>\n",
       "      <td>0.006558</td>\n",
       "      <td>0.022099</td>\n",
       "      <td>0.019242</td>\n",
       "      <td>-0.011578</td>\n",
       "      <td>0.800207</td>\n",
       "    </tr>\n",
       "    <tr>\n",
       "      <th>Gr Liv Area</th>\n",
       "      <td>-0.023881</td>\n",
       "      <td>-0.112936</td>\n",
       "      <td>0.068210</td>\n",
       "      <td>0.383856</td>\n",
       "      <td>0.327427</td>\n",
       "      <td>0.566701</td>\n",
       "      <td>-0.109804</td>\n",
       "      <td>0.258838</td>\n",
       "      <td>0.322407</td>\n",
       "      <td>0.387833</td>\n",
       "      <td>...</td>\n",
       "      <td>0.270239</td>\n",
       "      <td>0.345008</td>\n",
       "      <td>-0.007777</td>\n",
       "      <td>0.024504</td>\n",
       "      <td>0.101926</td>\n",
       "      <td>0.113034</td>\n",
       "      <td>0.113673</td>\n",
       "      <td>0.049644</td>\n",
       "      <td>-0.015891</td>\n",
       "      <td>0.697038</td>\n",
       "    </tr>\n",
       "    <tr>\n",
       "      <th>Garage Area</th>\n",
       "      <td>-0.045201</td>\n",
       "      <td>-0.200891</td>\n",
       "      <td>-0.108228</td>\n",
       "      <td>0.358457</td>\n",
       "      <td>0.263296</td>\n",
       "      <td>0.563814</td>\n",
       "      <td>-0.137917</td>\n",
       "      <td>0.487177</td>\n",
       "      <td>0.398999</td>\n",
       "      <td>0.384718</td>\n",
       "      <td>...</td>\n",
       "      <td>0.245513</td>\n",
       "      <td>0.247222</td>\n",
       "      <td>-0.112353</td>\n",
       "      <td>0.043918</td>\n",
       "      <td>0.071067</td>\n",
       "      <td>0.045876</td>\n",
       "      <td>0.033641</td>\n",
       "      <td>0.009964</td>\n",
       "      <td>-0.003589</td>\n",
       "      <td>0.650270</td>\n",
       "    </tr>\n",
       "    <tr>\n",
       "      <th>Garage Cars</th>\n",
       "      <td>-0.048666</td>\n",
       "      <td>-0.228368</td>\n",
       "      <td>-0.049148</td>\n",
       "      <td>0.297143</td>\n",
       "      <td>0.214954</td>\n",
       "      <td>0.587423</td>\n",
       "      <td>-0.168513</td>\n",
       "      <td>0.542544</td>\n",
       "      <td>0.441796</td>\n",
       "      <td>0.361211</td>\n",
       "      <td>...</td>\n",
       "      <td>0.240721</td>\n",
       "      <td>0.215364</td>\n",
       "      <td>-0.139608</td>\n",
       "      <td>0.028393</td>\n",
       "      <td>0.053582</td>\n",
       "      <td>0.021566</td>\n",
       "      <td>0.003053</td>\n",
       "      <td>0.020801</td>\n",
       "      <td>-0.009996</td>\n",
       "      <td>0.648220</td>\n",
       "    </tr>\n",
       "    <tr>\n",
       "      <th>Total Bsmt SF</th>\n",
       "      <td>-0.038346</td>\n",
       "      <td>-0.203795</td>\n",
       "      <td>-0.226038</td>\n",
       "      <td>0.356584</td>\n",
       "      <td>0.277175</td>\n",
       "      <td>0.548742</td>\n",
       "      <td>-0.158643</td>\n",
       "      <td>0.410254</td>\n",
       "      <td>0.308545</td>\n",
       "      <td>0.408575</td>\n",
       "      <td>...</td>\n",
       "      <td>0.224659</td>\n",
       "      <td>0.257227</td>\n",
       "      <td>-0.088055</td>\n",
       "      <td>0.060283</td>\n",
       "      <td>0.076061</td>\n",
       "      <td>0.061503</td>\n",
       "      <td>0.125600</td>\n",
       "      <td>0.003915</td>\n",
       "      <td>-0.004280</td>\n",
       "      <td>0.628925</td>\n",
       "    </tr>\n",
       "    <tr>\n",
       "      <th>1st Flr SF</th>\n",
       "      <td>-0.022650</td>\n",
       "      <td>-0.145862</td>\n",
       "      <td>-0.246212</td>\n",
       "      <td>0.463900</td>\n",
       "      <td>0.381593</td>\n",
       "      <td>0.477136</td>\n",
       "      <td>-0.150938</td>\n",
       "      <td>0.323315</td>\n",
       "      <td>0.244190</td>\n",
       "      <td>0.391349</td>\n",
       "      <td>...</td>\n",
       "      <td>0.226243</td>\n",
       "      <td>0.259072</td>\n",
       "      <td>-0.044032</td>\n",
       "      <td>0.066991</td>\n",
       "      <td>0.089140</td>\n",
       "      <td>0.129995</td>\n",
       "      <td>0.139496</td>\n",
       "      <td>0.027038</td>\n",
       "      <td>-0.007432</td>\n",
       "      <td>0.618486</td>\n",
       "    </tr>\n",
       "    <tr>\n",
       "      <th>Year Built</th>\n",
       "      <td>-0.064444</td>\n",
       "      <td>-0.347039</td>\n",
       "      <td>0.035983</td>\n",
       "      <td>0.109504</td>\n",
       "      <td>0.036002</td>\n",
       "      <td>0.602964</td>\n",
       "      <td>-0.370988</td>\n",
       "      <td>1.000000</td>\n",
       "      <td>0.629116</td>\n",
       "      <td>0.329741</td>\n",
       "      <td>...</td>\n",
       "      <td>0.216339</td>\n",
       "      <td>0.207798</td>\n",
       "      <td>-0.380082</td>\n",
       "      <td>0.016104</td>\n",
       "      <td>-0.037866</td>\n",
       "      <td>0.003728</td>\n",
       "      <td>0.000626</td>\n",
       "      <td>-0.007083</td>\n",
       "      <td>-0.003559</td>\n",
       "      <td>0.571849</td>\n",
       "    </tr>\n",
       "    <tr>\n",
       "      <th>Year Remod/Add</th>\n",
       "      <td>-0.090040</td>\n",
       "      <td>-0.176666</td>\n",
       "      <td>0.044836</td>\n",
       "      <td>0.085052</td>\n",
       "      <td>0.050771</td>\n",
       "      <td>0.584654</td>\n",
       "      <td>0.042614</td>\n",
       "      <td>0.629116</td>\n",
       "      <td>1.000000</td>\n",
       "      <td>0.211443</td>\n",
       "      <td>...</td>\n",
       "      <td>0.216271</td>\n",
       "      <td>0.264476</td>\n",
       "      <td>-0.237523</td>\n",
       "      <td>0.040416</td>\n",
       "      <td>-0.041211</td>\n",
       "      <td>-0.022382</td>\n",
       "      <td>-0.001704</td>\n",
       "      <td>0.011568</td>\n",
       "      <td>0.042744</td>\n",
       "      <td>0.550370</td>\n",
       "    </tr>\n",
       "    <tr>\n",
       "      <th>Full Bath</th>\n",
       "      <td>-0.059086</td>\n",
       "      <td>-0.179370</td>\n",
       "      <td>0.142087</td>\n",
       "      <td>0.152812</td>\n",
       "      <td>0.125601</td>\n",
       "      <td>0.515080</td>\n",
       "      <td>-0.219189</td>\n",
       "      <td>0.480169</td>\n",
       "      <td>0.471555</td>\n",
       "      <td>0.240034</td>\n",
       "      <td>...</td>\n",
       "      <td>0.175502</td>\n",
       "      <td>0.244452</td>\n",
       "      <td>-0.125383</td>\n",
       "      <td>0.027870</td>\n",
       "      <td>-0.014296</td>\n",
       "      <td>0.010458</td>\n",
       "      <td>0.003293</td>\n",
       "      <td>0.049390</td>\n",
       "      <td>0.007140</td>\n",
       "      <td>0.537969</td>\n",
       "    </tr>\n",
       "    <tr>\n",
       "      <th>Garage Yr Blt</th>\n",
       "      <td>-0.050730</td>\n",
       "      <td>-0.251257</td>\n",
       "      <td>0.084954</td>\n",
       "      <td>0.067865</td>\n",
       "      <td>0.004882</td>\n",
       "      <td>0.574553</td>\n",
       "      <td>-0.331765</td>\n",
       "      <td>0.825316</td>\n",
       "      <td>0.674024</td>\n",
       "      <td>0.266763</td>\n",
       "      <td>...</td>\n",
       "      <td>0.221800</td>\n",
       "      <td>0.225691</td>\n",
       "      <td>-0.296218</td>\n",
       "      <td>0.025013</td>\n",
       "      <td>-0.054368</td>\n",
       "      <td>-0.013425</td>\n",
       "      <td>0.004736</td>\n",
       "      <td>0.013538</td>\n",
       "      <td>-0.005346</td>\n",
       "      <td>0.533922</td>\n",
       "    </tr>\n",
       "    <tr>\n",
       "      <th>Mas Vnr Area</th>\n",
       "      <td>-0.035493</td>\n",
       "      <td>-0.247959</td>\n",
       "      <td>-0.004047</td>\n",
       "      <td>0.218218</td>\n",
       "      <td>0.169379</td>\n",
       "      <td>0.438685</td>\n",
       "      <td>-0.135878</td>\n",
       "      <td>0.329741</td>\n",
       "      <td>0.211443</td>\n",
       "      <td>1.000000</td>\n",
       "      <td>...</td>\n",
       "      <td>0.163584</td>\n",
       "      <td>0.163489</td>\n",
       "      <td>-0.107104</td>\n",
       "      <td>0.011161</td>\n",
       "      <td>0.086631</td>\n",
       "      <td>0.012422</td>\n",
       "      <td>0.079219</td>\n",
       "      <td>-0.001472</td>\n",
       "      <td>-0.018719</td>\n",
       "      <td>0.512230</td>\n",
       "    </tr>\n",
       "    <tr>\n",
       "      <th>TotRms AbvGrd</th>\n",
       "      <td>-0.009092</td>\n",
       "      <td>-0.084999</td>\n",
       "      <td>0.034490</td>\n",
       "      <td>0.362704</td>\n",
       "      <td>0.238724</td>\n",
       "      <td>0.382025</td>\n",
       "      <td>-0.093576</td>\n",
       "      <td>0.137783</td>\n",
       "      <td>0.202397</td>\n",
       "      <td>0.273359</td>\n",
       "      <td>...</td>\n",
       "      <td>0.182835</td>\n",
       "      <td>0.226346</td>\n",
       "      <td>0.005521</td>\n",
       "      <td>-0.008101</td>\n",
       "      <td>0.046329</td>\n",
       "      <td>0.072500</td>\n",
       "      <td>0.100175</td>\n",
       "      <td>0.054154</td>\n",
       "      <td>-0.022041</td>\n",
       "      <td>0.504014</td>\n",
       "    </tr>\n",
       "    <tr>\n",
       "      <th>Fireplaces</th>\n",
       "      <td>-0.037560</td>\n",
       "      <td>-0.120710</td>\n",
       "      <td>-0.055118</td>\n",
       "      <td>0.253456</td>\n",
       "      <td>0.289467</td>\n",
       "      <td>0.388920</td>\n",
       "      <td>-0.006463</td>\n",
       "      <td>0.168848</td>\n",
       "      <td>0.138858</td>\n",
       "      <td>0.269104</td>\n",
       "      <td>...</td>\n",
       "      <td>0.238887</td>\n",
       "      <td>0.169169</td>\n",
       "      <td>0.009368</td>\n",
       "      <td>0.026411</td>\n",
       "      <td>0.167071</td>\n",
       "      <td>0.107769</td>\n",
       "      <td>0.023372</td>\n",
       "      <td>0.018228</td>\n",
       "      <td>0.006887</td>\n",
       "      <td>0.471093</td>\n",
       "    </tr>\n",
       "    <tr>\n",
       "      <th>BsmtFin SF 1</th>\n",
       "      <td>-0.045878</td>\n",
       "      <td>-0.086522</td>\n",
       "      <td>-0.060854</td>\n",
       "      <td>0.214178</td>\n",
       "      <td>0.215430</td>\n",
       "      <td>0.278742</td>\n",
       "      <td>-0.045768</td>\n",
       "      <td>0.275440</td>\n",
       "      <td>0.166680</td>\n",
       "      <td>0.321807</td>\n",
       "      <td>...</td>\n",
       "      <td>0.214274</td>\n",
       "      <td>0.140286</td>\n",
       "      <td>-0.076963</td>\n",
       "      <td>0.047719</td>\n",
       "      <td>0.093226</td>\n",
       "      <td>0.075925</td>\n",
       "      <td>0.130042</td>\n",
       "      <td>-0.010534</td>\n",
       "      <td>0.037978</td>\n",
       "      <td>0.423519</td>\n",
       "    </tr>\n",
       "    <tr>\n",
       "      <th>Lot Frontage</th>\n",
       "      <td>-0.024967</td>\n",
       "      <td>-0.091291</td>\n",
       "      <td>-0.389790</td>\n",
       "      <td>1.000000</td>\n",
       "      <td>0.574024</td>\n",
       "      <td>0.194808</td>\n",
       "      <td>-0.054455</td>\n",
       "      <td>0.109504</td>\n",
       "      <td>0.085052</td>\n",
       "      <td>0.218218</td>\n",
       "      <td>...</td>\n",
       "      <td>0.115180</td>\n",
       "      <td>0.184958</td>\n",
       "      <td>-0.003302</td>\n",
       "      <td>0.031855</td>\n",
       "      <td>0.074819</td>\n",
       "      <td>0.156575</td>\n",
       "      <td>0.051676</td>\n",
       "      <td>-0.017389</td>\n",
       "      <td>0.009112</td>\n",
       "      <td>0.341842</td>\n",
       "    </tr>\n",
       "    <tr>\n",
       "      <th>Open Porch SF</th>\n",
       "      <td>0.001382</td>\n",
       "      <td>-0.081129</td>\n",
       "      <td>-0.020289</td>\n",
       "      <td>0.184958</td>\n",
       "      <td>0.140864</td>\n",
       "      <td>0.308855</td>\n",
       "      <td>-0.052266</td>\n",
       "      <td>0.207798</td>\n",
       "      <td>0.264476</td>\n",
       "      <td>0.163489</td>\n",
       "      <td>...</td>\n",
       "      <td>0.047630</td>\n",
       "      <td>1.000000</td>\n",
       "      <td>-0.077019</td>\n",
       "      <td>-0.007336</td>\n",
       "      <td>0.059027</td>\n",
       "      <td>0.073965</td>\n",
       "      <td>0.109919</td>\n",
       "      <td>0.043632</td>\n",
       "      <td>-0.025895</td>\n",
       "      <td>0.333476</td>\n",
       "    </tr>\n",
       "    <tr>\n",
       "      <th>Wood Deck SF</th>\n",
       "      <td>-0.009045</td>\n",
       "      <td>-0.041221</td>\n",
       "      <td>0.001622</td>\n",
       "      <td>0.115180</td>\n",
       "      <td>0.155623</td>\n",
       "      <td>0.257081</td>\n",
       "      <td>0.011034</td>\n",
       "      <td>0.216339</td>\n",
       "      <td>0.216271</td>\n",
       "      <td>0.163584</td>\n",
       "      <td>...</td>\n",
       "      <td>1.000000</td>\n",
       "      <td>0.047630</td>\n",
       "      <td>-0.114079</td>\n",
       "      <td>-0.010851</td>\n",
       "      <td>-0.067770</td>\n",
       "      <td>0.128373</td>\n",
       "      <td>0.085091</td>\n",
       "      <td>0.018500</td>\n",
       "      <td>-0.000912</td>\n",
       "      <td>0.326490</td>\n",
       "    </tr>\n",
       "    <tr>\n",
       "      <th>Lot Area</th>\n",
       "      <td>0.032872</td>\n",
       "      <td>0.024135</td>\n",
       "      <td>-0.245484</td>\n",
       "      <td>0.574024</td>\n",
       "      <td>1.000000</td>\n",
       "      <td>0.105824</td>\n",
       "      <td>-0.019185</td>\n",
       "      <td>0.036002</td>\n",
       "      <td>0.050771</td>\n",
       "      <td>0.169379</td>\n",
       "      <td>...</td>\n",
       "      <td>0.155623</td>\n",
       "      <td>0.140864</td>\n",
       "      <td>0.014139</td>\n",
       "      <td>0.019553</td>\n",
       "      <td>0.067714</td>\n",
       "      <td>0.115102</td>\n",
       "      <td>0.093922</td>\n",
       "      <td>0.003197</td>\n",
       "      <td>-0.029454</td>\n",
       "      <td>0.296566</td>\n",
       "    </tr>\n",
       "    <tr>\n",
       "      <th>Bsmt Full Bath</th>\n",
       "      <td>-0.033385</td>\n",
       "      <td>-0.030554</td>\n",
       "      <td>0.025055</td>\n",
       "      <td>0.111441</td>\n",
       "      <td>0.116128</td>\n",
       "      <td>0.175171</td>\n",
       "      <td>-0.039113</td>\n",
       "      <td>0.215200</td>\n",
       "      <td>0.153507</td>\n",
       "      <td>0.148049</td>\n",
       "      <td>...</td>\n",
       "      <td>0.196886</td>\n",
       "      <td>0.090170</td>\n",
       "      <td>-0.073358</td>\n",
       "      <td>0.022972</td>\n",
       "      <td>0.055399</td>\n",
       "      <td>0.043704</td>\n",
       "      <td>-0.003515</td>\n",
       "      <td>-0.009609</td>\n",
       "      <td>0.035344</td>\n",
       "      <td>0.283662</td>\n",
       "    </tr>\n",
       "    <tr>\n",
       "      <th>Half Bath</th>\n",
       "      <td>-0.042054</td>\n",
       "      <td>-0.163975</td>\n",
       "      <td>0.179404</td>\n",
       "      <td>0.035842</td>\n",
       "      <td>0.049995</td>\n",
       "      <td>0.274859</td>\n",
       "      <td>-0.093266</td>\n",
       "      <td>0.283207</td>\n",
       "      <td>0.224106</td>\n",
       "      <td>0.192687</td>\n",
       "      <td>...</td>\n",
       "      <td>0.125241</td>\n",
       "      <td>0.181469</td>\n",
       "      <td>-0.100591</td>\n",
       "      <td>-0.027131</td>\n",
       "      <td>0.046712</td>\n",
       "      <td>0.001294</td>\n",
       "      <td>0.055789</td>\n",
       "      <td>0.010521</td>\n",
       "      <td>0.001987</td>\n",
       "      <td>0.283001</td>\n",
       "    </tr>\n",
       "    <tr>\n",
       "      <th>2nd Flr SF</th>\n",
       "      <td>-0.008388</td>\n",
       "      <td>-0.005598</td>\n",
       "      <td>0.305771</td>\n",
       "      <td>0.013700</td>\n",
       "      <td>0.029398</td>\n",
       "      <td>0.228152</td>\n",
       "      <td>0.010912</td>\n",
       "      <td>0.022313</td>\n",
       "      <td>0.159605</td>\n",
       "      <td>0.100568</td>\n",
       "      <td>...</td>\n",
       "      <td>0.109070</td>\n",
       "      <td>0.165080</td>\n",
       "      <td>0.021083</td>\n",
       "      <td>-0.033167</td>\n",
       "      <td>0.035105</td>\n",
       "      <td>0.012642</td>\n",
       "      <td>0.004413</td>\n",
       "      <td>0.030248</td>\n",
       "      <td>-0.011915</td>\n",
       "      <td>0.248452</td>\n",
       "    </tr>\n",
       "    <tr>\n",
       "      <th>Bsmt Unf SF</th>\n",
       "      <td>0.008555</td>\n",
       "      <td>-0.111281</td>\n",
       "      <td>-0.139911</td>\n",
       "      <td>0.127605</td>\n",
       "      <td>0.041184</td>\n",
       "      <td>0.275773</td>\n",
       "      <td>-0.130521</td>\n",
       "      <td>0.136662</td>\n",
       "      <td>0.160066</td>\n",
       "      <td>0.085853</td>\n",
       "      <td>...</td>\n",
       "      <td>-0.034438</td>\n",
       "      <td>0.116019</td>\n",
       "      <td>-0.010847</td>\n",
       "      <td>0.020409</td>\n",
       "      <td>-0.055558</td>\n",
       "      <td>-0.039209</td>\n",
       "      <td>-0.005888</td>\n",
       "      <td>0.020043</td>\n",
       "      <td>-0.043683</td>\n",
       "      <td>0.190210</td>\n",
       "    </tr>\n",
       "    <tr>\n",
       "      <th>Bedroom AbvGr</th>\n",
       "      <td>0.010605</td>\n",
       "      <td>0.009122</td>\n",
       "      <td>-0.003516</td>\n",
       "      <td>0.220414</td>\n",
       "      <td>0.139060</td>\n",
       "      <td>0.053373</td>\n",
       "      <td>-0.009908</td>\n",
       "      <td>-0.042149</td>\n",
       "      <td>-0.019748</td>\n",
       "      <td>0.054589</td>\n",
       "      <td>...</td>\n",
       "      <td>0.034758</td>\n",
       "      <td>0.053433</td>\n",
       "      <td>0.033030</td>\n",
       "      <td>-0.033802</td>\n",
       "      <td>0.019606</td>\n",
       "      <td>0.027438</td>\n",
       "      <td>0.012274</td>\n",
       "      <td>0.068281</td>\n",
       "      <td>-0.011692</td>\n",
       "      <td>0.137067</td>\n",
       "    </tr>\n",
       "    <tr>\n",
       "      <th>Screen Porch</th>\n",
       "      <td>0.009758</td>\n",
       "      <td>-0.042030</td>\n",
       "      <td>-0.038819</td>\n",
       "      <td>0.074819</td>\n",
       "      <td>0.067714</td>\n",
       "      <td>0.048752</td>\n",
       "      <td>0.047359</td>\n",
       "      <td>-0.037866</td>\n",
       "      <td>-0.041211</td>\n",
       "      <td>0.086631</td>\n",
       "      <td>...</td>\n",
       "      <td>-0.067770</td>\n",
       "      <td>0.059027</td>\n",
       "      <td>-0.069049</td>\n",
       "      <td>-0.029574</td>\n",
       "      <td>1.000000</td>\n",
       "      <td>0.033114</td>\n",
       "      <td>0.007122</td>\n",
       "      <td>0.029329</td>\n",
       "      <td>-0.017624</td>\n",
       "      <td>0.134581</td>\n",
       "    </tr>\n",
       "    <tr>\n",
       "      <th>3Ssn Porch</th>\n",
       "      <td>-0.022791</td>\n",
       "      <td>-0.024679</td>\n",
       "      <td>-0.030088</td>\n",
       "      <td>0.031855</td>\n",
       "      <td>0.019553</td>\n",
       "      <td>0.031938</td>\n",
       "      <td>0.026907</td>\n",
       "      <td>0.016104</td>\n",
       "      <td>0.040416</td>\n",
       "      <td>0.011161</td>\n",
       "      <td>...</td>\n",
       "      <td>-0.010851</td>\n",
       "      <td>-0.007336</td>\n",
       "      <td>-0.032145</td>\n",
       "      <td>1.000000</td>\n",
       "      <td>-0.029574</td>\n",
       "      <td>-0.006522</td>\n",
       "      <td>-0.004887</td>\n",
       "      <td>0.020036</td>\n",
       "      <td>0.019424</td>\n",
       "      <td>0.048732</td>\n",
       "    </tr>\n",
       "    <tr>\n",
       "      <th>Mo Sold</th>\n",
       "      <td>0.127723</td>\n",
       "      <td>-0.032735</td>\n",
       "      <td>0.013027</td>\n",
       "      <td>-0.017389</td>\n",
       "      <td>0.003197</td>\n",
       "      <td>0.019242</td>\n",
       "      <td>-0.003144</td>\n",
       "      <td>-0.007083</td>\n",
       "      <td>0.011568</td>\n",
       "      <td>-0.001472</td>\n",
       "      <td>...</td>\n",
       "      <td>0.018500</td>\n",
       "      <td>0.043632</td>\n",
       "      <td>0.004455</td>\n",
       "      <td>0.020036</td>\n",
       "      <td>0.029329</td>\n",
       "      <td>-0.043118</td>\n",
       "      <td>0.019483</td>\n",
       "      <td>1.000000</td>\n",
       "      <td>-0.147494</td>\n",
       "      <td>0.032735</td>\n",
       "    </tr>\n",
       "    <tr>\n",
       "      <th>Pool Area</th>\n",
       "      <td>0.055696</td>\n",
       "      <td>0.005825</td>\n",
       "      <td>-0.004585</td>\n",
       "      <td>0.156575</td>\n",
       "      <td>0.115102</td>\n",
       "      <td>0.006558</td>\n",
       "      <td>-0.005806</td>\n",
       "      <td>0.003728</td>\n",
       "      <td>-0.022382</td>\n",
       "      <td>0.012422</td>\n",
       "      <td>...</td>\n",
       "      <td>0.128373</td>\n",
       "      <td>0.073965</td>\n",
       "      <td>-0.015636</td>\n",
       "      <td>-0.006522</td>\n",
       "      <td>0.033114</td>\n",
       "      <td>1.000000</td>\n",
       "      <td>0.017661</td>\n",
       "      <td>-0.043118</td>\n",
       "      <td>-0.053768</td>\n",
       "      <td>0.023106</td>\n",
       "    </tr>\n",
       "    <tr>\n",
       "      <th>BsmtFin SF 2</th>\n",
       "      <td>0.000723</td>\n",
       "      <td>-0.013144</td>\n",
       "      <td>-0.068265</td>\n",
       "      <td>0.036740</td>\n",
       "      <td>0.041717</td>\n",
       "      <td>-0.028199</td>\n",
       "      <td>0.047810</td>\n",
       "      <td>-0.021031</td>\n",
       "      <td>-0.057163</td>\n",
       "      <td>-0.016756</td>\n",
       "      <td>...</td>\n",
       "      <td>0.105836</td>\n",
       "      <td>-0.004382</td>\n",
       "      <td>0.004540</td>\n",
       "      <td>-0.024225</td>\n",
       "      <td>0.096405</td>\n",
       "      <td>0.061026</td>\n",
       "      <td>-0.005515</td>\n",
       "      <td>-0.013945</td>\n",
       "      <td>-0.000013</td>\n",
       "      <td>0.016255</td>\n",
       "    </tr>\n",
       "    <tr>\n",
       "      <th>Misc Val</th>\n",
       "      <td>-0.012683</td>\n",
       "      <td>0.004223</td>\n",
       "      <td>-0.027485</td>\n",
       "      <td>0.051676</td>\n",
       "      <td>0.093922</td>\n",
       "      <td>0.022099</td>\n",
       "      <td>0.014269</td>\n",
       "      <td>0.000626</td>\n",
       "      <td>-0.001704</td>\n",
       "      <td>0.079219</td>\n",
       "      <td>...</td>\n",
       "      <td>0.085091</td>\n",
       "      <td>0.109919</td>\n",
       "      <td>0.015049</td>\n",
       "      <td>-0.004887</td>\n",
       "      <td>0.007122</td>\n",
       "      <td>0.017661</td>\n",
       "      <td>1.000000</td>\n",
       "      <td>0.019483</td>\n",
       "      <td>0.017269</td>\n",
       "      <td>-0.007375</td>\n",
       "    </tr>\n",
       "    <tr>\n",
       "      <th>Yr Sold</th>\n",
       "      <td>-0.975747</td>\n",
       "      <td>0.008476</td>\n",
       "      <td>-0.032870</td>\n",
       "      <td>0.009112</td>\n",
       "      <td>-0.029454</td>\n",
       "      <td>-0.011578</td>\n",
       "      <td>0.047664</td>\n",
       "      <td>-0.003559</td>\n",
       "      <td>0.042744</td>\n",
       "      <td>-0.018719</td>\n",
       "      <td>...</td>\n",
       "      <td>-0.000912</td>\n",
       "      <td>-0.025895</td>\n",
       "      <td>-0.006256</td>\n",
       "      <td>0.019424</td>\n",
       "      <td>-0.017624</td>\n",
       "      <td>-0.053768</td>\n",
       "      <td>0.017269</td>\n",
       "      <td>-0.147494</td>\n",
       "      <td>1.000000</td>\n",
       "      <td>-0.015203</td>\n",
       "    </tr>\n",
       "    <tr>\n",
       "      <th>Low Qual Fin SF</th>\n",
       "      <td>0.011719</td>\n",
       "      <td>0.072268</td>\n",
       "      <td>0.031091</td>\n",
       "      <td>-0.000300</td>\n",
       "      <td>0.001273</td>\n",
       "      <td>-0.052338</td>\n",
       "      <td>0.004753</td>\n",
       "      <td>-0.159403</td>\n",
       "      <td>-0.066577</td>\n",
       "      <td>-0.061878</td>\n",
       "      <td>...</td>\n",
       "      <td>-0.017246</td>\n",
       "      <td>-0.006253</td>\n",
       "      <td>0.089883</td>\n",
       "      <td>-0.003461</td>\n",
       "      <td>0.014218</td>\n",
       "      <td>-0.006854</td>\n",
       "      <td>-0.005756</td>\n",
       "      <td>0.024471</td>\n",
       "      <td>0.001288</td>\n",
       "      <td>-0.041594</td>\n",
       "    </tr>\n",
       "    <tr>\n",
       "      <th>Bsmt Half Bath</th>\n",
       "      <td>0.014381</td>\n",
       "      <td>-0.001946</td>\n",
       "      <td>-0.017249</td>\n",
       "      <td>-0.030858</td>\n",
       "      <td>0.029980</td>\n",
       "      <td>-0.047318</td>\n",
       "      <td>0.100324</td>\n",
       "      <td>-0.031464</td>\n",
       "      <td>-0.037923</td>\n",
       "      <td>0.010220</td>\n",
       "      <td>...</td>\n",
       "      <td>0.031754</td>\n",
       "      <td>-0.032635</td>\n",
       "      <td>-0.012093</td>\n",
       "      <td>0.030571</td>\n",
       "      <td>0.037595</td>\n",
       "      <td>0.066097</td>\n",
       "      <td>0.050212</td>\n",
       "      <td>0.026370</td>\n",
       "      <td>-0.010072</td>\n",
       "      <td>-0.045328</td>\n",
       "    </tr>\n",
       "    <tr>\n",
       "      <th>Id</th>\n",
       "      <td>1.000000</td>\n",
       "      <td>0.175793</td>\n",
       "      <td>0.026543</td>\n",
       "      <td>-0.024967</td>\n",
       "      <td>0.032872</td>\n",
       "      <td>-0.061483</td>\n",
       "      <td>-0.026096</td>\n",
       "      <td>-0.064444</td>\n",
       "      <td>-0.090040</td>\n",
       "      <td>-0.035493</td>\n",
       "      <td>...</td>\n",
       "      <td>-0.009045</td>\n",
       "      <td>0.001382</td>\n",
       "      <td>0.033747</td>\n",
       "      <td>-0.022791</td>\n",
       "      <td>0.009758</td>\n",
       "      <td>0.055696</td>\n",
       "      <td>-0.012683</td>\n",
       "      <td>0.127723</td>\n",
       "      <td>-0.975747</td>\n",
       "      <td>-0.051398</td>\n",
       "    </tr>\n",
       "    <tr>\n",
       "      <th>MS SubClass</th>\n",
       "      <td>0.026543</td>\n",
       "      <td>-0.003632</td>\n",
       "      <td>1.000000</td>\n",
       "      <td>-0.389790</td>\n",
       "      <td>-0.245484</td>\n",
       "      <td>0.035763</td>\n",
       "      <td>-0.070141</td>\n",
       "      <td>0.035983</td>\n",
       "      <td>0.044836</td>\n",
       "      <td>-0.004047</td>\n",
       "      <td>...</td>\n",
       "      <td>0.001622</td>\n",
       "      <td>-0.020289</td>\n",
       "      <td>-0.039842</td>\n",
       "      <td>-0.030088</td>\n",
       "      <td>-0.038819</td>\n",
       "      <td>-0.004585</td>\n",
       "      <td>-0.027485</td>\n",
       "      <td>0.013027</td>\n",
       "      <td>-0.032870</td>\n",
       "      <td>-0.087335</td>\n",
       "    </tr>\n",
       "    <tr>\n",
       "      <th>Overall Cond</th>\n",
       "      <td>-0.026096</td>\n",
       "      <td>0.106861</td>\n",
       "      <td>-0.070141</td>\n",
       "      <td>-0.054455</td>\n",
       "      <td>-0.019185</td>\n",
       "      <td>-0.082770</td>\n",
       "      <td>1.000000</td>\n",
       "      <td>-0.370988</td>\n",
       "      <td>0.042614</td>\n",
       "      <td>-0.135878</td>\n",
       "      <td>...</td>\n",
       "      <td>0.011034</td>\n",
       "      <td>-0.052266</td>\n",
       "      <td>0.108320</td>\n",
       "      <td>0.026907</td>\n",
       "      <td>0.047359</td>\n",
       "      <td>-0.005806</td>\n",
       "      <td>0.014269</td>\n",
       "      <td>-0.003144</td>\n",
       "      <td>0.047664</td>\n",
       "      <td>-0.097019</td>\n",
       "    </tr>\n",
       "    <tr>\n",
       "      <th>Kitchen AbvGr</th>\n",
       "      <td>-0.002400</td>\n",
       "      <td>0.068416</td>\n",
       "      <td>0.252111</td>\n",
       "      <td>0.015856</td>\n",
       "      <td>-0.013484</td>\n",
       "      <td>-0.170964</td>\n",
       "      <td>-0.095725</td>\n",
       "      <td>-0.127162</td>\n",
       "      <td>-0.135926</td>\n",
       "      <td>-0.070677</td>\n",
       "      <td>...</td>\n",
       "      <td>-0.090013</td>\n",
       "      <td>-0.083502</td>\n",
       "      <td>0.016189</td>\n",
       "      <td>-0.021017</td>\n",
       "      <td>-0.058886</td>\n",
       "      <td>-0.012986</td>\n",
       "      <td>0.031474</td>\n",
       "      <td>0.047143</td>\n",
       "      <td>0.020800</td>\n",
       "      <td>-0.125444</td>\n",
       "    </tr>\n",
       "    <tr>\n",
       "      <th>Enclosed Porch</th>\n",
       "      <td>0.033747</td>\n",
       "      <td>0.150179</td>\n",
       "      <td>-0.039842</td>\n",
       "      <td>-0.003302</td>\n",
       "      <td>0.014139</td>\n",
       "      <td>-0.154554</td>\n",
       "      <td>0.108320</td>\n",
       "      <td>-0.380082</td>\n",
       "      <td>-0.237523</td>\n",
       "      <td>-0.107104</td>\n",
       "      <td>...</td>\n",
       "      <td>-0.114079</td>\n",
       "      <td>-0.077019</td>\n",
       "      <td>1.000000</td>\n",
       "      <td>-0.032145</td>\n",
       "      <td>-0.069049</td>\n",
       "      <td>-0.015636</td>\n",
       "      <td>0.015049</td>\n",
       "      <td>0.004455</td>\n",
       "      <td>-0.006256</td>\n",
       "      <td>-0.135656</td>\n",
       "    </tr>\n",
       "    <tr>\n",
       "      <th>PID</th>\n",
       "      <td>0.175793</td>\n",
       "      <td>1.000000</td>\n",
       "      <td>-0.003632</td>\n",
       "      <td>-0.091291</td>\n",
       "      <td>0.024135</td>\n",
       "      <td>-0.265863</td>\n",
       "      <td>0.106861</td>\n",
       "      <td>-0.347039</td>\n",
       "      <td>-0.176666</td>\n",
       "      <td>-0.247959</td>\n",
       "      <td>...</td>\n",
       "      <td>-0.041221</td>\n",
       "      <td>-0.081129</td>\n",
       "      <td>0.150179</td>\n",
       "      <td>-0.024679</td>\n",
       "      <td>-0.042030</td>\n",
       "      <td>0.005825</td>\n",
       "      <td>0.004223</td>\n",
       "      <td>-0.032735</td>\n",
       "      <td>0.008476</td>\n",
       "      <td>-0.255052</td>\n",
       "    </tr>\n",
       "  </tbody>\n",
       "</table>\n",
       "<p>39 rows × 39 columns</p>\n",
       "</div>"
      ],
      "text/plain": [
       "                       Id       PID  MS SubClass  Lot Frontage  Lot Area  \\\n",
       "SalePrice       -0.051398 -0.255052    -0.087335      0.341842  0.296566   \n",
       "Overall Qual    -0.061483 -0.265863     0.035763      0.194808  0.105824   \n",
       "Gr Liv Area     -0.023881 -0.112936     0.068210      0.383856  0.327427   \n",
       "Garage Area     -0.045201 -0.200891    -0.108228      0.358457  0.263296   \n",
       "Garage Cars     -0.048666 -0.228368    -0.049148      0.297143  0.214954   \n",
       "Total Bsmt SF   -0.038346 -0.203795    -0.226038      0.356584  0.277175   \n",
       "1st Flr SF      -0.022650 -0.145862    -0.246212      0.463900  0.381593   \n",
       "Year Built      -0.064444 -0.347039     0.035983      0.109504  0.036002   \n",
       "Year Remod/Add  -0.090040 -0.176666     0.044836      0.085052  0.050771   \n",
       "Full Bath       -0.059086 -0.179370     0.142087      0.152812  0.125601   \n",
       "Garage Yr Blt   -0.050730 -0.251257     0.084954      0.067865  0.004882   \n",
       "Mas Vnr Area    -0.035493 -0.247959    -0.004047      0.218218  0.169379   \n",
       "TotRms AbvGrd   -0.009092 -0.084999     0.034490      0.362704  0.238724   \n",
       "Fireplaces      -0.037560 -0.120710    -0.055118      0.253456  0.289467   \n",
       "BsmtFin SF 1    -0.045878 -0.086522    -0.060854      0.214178  0.215430   \n",
       "Lot Frontage    -0.024967 -0.091291    -0.389790      1.000000  0.574024   \n",
       "Open Porch SF    0.001382 -0.081129    -0.020289      0.184958  0.140864   \n",
       "Wood Deck SF    -0.009045 -0.041221     0.001622      0.115180  0.155623   \n",
       "Lot Area         0.032872  0.024135    -0.245484      0.574024  1.000000   \n",
       "Bsmt Full Bath  -0.033385 -0.030554     0.025055      0.111441  0.116128   \n",
       "Half Bath       -0.042054 -0.163975     0.179404      0.035842  0.049995   \n",
       "2nd Flr SF      -0.008388 -0.005598     0.305771      0.013700  0.029398   \n",
       "Bsmt Unf SF      0.008555 -0.111281    -0.139911      0.127605  0.041184   \n",
       "Bedroom AbvGr    0.010605  0.009122    -0.003516      0.220414  0.139060   \n",
       "Screen Porch     0.009758 -0.042030    -0.038819      0.074819  0.067714   \n",
       "3Ssn Porch      -0.022791 -0.024679    -0.030088      0.031855  0.019553   \n",
       "Mo Sold          0.127723 -0.032735     0.013027     -0.017389  0.003197   \n",
       "Pool Area        0.055696  0.005825    -0.004585      0.156575  0.115102   \n",
       "BsmtFin SF 2     0.000723 -0.013144    -0.068265      0.036740  0.041717   \n",
       "Misc Val        -0.012683  0.004223    -0.027485      0.051676  0.093922   \n",
       "Yr Sold         -0.975747  0.008476    -0.032870      0.009112 -0.029454   \n",
       "Low Qual Fin SF  0.011719  0.072268     0.031091     -0.000300  0.001273   \n",
       "Bsmt Half Bath   0.014381 -0.001946    -0.017249     -0.030858  0.029980   \n",
       "Id               1.000000  0.175793     0.026543     -0.024967  0.032872   \n",
       "MS SubClass      0.026543 -0.003632     1.000000     -0.389790 -0.245484   \n",
       "Overall Cond    -0.026096  0.106861    -0.070141     -0.054455 -0.019185   \n",
       "Kitchen AbvGr   -0.002400  0.068416     0.252111      0.015856 -0.013484   \n",
       "Enclosed Porch   0.033747  0.150179    -0.039842     -0.003302  0.014139   \n",
       "PID              0.175793  1.000000    -0.003632     -0.091291  0.024135   \n",
       "\n",
       "                 Overall Qual  Overall Cond  Year Built  Year Remod/Add  \\\n",
       "SalePrice            0.800207     -0.097019    0.571849        0.550370   \n",
       "Overall Qual         1.000000     -0.082770    0.602964        0.584654   \n",
       "Gr Liv Area          0.566701     -0.109804    0.258838        0.322407   \n",
       "Garage Area          0.563814     -0.137917    0.487177        0.398999   \n",
       "Garage Cars          0.587423     -0.168513    0.542544        0.441796   \n",
       "Total Bsmt SF        0.548742     -0.158643    0.410254        0.308545   \n",
       "1st Flr SF           0.477136     -0.150938    0.323315        0.244190   \n",
       "Year Built           0.602964     -0.370988    1.000000        0.629116   \n",
       "Year Remod/Add       0.584654      0.042614    0.629116        1.000000   \n",
       "Full Bath            0.515080     -0.219189    0.480169        0.471555   \n",
       "Garage Yr Blt        0.574553     -0.331765    0.825316        0.674024   \n",
       "Mas Vnr Area         0.438685     -0.135878    0.329741        0.211443   \n",
       "TotRms AbvGrd        0.382025     -0.093576    0.137783        0.202397   \n",
       "Fireplaces           0.388920     -0.006463    0.168848        0.138858   \n",
       "BsmtFin SF 1         0.278742     -0.045768    0.275440        0.166680   \n",
       "Lot Frontage         0.194808     -0.054455    0.109504        0.085052   \n",
       "Open Porch SF        0.308855     -0.052266    0.207798        0.264476   \n",
       "Wood Deck SF         0.257081      0.011034    0.216339        0.216271   \n",
       "Lot Area             0.105824     -0.019185    0.036002        0.050771   \n",
       "Bsmt Full Bath       0.175171     -0.039113    0.215200        0.153507   \n",
       "Half Bath            0.274859     -0.093266    0.283207        0.224106   \n",
       "2nd Flr SF           0.228152      0.010912    0.022313        0.159605   \n",
       "Bsmt Unf SF          0.275773     -0.130521    0.136662        0.160066   \n",
       "Bedroom AbvGr        0.053373     -0.009908   -0.042149       -0.019748   \n",
       "Screen Porch         0.048752      0.047359   -0.037866       -0.041211   \n",
       "3Ssn Porch           0.031938      0.026907    0.016104        0.040416   \n",
       "Mo Sold              0.019242     -0.003144   -0.007083        0.011568   \n",
       "Pool Area            0.006558     -0.005806    0.003728       -0.022382   \n",
       "BsmtFin SF 2        -0.028199      0.047810   -0.021031       -0.057163   \n",
       "Misc Val             0.022099      0.014269    0.000626       -0.001704   \n",
       "Yr Sold             -0.011578      0.047664   -0.003559        0.042744   \n",
       "Low Qual Fin SF     -0.052338      0.004753   -0.159403       -0.066577   \n",
       "Bsmt Half Bath      -0.047318      0.100324   -0.031464       -0.037923   \n",
       "Id                  -0.061483     -0.026096   -0.064444       -0.090040   \n",
       "MS SubClass          0.035763     -0.070141    0.035983        0.044836   \n",
       "Overall Cond        -0.082770      1.000000   -0.370988        0.042614   \n",
       "Kitchen AbvGr       -0.170964     -0.095725   -0.127162       -0.135926   \n",
       "Enclosed Porch      -0.154554      0.108320   -0.380082       -0.237523   \n",
       "PID                 -0.265863      0.106861   -0.347039       -0.176666   \n",
       "\n",
       "                 Mas Vnr Area  ...  Wood Deck SF  Open Porch SF  \\\n",
       "SalePrice            0.512230  ...      0.326490       0.333476   \n",
       "Overall Qual         0.438685  ...      0.257081       0.308855   \n",
       "Gr Liv Area          0.387833  ...      0.270239       0.345008   \n",
       "Garage Area          0.384718  ...      0.245513       0.247222   \n",
       "Garage Cars          0.361211  ...      0.240721       0.215364   \n",
       "Total Bsmt SF        0.408575  ...      0.224659       0.257227   \n",
       "1st Flr SF           0.391349  ...      0.226243       0.259072   \n",
       "Year Built           0.329741  ...      0.216339       0.207798   \n",
       "Year Remod/Add       0.211443  ...      0.216271       0.264476   \n",
       "Full Bath            0.240034  ...      0.175502       0.244452   \n",
       "Garage Yr Blt        0.266763  ...      0.221800       0.225691   \n",
       "Mas Vnr Area         1.000000  ...      0.163584       0.163489   \n",
       "TotRms AbvGrd        0.273359  ...      0.182835       0.226346   \n",
       "Fireplaces           0.269104  ...      0.238887       0.169169   \n",
       "BsmtFin SF 1         0.321807  ...      0.214274       0.140286   \n",
       "Lot Frontage         0.218218  ...      0.115180       0.184958   \n",
       "Open Porch SF        0.163489  ...      0.047630       1.000000   \n",
       "Wood Deck SF         0.163584  ...      1.000000       0.047630   \n",
       "Lot Area             0.169379  ...      0.155623       0.140864   \n",
       "Bsmt Full Bath       0.148049  ...      0.196886       0.090170   \n",
       "Half Bath            0.192687  ...      0.125241       0.181469   \n",
       "2nd Flr SF           0.100568  ...      0.109070       0.165080   \n",
       "Bsmt Unf SF          0.085853  ...     -0.034438       0.116019   \n",
       "Bedroom AbvGr        0.054589  ...      0.034758       0.053433   \n",
       "Screen Porch         0.086631  ...     -0.067770       0.059027   \n",
       "3Ssn Porch           0.011161  ...     -0.010851      -0.007336   \n",
       "Mo Sold             -0.001472  ...      0.018500       0.043632   \n",
       "Pool Area            0.012422  ...      0.128373       0.073965   \n",
       "BsmtFin SF 2        -0.016756  ...      0.105836      -0.004382   \n",
       "Misc Val             0.079219  ...      0.085091       0.109919   \n",
       "Yr Sold             -0.018719  ...     -0.000912      -0.025895   \n",
       "Low Qual Fin SF     -0.061878  ...     -0.017246      -0.006253   \n",
       "Bsmt Half Bath       0.010220  ...      0.031754      -0.032635   \n",
       "Id                  -0.035493  ...     -0.009045       0.001382   \n",
       "MS SubClass         -0.004047  ...      0.001622      -0.020289   \n",
       "Overall Cond        -0.135878  ...      0.011034      -0.052266   \n",
       "Kitchen AbvGr       -0.070677  ...     -0.090013      -0.083502   \n",
       "Enclosed Porch      -0.107104  ...     -0.114079      -0.077019   \n",
       "PID                 -0.247959  ...     -0.041221      -0.081129   \n",
       "\n",
       "                 Enclosed Porch  3Ssn Porch  Screen Porch  Pool Area  \\\n",
       "SalePrice             -0.135656    0.048732      0.134581   0.023106   \n",
       "Overall Qual          -0.154554    0.031938      0.048752   0.006558   \n",
       "Gr Liv Area           -0.007777    0.024504      0.101926   0.113034   \n",
       "Garage Area           -0.112353    0.043918      0.071067   0.045876   \n",
       "Garage Cars           -0.139608    0.028393      0.053582   0.021566   \n",
       "Total Bsmt SF         -0.088055    0.060283      0.076061   0.061503   \n",
       "1st Flr SF            -0.044032    0.066991      0.089140   0.129995   \n",
       "Year Built            -0.380082    0.016104     -0.037866   0.003728   \n",
       "Year Remod/Add        -0.237523    0.040416     -0.041211  -0.022382   \n",
       "Full Bath             -0.125383    0.027870     -0.014296   0.010458   \n",
       "Garage Yr Blt         -0.296218    0.025013     -0.054368  -0.013425   \n",
       "Mas Vnr Area          -0.107104    0.011161      0.086631   0.012422   \n",
       "TotRms AbvGrd          0.005521   -0.008101      0.046329   0.072500   \n",
       "Fireplaces             0.009368    0.026411      0.167071   0.107769   \n",
       "BsmtFin SF 1          -0.076963    0.047719      0.093226   0.075925   \n",
       "Lot Frontage          -0.003302    0.031855      0.074819   0.156575   \n",
       "Open Porch SF         -0.077019   -0.007336      0.059027   0.073965   \n",
       "Wood Deck SF          -0.114079   -0.010851     -0.067770   0.128373   \n",
       "Lot Area               0.014139    0.019553      0.067714   0.115102   \n",
       "Bsmt Full Bath        -0.073358    0.022972      0.055399   0.043704   \n",
       "Half Bath             -0.100591   -0.027131      0.046712   0.001294   \n",
       "2nd Flr SF             0.021083   -0.033167      0.035105   0.012642   \n",
       "Bsmt Unf SF           -0.010847    0.020409     -0.055558  -0.039209   \n",
       "Bedroom AbvGr          0.033030   -0.033802      0.019606   0.027438   \n",
       "Screen Porch          -0.069049   -0.029574      1.000000   0.033114   \n",
       "3Ssn Porch            -0.032145    1.000000     -0.029574  -0.006522   \n",
       "Mo Sold                0.004455    0.020036      0.029329  -0.043118   \n",
       "Pool Area             -0.015636   -0.006522      0.033114   1.000000   \n",
       "BsmtFin SF 2           0.004540   -0.024225      0.096405   0.061026   \n",
       "Misc Val               0.015049   -0.004887      0.007122   0.017661   \n",
       "Yr Sold               -0.006256    0.019424     -0.017624  -0.053768   \n",
       "Low Qual Fin SF        0.089883   -0.003461      0.014218  -0.006854   \n",
       "Bsmt Half Bath        -0.012093    0.030571      0.037595   0.066097   \n",
       "Id                     0.033747   -0.022791      0.009758   0.055696   \n",
       "MS SubClass           -0.039842   -0.030088     -0.038819  -0.004585   \n",
       "Overall Cond           0.108320    0.026907      0.047359  -0.005806   \n",
       "Kitchen AbvGr          0.016189   -0.021017     -0.058886  -0.012986   \n",
       "Enclosed Porch         1.000000   -0.032145     -0.069049  -0.015636   \n",
       "PID                    0.150179   -0.024679     -0.042030   0.005825   \n",
       "\n",
       "                 Misc Val   Mo Sold   Yr Sold  SalePrice  \n",
       "SalePrice       -0.007375  0.032735 -0.015203   1.000000  \n",
       "Overall Qual     0.022099  0.019242 -0.011578   0.800207  \n",
       "Gr Liv Area      0.113673  0.049644 -0.015891   0.697038  \n",
       "Garage Area      0.033641  0.009964 -0.003589   0.650270  \n",
       "Garage Cars      0.003053  0.020801 -0.009996   0.648220  \n",
       "Total Bsmt SF    0.125600  0.003915 -0.004280   0.628925  \n",
       "1st Flr SF       0.139496  0.027038 -0.007432   0.618486  \n",
       "Year Built       0.000626 -0.007083 -0.003559   0.571849  \n",
       "Year Remod/Add  -0.001704  0.011568  0.042744   0.550370  \n",
       "Full Bath        0.003293  0.049390  0.007140   0.537969  \n",
       "Garage Yr Blt    0.004736  0.013538 -0.005346   0.533922  \n",
       "Mas Vnr Area     0.079219 -0.001472 -0.018719   0.512230  \n",
       "TotRms AbvGrd    0.100175  0.054154 -0.022041   0.504014  \n",
       "Fireplaces       0.023372  0.018228  0.006887   0.471093  \n",
       "BsmtFin SF 1     0.130042 -0.010534  0.037978   0.423519  \n",
       "Lot Frontage     0.051676 -0.017389  0.009112   0.341842  \n",
       "Open Porch SF    0.109919  0.043632 -0.025895   0.333476  \n",
       "Wood Deck SF     0.085091  0.018500 -0.000912   0.326490  \n",
       "Lot Area         0.093922  0.003197 -0.029454   0.296566  \n",
       "Bsmt Full Bath  -0.003515 -0.009609  0.035344   0.283662  \n",
       "Half Bath        0.055789  0.010521  0.001987   0.283001  \n",
       "2nd Flr SF       0.004413  0.030248 -0.011915   0.248452  \n",
       "Bsmt Unf SF     -0.005888  0.020043 -0.043683   0.190210  \n",
       "Bedroom AbvGr    0.012274  0.068281 -0.011692   0.137067  \n",
       "Screen Porch     0.007122  0.029329 -0.017624   0.134581  \n",
       "3Ssn Porch      -0.004887  0.020036  0.019424   0.048732  \n",
       "Mo Sold          0.019483  1.000000 -0.147494   0.032735  \n",
       "Pool Area        0.017661 -0.043118 -0.053768   0.023106  \n",
       "BsmtFin SF 2    -0.005515 -0.013945 -0.000013   0.016255  \n",
       "Misc Val         1.000000  0.019483  0.017269  -0.007375  \n",
       "Yr Sold          0.017269 -0.147494  1.000000  -0.015203  \n",
       "Low Qual Fin SF -0.005756  0.024471  0.001288  -0.041594  \n",
       "Bsmt Half Bath   0.050212  0.026370 -0.010072  -0.045328  \n",
       "Id              -0.012683  0.127723 -0.975747  -0.051398  \n",
       "MS SubClass     -0.027485  0.013027 -0.032870  -0.087335  \n",
       "Overall Cond     0.014269 -0.003144  0.047664  -0.097019  \n",
       "Kitchen AbvGr    0.031474  0.047143  0.020800  -0.125444  \n",
       "Enclosed Porch   0.015049  0.004455 -0.006256  -0.135656  \n",
       "PID              0.004223 -0.032735  0.008476  -0.255052  \n",
       "\n",
       "[39 rows x 39 columns]"
      ]
     },
     "execution_count": 17,
     "metadata": {},
     "output_type": "execute_result"
    }
   ],
   "source": [
    "train.corr().sort_values('SalePrice', ascending = False)"
   ]
  },
  {
   "cell_type": "code",
   "execution_count": 18,
   "metadata": {},
   "outputs": [],
   "source": [
    "features_2 = ['Overall Qual', 'Gr Liv Area', 'Garage Area', 'Garage Cars', 'Total Bsmt SF', '1st Flr SF',\n",
    "              'Year Built', 'Year Remod/Add', 'Full Bath', 'Garage Yr Blt', 'Mas Vnr Area', 'TotRms AbvGrd']"
   ]
  },
  {
   "cell_type": "code",
   "execution_count": 19,
   "metadata": {},
   "outputs": [
    {
     "data": {
      "text/plain": [
       "Overall Qual        int64\n",
       "Gr Liv Area         int64\n",
       "Garage Area       float64\n",
       "Garage Cars       float64\n",
       "Total Bsmt SF     float64\n",
       "1st Flr SF          int64\n",
       "Year Built          int64\n",
       "Year Remod/Add      int64\n",
       "Full Bath           int64\n",
       "Garage Yr Blt     float64\n",
       "Mas Vnr Area      float64\n",
       "TotRms AbvGrd       int64\n",
       "dtype: object"
      ]
     },
     "execution_count": 19,
     "metadata": {},
     "output_type": "execute_result"
    }
   ],
   "source": [
    "train[features_2].dtypes"
   ]
  },
  {
   "cell_type": "code",
   "execution_count": 20,
   "metadata": {},
   "outputs": [],
   "source": [
    "train['Garage Area'].fillna(0, inplace = True)\n",
    "test['Garage Area'].fillna(0, inplace = True)"
   ]
  },
  {
   "cell_type": "code",
   "execution_count": 21,
   "metadata": {},
   "outputs": [],
   "source": [
    "train['Garage Cars'].fillna(0, inplace = True)\n",
    "test['Garage Cars'].fillna(0, inplace = True)"
   ]
  },
  {
   "cell_type": "code",
   "execution_count": 22,
   "metadata": {},
   "outputs": [],
   "source": [
    "train['Garage Yr Blt'].fillna(0, inplace = True)\n",
    "test['Garage Yr Blt'].fillna(0, inplace = True)"
   ]
  },
  {
   "cell_type": "code",
   "execution_count": 23,
   "metadata": {},
   "outputs": [],
   "source": [
    "train['Mas Vnr Area'].fillna(0, inplace = True)\n",
    "test['Mas Vnr Area'].fillna(0, inplace = True)"
   ]
  },
  {
   "cell_type": "code",
   "execution_count": 24,
   "metadata": {},
   "outputs": [],
   "source": [
    "train['Total Bsmt SF'].fillna(0, inplace = True)\n",
    "test['Total Bsmt SF'].fillna(0, inplace = True)"
   ]
  },
  {
   "cell_type": "code",
   "execution_count": 25,
   "metadata": {},
   "outputs": [],
   "source": [
    "X_2 = train[features_2]"
   ]
  },
  {
   "cell_type": "code",
   "execution_count": 26,
   "metadata": {},
   "outputs": [
    {
     "data": {
      "text/plain": [
       "LinearRegression(copy_X=True, fit_intercept=True, n_jobs=None, normalize=False)"
      ]
     },
     "execution_count": 26,
     "metadata": {},
     "output_type": "execute_result"
    }
   ],
   "source": [
    "mlr.fit(X_2, y)"
   ]
  },
  {
   "cell_type": "code",
   "execution_count": 27,
   "metadata": {},
   "outputs": [],
   "source": [
    "predictions_2 = mlr.predict(X_2)"
   ]
  },
  {
   "cell_type": "code",
   "execution_count": 28,
   "metadata": {},
   "outputs": [
    {
     "data": {
      "text/plain": [
       "1260387350.3800466"
      ]
     },
     "execution_count": 28,
     "metadata": {},
     "output_type": "execute_result"
    }
   ],
   "source": [
    "metrics.mean_squared_error(y, predictions_2)"
   ]
  },
  {
   "cell_type": "code",
   "execution_count": 29,
   "metadata": {},
   "outputs": [
    {
     "data": {
      "text/plain": [
       "35501.934459688906"
      ]
     },
     "execution_count": 29,
     "metadata": {},
     "output_type": "execute_result"
    }
   ],
   "source": [
    "rmse2 = np.sqrt(metrics.mean_squared_error(y, predictions_2))\n",
    "rmse2"
   ]
  },
  {
   "cell_type": "code",
   "execution_count": 30,
   "metadata": {},
   "outputs": [],
   "source": [
    "second_submission = pd.DataFrame()"
   ]
  },
  {
   "cell_type": "code",
   "execution_count": 31,
   "metadata": {},
   "outputs": [],
   "source": [
    "second_submission['Id'] = test['Id']\n",
    "second_submission['SalePrice'] = mlr.predict(test[features_2])"
   ]
  },
  {
   "cell_type": "code",
   "execution_count": 32,
   "metadata": {},
   "outputs": [],
   "source": [
    "second_submission.to_csv('./datasets/second_submission.csv', index = False)"
   ]
  },
  {
   "cell_type": "markdown",
   "metadata": {},
   "source": [
    "# Third Submission"
   ]
  },
  {
   "cell_type": "code",
   "execution_count": 33,
   "metadata": {},
   "outputs": [],
   "source": [
    "train_clean = pd.read_csv('./datasets/clean_train.csv')\n",
    "test_clean = pd.read_csv('./datasets/clean_test.csv')"
   ]
  },
  {
   "cell_type": "code",
   "execution_count": 34,
   "metadata": {},
   "outputs": [
    {
     "data": {
      "text/html": [
       "<div>\n",
       "<style scoped>\n",
       "    .dataframe tbody tr th:only-of-type {\n",
       "        vertical-align: middle;\n",
       "    }\n",
       "\n",
       "    .dataframe tbody tr th {\n",
       "        vertical-align: top;\n",
       "    }\n",
       "\n",
       "    .dataframe thead th {\n",
       "        text-align: right;\n",
       "    }\n",
       "</style>\n",
       "<table border=\"1\" class=\"dataframe\">\n",
       "  <thead>\n",
       "    <tr style=\"text-align: right;\">\n",
       "      <th></th>\n",
       "      <th>id</th>\n",
       "      <th>pid</th>\n",
       "      <th>ms_subclass</th>\n",
       "      <th>ms_zoning</th>\n",
       "      <th>lot_frontage</th>\n",
       "      <th>lot_area</th>\n",
       "      <th>street</th>\n",
       "      <th>lot_shape</th>\n",
       "      <th>land_contour</th>\n",
       "      <th>utilities</th>\n",
       "      <th>...</th>\n",
       "      <th>fence</th>\n",
       "      <th>misc_val</th>\n",
       "      <th>mo_sold</th>\n",
       "      <th>yr_sold</th>\n",
       "      <th>sale_type</th>\n",
       "      <th>saleprice</th>\n",
       "      <th>total_baths</th>\n",
       "      <th>total_sf</th>\n",
       "      <th>age</th>\n",
       "      <th>neighborhood_qual</th>\n",
       "    </tr>\n",
       "  </thead>\n",
       "  <tbody>\n",
       "    <tr>\n",
       "      <th>0</th>\n",
       "      <td>109</td>\n",
       "      <td>533352170</td>\n",
       "      <td>60</td>\n",
       "      <td>RL</td>\n",
       "      <td>0.0</td>\n",
       "      <td>13517</td>\n",
       "      <td>Pave</td>\n",
       "      <td>IR1</td>\n",
       "      <td>Lvl</td>\n",
       "      <td>AllPub</td>\n",
       "      <td>...</td>\n",
       "      <td>No Fence</td>\n",
       "      <td>0</td>\n",
       "      <td>3</td>\n",
       "      <td>2010</td>\n",
       "      <td>WD</td>\n",
       "      <td>130500</td>\n",
       "      <td>2.5</td>\n",
       "      <td>2204.0</td>\n",
       "      <td>34</td>\n",
       "      <td>1</td>\n",
       "    </tr>\n",
       "    <tr>\n",
       "      <th>1</th>\n",
       "      <td>544</td>\n",
       "      <td>531379050</td>\n",
       "      <td>60</td>\n",
       "      <td>RL</td>\n",
       "      <td>43.0</td>\n",
       "      <td>11492</td>\n",
       "      <td>Pave</td>\n",
       "      <td>IR1</td>\n",
       "      <td>Lvl</td>\n",
       "      <td>AllPub</td>\n",
       "      <td>...</td>\n",
       "      <td>No Fence</td>\n",
       "      <td>0</td>\n",
       "      <td>4</td>\n",
       "      <td>2009</td>\n",
       "      <td>WD</td>\n",
       "      <td>220000</td>\n",
       "      <td>3.5</td>\n",
       "      <td>3035.0</td>\n",
       "      <td>13</td>\n",
       "      <td>2</td>\n",
       "    </tr>\n",
       "    <tr>\n",
       "      <th>2</th>\n",
       "      <td>153</td>\n",
       "      <td>535304180</td>\n",
       "      <td>20</td>\n",
       "      <td>RL</td>\n",
       "      <td>68.0</td>\n",
       "      <td>7922</td>\n",
       "      <td>Pave</td>\n",
       "      <td>Reg</td>\n",
       "      <td>Lvl</td>\n",
       "      <td>AllPub</td>\n",
       "      <td>...</td>\n",
       "      <td>No Fence</td>\n",
       "      <td>0</td>\n",
       "      <td>1</td>\n",
       "      <td>2010</td>\n",
       "      <td>WD</td>\n",
       "      <td>109000</td>\n",
       "      <td>2.0</td>\n",
       "      <td>2114.0</td>\n",
       "      <td>57</td>\n",
       "      <td>1</td>\n",
       "    </tr>\n",
       "    <tr>\n",
       "      <th>3</th>\n",
       "      <td>318</td>\n",
       "      <td>916386060</td>\n",
       "      <td>60</td>\n",
       "      <td>RL</td>\n",
       "      <td>73.0</td>\n",
       "      <td>9802</td>\n",
       "      <td>Pave</td>\n",
       "      <td>Reg</td>\n",
       "      <td>Lvl</td>\n",
       "      <td>AllPub</td>\n",
       "      <td>...</td>\n",
       "      <td>No Fence</td>\n",
       "      <td>0</td>\n",
       "      <td>4</td>\n",
       "      <td>2010</td>\n",
       "      <td>WD</td>\n",
       "      <td>174000</td>\n",
       "      <td>2.5</td>\n",
       "      <td>1828.0</td>\n",
       "      <td>4</td>\n",
       "      <td>2</td>\n",
       "    </tr>\n",
       "    <tr>\n",
       "      <th>4</th>\n",
       "      <td>255</td>\n",
       "      <td>906425045</td>\n",
       "      <td>50</td>\n",
       "      <td>RL</td>\n",
       "      <td>82.0</td>\n",
       "      <td>14235</td>\n",
       "      <td>Pave</td>\n",
       "      <td>IR1</td>\n",
       "      <td>Lvl</td>\n",
       "      <td>AllPub</td>\n",
       "      <td>...</td>\n",
       "      <td>No Fence</td>\n",
       "      <td>0</td>\n",
       "      <td>3</td>\n",
       "      <td>2010</td>\n",
       "      <td>WD</td>\n",
       "      <td>138500</td>\n",
       "      <td>2.0</td>\n",
       "      <td>2121.0</td>\n",
       "      <td>110</td>\n",
       "      <td>2</td>\n",
       "    </tr>\n",
       "  </tbody>\n",
       "</table>\n",
       "<p>5 rows × 71 columns</p>\n",
       "</div>"
      ],
      "text/plain": [
       "    id        pid  ms_subclass ms_zoning  lot_frontage  lot_area street  \\\n",
       "0  109  533352170           60        RL           0.0     13517   Pave   \n",
       "1  544  531379050           60        RL          43.0     11492   Pave   \n",
       "2  153  535304180           20        RL          68.0      7922   Pave   \n",
       "3  318  916386060           60        RL          73.0      9802   Pave   \n",
       "4  255  906425045           50        RL          82.0     14235   Pave   \n",
       "\n",
       "  lot_shape land_contour utilities  ...     fence misc_val mo_sold yr_sold  \\\n",
       "0       IR1          Lvl    AllPub  ...  No Fence        0       3    2010   \n",
       "1       IR1          Lvl    AllPub  ...  No Fence        0       4    2009   \n",
       "2       Reg          Lvl    AllPub  ...  No Fence        0       1    2010   \n",
       "3       Reg          Lvl    AllPub  ...  No Fence        0       4    2010   \n",
       "4       IR1          Lvl    AllPub  ...  No Fence        0       3    2010   \n",
       "\n",
       "  sale_type saleprice total_baths  total_sf  age  neighborhood_qual  \n",
       "0       WD     130500         2.5    2204.0   34                  1  \n",
       "1       WD     220000         3.5    3035.0   13                  2  \n",
       "2       WD     109000         2.0    2114.0   57                  1  \n",
       "3       WD     174000         2.5    1828.0    4                  2  \n",
       "4       WD     138500         2.0    2121.0  110                  2  \n",
       "\n",
       "[5 rows x 71 columns]"
      ]
     },
     "execution_count": 34,
     "metadata": {},
     "output_type": "execute_result"
    }
   ],
   "source": [
    "train_clean.head()"
   ]
  },
  {
   "cell_type": "code",
   "execution_count": 35,
   "metadata": {},
   "outputs": [],
   "source": [
    "y_3 = train_clean['saleprice']"
   ]
  },
  {
   "cell_type": "code",
   "execution_count": 36,
   "metadata": {},
   "outputs": [
    {
     "data": {
      "text/plain": [
       "Index(['id', 'pid', 'ms_subclass', 'ms_zoning', 'lot_frontage', 'lot_area',\n",
       "       'street', 'lot_shape', 'land_contour', 'utilities', 'lot_config',\n",
       "       'land_slope', 'neighborhood', 'condition_1', 'condition_2', 'bldg_type',\n",
       "       'house_style', 'overall_qual', 'overall_cond', 'year_built',\n",
       "       'year_remod/add', 'roof_style', 'roof_matl', 'exterior_1st',\n",
       "       'exterior_2nd', 'mas_vnr_type', 'mas_vnr_area', 'exter_qual',\n",
       "       'exter_cond', 'foundation', 'bsmt_qual', 'bsmt_cond', 'bsmt_exposure',\n",
       "       'bsmtfin_type_1', 'bsmtfin_type_2', 'total_bsmt_sf', 'heating',\n",
       "       'heating_qc', 'central_air', 'electrical', 'gr_liv_area',\n",
       "       'bedroom_abvgr', 'kitchen_abvgr', 'kitchen_qual', 'totrms_abvgrd',\n",
       "       'functional', 'fireplaces', 'fireplace_qu', 'garage_type',\n",
       "       'garage_yr_blt', 'garage_finish', 'garage_area', 'garage_qual',\n",
       "       'garage_cond', 'paved_drive', 'wood_deck_sf', 'open_porch_sf',\n",
       "       'enclosed_porch', '3ssn_porch', 'screen_porch', 'pool_area', 'fence',\n",
       "       'misc_val', 'mo_sold', 'yr_sold', 'sale_type', 'saleprice',\n",
       "       'total_baths', 'total_sf', 'age', 'neighborhood_qual'],\n",
       "      dtype='object')"
      ]
     },
     "execution_count": 36,
     "metadata": {},
     "output_type": "execute_result"
    }
   ],
   "source": [
    "train_clean.columns"
   ]
  },
  {
   "cell_type": "code",
   "execution_count": 37,
   "metadata": {
    "scrolled": true
   },
   "outputs": [
    {
     "name": "stdout",
     "output_type": "stream",
     "text": [
      "<class 'pandas.core.frame.DataFrame'>\n",
      "RangeIndex: 2025 entries, 0 to 2024\n",
      "Data columns (total 71 columns):\n",
      "id                   2025 non-null int64\n",
      "pid                  2025 non-null int64\n",
      "ms_subclass          2025 non-null int64\n",
      "ms_zoning            2025 non-null object\n",
      "lot_frontage         2025 non-null float64\n",
      "lot_area             2025 non-null int64\n",
      "street               2025 non-null object\n",
      "lot_shape            2025 non-null object\n",
      "land_contour         2025 non-null object\n",
      "utilities            2025 non-null object\n",
      "lot_config           2025 non-null object\n",
      "land_slope           2025 non-null object\n",
      "neighborhood         2025 non-null object\n",
      "condition_1          2025 non-null object\n",
      "condition_2          2025 non-null object\n",
      "bldg_type            2025 non-null object\n",
      "house_style          2025 non-null object\n",
      "overall_qual         2025 non-null int64\n",
      "overall_cond         2025 non-null int64\n",
      "year_built           2025 non-null int64\n",
      "year_remod/add       2025 non-null int64\n",
      "roof_style           2025 non-null object\n",
      "roof_matl            2025 non-null object\n",
      "exterior_1st         2025 non-null object\n",
      "exterior_2nd         2025 non-null object\n",
      "mas_vnr_type         2025 non-null object\n",
      "mas_vnr_area         2025 non-null float64\n",
      "exter_qual           2025 non-null int64\n",
      "exter_cond           2025 non-null int64\n",
      "foundation           2025 non-null object\n",
      "bsmt_qual            2025 non-null int64\n",
      "bsmt_cond            2025 non-null int64\n",
      "bsmt_exposure        2025 non-null int64\n",
      "bsmtfin_type_1       2025 non-null object\n",
      "bsmtfin_type_2       2025 non-null object\n",
      "total_bsmt_sf        2025 non-null float64\n",
      "heating              2025 non-null object\n",
      "heating_qc           2025 non-null int64\n",
      "central_air          2025 non-null object\n",
      "electrical           2025 non-null object\n",
      "gr_liv_area          2025 non-null int64\n",
      "bedroom_abvgr        2025 non-null int64\n",
      "kitchen_abvgr        2025 non-null int64\n",
      "kitchen_qual         2025 non-null int64\n",
      "totrms_abvgrd        2025 non-null int64\n",
      "functional           2025 non-null int64\n",
      "fireplaces           2025 non-null int64\n",
      "fireplace_qu         2025 non-null int64\n",
      "garage_type          2025 non-null object\n",
      "garage_yr_blt        2025 non-null float64\n",
      "garage_finish        2025 non-null int64\n",
      "garage_area          2025 non-null float64\n",
      "garage_qual          2025 non-null int64\n",
      "garage_cond          2025 non-null int64\n",
      "paved_drive          2025 non-null object\n",
      "wood_deck_sf         2025 non-null int64\n",
      "open_porch_sf        2025 non-null int64\n",
      "enclosed_porch       2025 non-null int64\n",
      "3ssn_porch           2025 non-null int64\n",
      "screen_porch         2025 non-null int64\n",
      "pool_area            2025 non-null int64\n",
      "fence                2025 non-null object\n",
      "misc_val             2025 non-null int64\n",
      "mo_sold              2025 non-null int64\n",
      "yr_sold              2025 non-null int64\n",
      "sale_type            2025 non-null object\n",
      "saleprice            2025 non-null int64\n",
      "total_baths          2025 non-null float64\n",
      "total_sf             2025 non-null float64\n",
      "age                  2025 non-null int64\n",
      "neighborhood_qual    2025 non-null int64\n",
      "dtypes: float64(7), int64(37), object(27)\n",
      "memory usage: 1.1+ MB\n"
     ]
    }
   ],
   "source": [
    "train_clean.info()"
   ]
  },
  {
   "cell_type": "code",
   "execution_count": 38,
   "metadata": {},
   "outputs": [],
   "source": [
    "features_3 = ['overall_qual', 'total_sf', 'gr_liv_area', 'exter_qual', 'kitchen_qual',\n",
    "              'total_baths', 'total_bsmt_sf', 'garage_area', 'bsmt_qual', 'year_built', 'garage_finish',\n",
    "              'totrms_abvgrd']"
   ]
  },
  {
   "cell_type": "code",
   "execution_count": 39,
   "metadata": {},
   "outputs": [],
   "source": [
    "X_3 = train_clean[features_3]"
   ]
  },
  {
   "cell_type": "code",
   "execution_count": 40,
   "metadata": {},
   "outputs": [
    {
     "data": {
      "text/plain": [
       "LinearRegression(copy_X=True, fit_intercept=True, n_jobs=None, normalize=False)"
      ]
     },
     "execution_count": 40,
     "metadata": {},
     "output_type": "execute_result"
    }
   ],
   "source": [
    "mlr.fit(X_3, y_3)"
   ]
  },
  {
   "cell_type": "code",
   "execution_count": 41,
   "metadata": {},
   "outputs": [],
   "source": [
    "predictions_3 = mlr.predict(X_3)"
   ]
  },
  {
   "cell_type": "code",
   "execution_count": 42,
   "metadata": {},
   "outputs": [
    {
     "data": {
      "text/plain": [
       "968866934.9668229"
      ]
     },
     "execution_count": 42,
     "metadata": {},
     "output_type": "execute_result"
    }
   ],
   "source": [
    "metrics.mean_squared_error(y_3, predictions_3)"
   ]
  },
  {
   "cell_type": "code",
   "execution_count": 43,
   "metadata": {},
   "outputs": [
    {
     "data": {
      "text/plain": [
       "31126.627426800078"
      ]
     },
     "execution_count": 43,
     "metadata": {},
     "output_type": "execute_result"
    }
   ],
   "source": [
    "np.sqrt(metrics.mean_squared_error(y_3, predictions_3))"
   ]
  },
  {
   "cell_type": "code",
   "execution_count": 44,
   "metadata": {},
   "outputs": [],
   "source": [
    "test.columns = test.columns.str.lower().str.replace(' ', '_')"
   ]
  },
  {
   "cell_type": "code",
   "execution_count": 45,
   "metadata": {},
   "outputs": [],
   "source": [
    "third_submission = pd.DataFrame()\n",
    "third_submission['Id'] = test_clean['id']\n",
    "third_submission['SalePrice'] = mlr.predict(test_clean[features_3])"
   ]
  },
  {
   "cell_type": "code",
   "execution_count": 46,
   "metadata": {},
   "outputs": [
    {
     "data": {
      "text/plain": [
       "Index(['id', 'pid', 'ms_subclass', 'ms_zoning', 'lot_frontage', 'lot_area',\n",
       "       'street', 'alley', 'lot_shape', 'land_contour', 'utilities',\n",
       "       'lot_config', 'land_slope', 'neighborhood', 'condition_1',\n",
       "       'condition_2', 'bldg_type', 'house_style', 'overall_qual',\n",
       "       'overall_cond', 'year_built', 'year_remod/add', 'roof_style',\n",
       "       'roof_matl', 'exterior_1st', 'exterior_2nd', 'mas_vnr_type',\n",
       "       'mas_vnr_area', 'exter_qual', 'exter_cond', 'foundation', 'bsmt_qual',\n",
       "       'bsmt_cond', 'bsmt_exposure', 'bsmtfin_type_1', 'bsmtfin_sf_1',\n",
       "       'bsmtfin_type_2', 'bsmtfin_sf_2', 'bsmt_unf_sf', 'total_bsmt_sf',\n",
       "       'heating', 'heating_qc', 'central_air', 'electrical', '1st_flr_sf',\n",
       "       '2nd_flr_sf', 'low_qual_fin_sf', 'gr_liv_area', 'bsmt_full_bath',\n",
       "       'bsmt_half_bath', 'full_bath', 'half_bath', 'bedroom_abvgr',\n",
       "       'kitchen_abvgr', 'kitchen_qual', 'totrms_abvgrd', 'functional',\n",
       "       'fireplaces', 'fireplace_qu', 'garage_type', 'garage_yr_blt',\n",
       "       'garage_finish', 'garage_cars', 'garage_area', 'garage_qual',\n",
       "       'garage_cond', 'paved_drive', 'wood_deck_sf', 'open_porch_sf',\n",
       "       'enclosed_porch', '3ssn_porch', 'screen_porch', 'pool_area', 'pool_qc',\n",
       "       'fence', 'misc_feature', 'misc_val', 'mo_sold', 'yr_sold', 'sale_type'],\n",
       "      dtype='object')"
      ]
     },
     "execution_count": 46,
     "metadata": {},
     "output_type": "execute_result"
    }
   ],
   "source": [
    "test.columns"
   ]
  },
  {
   "cell_type": "code",
   "execution_count": 47,
   "metadata": {},
   "outputs": [],
   "source": [
    "third_submission.to_csv('./datasets/third_submission.csv', index = False)"
   ]
  },
  {
   "cell_type": "code",
   "execution_count": 48,
   "metadata": {},
   "outputs": [
    {
     "data": {
      "text/plain": [
       "(879, 2)"
      ]
     },
     "execution_count": 48,
     "metadata": {},
     "output_type": "execute_result"
    }
   ],
   "source": [
    "third_submission.shape"
   ]
  },
  {
   "cell_type": "markdown",
   "metadata": {},
   "source": [
    "# Fourth Submission"
   ]
  },
  {
   "cell_type": "code",
   "execution_count": 49,
   "metadata": {},
   "outputs": [],
   "source": [
    "ss = StandardScaler()"
   ]
  },
  {
   "cell_type": "code",
   "execution_count": 50,
   "metadata": {},
   "outputs": [],
   "source": [
    "X_scaled = ss.fit_transform(X_3)"
   ]
  },
  {
   "cell_type": "code",
   "execution_count": 51,
   "metadata": {
    "scrolled": true
   },
   "outputs": [],
   "source": [
    "y_4 = train_clean[['saleprice']]"
   ]
  },
  {
   "cell_type": "code",
   "execution_count": 52,
   "metadata": {},
   "outputs": [
    {
     "data": {
      "text/plain": [
       "LinearRegression(copy_X=True, fit_intercept=True, n_jobs=None, normalize=False)"
      ]
     },
     "execution_count": 52,
     "metadata": {},
     "output_type": "execute_result"
    }
   ],
   "source": [
    "mlr.fit(X_scaled, y_4)"
   ]
  },
  {
   "cell_type": "code",
   "execution_count": 53,
   "metadata": {},
   "outputs": [],
   "source": [
    "predictions_4 = mlr.predict(X_scaled)"
   ]
  },
  {
   "cell_type": "code",
   "execution_count": 54,
   "metadata": {},
   "outputs": [
    {
     "data": {
      "text/plain": [
       "968866934.966823"
      ]
     },
     "execution_count": 54,
     "metadata": {},
     "output_type": "execute_result"
    }
   ],
   "source": [
    "mse = metrics.mean_squared_error(y_4, predictions_4)\n",
    "mse"
   ]
  },
  {
   "cell_type": "code",
   "execution_count": 55,
   "metadata": {},
   "outputs": [
    {
     "data": {
      "text/plain": [
       "31126.62742680008"
      ]
     },
     "execution_count": 55,
     "metadata": {},
     "output_type": "execute_result"
    }
   ],
   "source": [
    "rmse = np.sqrt(mse)\n",
    "rmse"
   ]
  },
  {
   "cell_type": "code",
   "execution_count": 56,
   "metadata": {},
   "outputs": [],
   "source": [
    "fourth_submission = pd.DataFrame()\n",
    "fourth_submission['Id'] = test_clean['id']\n",
    "fourth_submission['SalePrice'] = mlr.predict(test_clean[features_3])"
   ]
  },
  {
   "cell_type": "code",
   "execution_count": 57,
   "metadata": {},
   "outputs": [],
   "source": [
    "fourth_submission.to_csv('./datasets/fourth_submission.csv', index = False)"
   ]
  },
  {
   "cell_type": "code",
   "execution_count": 58,
   "metadata": {},
   "outputs": [
    {
     "data": {
      "text/plain": [
       "(879, 2)"
      ]
     },
     "execution_count": 58,
     "metadata": {},
     "output_type": "execute_result"
    }
   ],
   "source": [
    "fourth_submission.shape"
   ]
  },
  {
   "cell_type": "markdown",
   "metadata": {},
   "source": [
    "# Fifth Submission"
   ]
  },
  {
   "cell_type": "code",
   "execution_count": 59,
   "metadata": {},
   "outputs": [],
   "source": [
    "train_with_dummies = pd.read_csv('./datasets/train_with_dummies.csv')\n",
    "test_with_dummies = pd.read_csv('./datasets/test_with_dummies.csv')"
   ]
  },
  {
   "cell_type": "code",
   "execution_count": 60,
   "metadata": {},
   "outputs": [],
   "source": [
    "lr = LinearRegression()"
   ]
  },
  {
   "cell_type": "code",
   "execution_count": 61,
   "metadata": {},
   "outputs": [],
   "source": [
    "X = train_with_dummies.drop('saleprice', axis = 1)\n",
    "y = train_with_dummies['saleprice']"
   ]
  },
  {
   "cell_type": "code",
   "execution_count": 62,
   "metadata": {},
   "outputs": [],
   "source": [
    "X_train, X_test, y_train, y_test = train_test_split(X, y, random_state = 42)"
   ]
  },
  {
   "cell_type": "code",
   "execution_count": 63,
   "metadata": {},
   "outputs": [
    {
     "data": {
      "text/plain": [
       "LinearRegression(copy_X=True, fit_intercept=True, n_jobs=None, normalize=False)"
      ]
     },
     "execution_count": 63,
     "metadata": {},
     "output_type": "execute_result"
    }
   ],
   "source": [
    "lr.fit(X_train, y_train)"
   ]
  },
  {
   "cell_type": "code",
   "execution_count": 64,
   "metadata": {},
   "outputs": [],
   "source": [
    "lr_predictions = lr.predict(X)"
   ]
  },
  {
   "cell_type": "code",
   "execution_count": 65,
   "metadata": {},
   "outputs": [
    {
     "data": {
      "text/plain": [
       "22147.128002086658"
      ]
     },
     "execution_count": 65,
     "metadata": {},
     "output_type": "execute_result"
    }
   ],
   "source": [
    "metrics.mean_squared_error(y, lr_predictions)\n",
    "\n",
    "rmse = np.sqrt(metrics.mean_squared_error(y, lr_predictions))\n",
    "rmse"
   ]
  },
  {
   "cell_type": "code",
   "execution_count": 66,
   "metadata": {},
   "outputs": [],
   "source": [
    "fifth_submission = pd.DataFrame()\n",
    "fifth_submission['Id'] = test_with_dummies['id']\n",
    "fifth_submission['SalePrice'] = lr.predict(test_with_dummies)"
   ]
  },
  {
   "cell_type": "code",
   "execution_count": 67,
   "metadata": {},
   "outputs": [
    {
     "data": {
      "text/html": [
       "<div>\n",
       "<style scoped>\n",
       "    .dataframe tbody tr th:only-of-type {\n",
       "        vertical-align: middle;\n",
       "    }\n",
       "\n",
       "    .dataframe tbody tr th {\n",
       "        vertical-align: top;\n",
       "    }\n",
       "\n",
       "    .dataframe thead th {\n",
       "        text-align: right;\n",
       "    }\n",
       "</style>\n",
       "<table border=\"1\" class=\"dataframe\">\n",
       "  <thead>\n",
       "    <tr style=\"text-align: right;\">\n",
       "      <th></th>\n",
       "      <th>Id</th>\n",
       "      <th>SalePrice</th>\n",
       "    </tr>\n",
       "  </thead>\n",
       "  <tbody>\n",
       "    <tr>\n",
       "      <th>0</th>\n",
       "      <td>2658</td>\n",
       "      <td>106626.445902</td>\n",
       "    </tr>\n",
       "    <tr>\n",
       "      <th>1</th>\n",
       "      <td>2718</td>\n",
       "      <td>294678.384508</td>\n",
       "    </tr>\n",
       "    <tr>\n",
       "      <th>2</th>\n",
       "      <td>2414</td>\n",
       "      <td>298278.852027</td>\n",
       "    </tr>\n",
       "    <tr>\n",
       "      <th>3</th>\n",
       "      <td>1989</td>\n",
       "      <td>209077.473670</td>\n",
       "    </tr>\n",
       "    <tr>\n",
       "      <th>4</th>\n",
       "      <td>625</td>\n",
       "      <td>416830.885721</td>\n",
       "    </tr>\n",
       "  </tbody>\n",
       "</table>\n",
       "</div>"
      ],
      "text/plain": [
       "     Id      SalePrice\n",
       "0  2658  106626.445902\n",
       "1  2718  294678.384508\n",
       "2  2414  298278.852027\n",
       "3  1989  209077.473670\n",
       "4   625  416830.885721"
      ]
     },
     "execution_count": 67,
     "metadata": {},
     "output_type": "execute_result"
    }
   ],
   "source": [
    "fifth_submission.head()"
   ]
  },
  {
   "cell_type": "code",
   "execution_count": 68,
   "metadata": {},
   "outputs": [],
   "source": [
    "fifth_submission.to_csv('./datasets/fifth_submission.csv', index = False)"
   ]
  },
  {
   "cell_type": "markdown",
   "metadata": {},
   "source": [
    "# Sixth Submission"
   ]
  },
  {
   "cell_type": "code",
   "execution_count": 69,
   "metadata": {},
   "outputs": [],
   "source": [
    "ridge = RidgeCV(cv = 5)"
   ]
  },
  {
   "cell_type": "code",
   "execution_count": 70,
   "metadata": {
    "scrolled": true
   },
   "outputs": [
    {
     "data": {
      "text/plain": [
       "RidgeCV(alphas=array([ 0.1,  1. , 10. ]), cv=5, fit_intercept=True,\n",
       "        gcv_mode=None, normalize=False, scoring=None, store_cv_values=False)"
      ]
     },
     "execution_count": 70,
     "metadata": {},
     "output_type": "execute_result"
    }
   ],
   "source": [
    "ridge.fit(X_train, y_train)"
   ]
  },
  {
   "cell_type": "code",
   "execution_count": 71,
   "metadata": {},
   "outputs": [],
   "source": [
    "r_preds = ridge.predict(X)"
   ]
  },
  {
   "cell_type": "code",
   "execution_count": 72,
   "metadata": {},
   "outputs": [
    {
     "data": {
      "text/plain": [
       "22245.796864139345"
      ]
     },
     "execution_count": 72,
     "metadata": {},
     "output_type": "execute_result"
    }
   ],
   "source": [
    "metrics.mean_squared_error(y, r_preds)\n",
    "\n",
    "rmse = np.sqrt(metrics.mean_squared_error(y, r_preds))\n",
    "rmse"
   ]
  },
  {
   "cell_type": "code",
   "execution_count": 73,
   "metadata": {},
   "outputs": [],
   "source": [
    "sixth_submission = pd.DataFrame()\n",
    "sixth_submission['Id'] = test_with_dummies['id']\n",
    "sixth_submission['SalePrice'] = ridge.predict(test_with_dummies)"
   ]
  },
  {
   "cell_type": "code",
   "execution_count": 74,
   "metadata": {},
   "outputs": [
    {
     "data": {
      "text/html": [
       "<div>\n",
       "<style scoped>\n",
       "    .dataframe tbody tr th:only-of-type {\n",
       "        vertical-align: middle;\n",
       "    }\n",
       "\n",
       "    .dataframe tbody tr th {\n",
       "        vertical-align: top;\n",
       "    }\n",
       "\n",
       "    .dataframe thead th {\n",
       "        text-align: right;\n",
       "    }\n",
       "</style>\n",
       "<table border=\"1\" class=\"dataframe\">\n",
       "  <thead>\n",
       "    <tr style=\"text-align: right;\">\n",
       "      <th></th>\n",
       "      <th>Id</th>\n",
       "      <th>SalePrice</th>\n",
       "    </tr>\n",
       "  </thead>\n",
       "  <tbody>\n",
       "    <tr>\n",
       "      <th>0</th>\n",
       "      <td>2658</td>\n",
       "      <td>150642.186229</td>\n",
       "    </tr>\n",
       "    <tr>\n",
       "      <th>1</th>\n",
       "      <td>2718</td>\n",
       "      <td>172920.428484</td>\n",
       "    </tr>\n",
       "    <tr>\n",
       "      <th>2</th>\n",
       "      <td>2414</td>\n",
       "      <td>217063.256195</td>\n",
       "    </tr>\n",
       "    <tr>\n",
       "      <th>3</th>\n",
       "      <td>1989</td>\n",
       "      <td>143864.355742</td>\n",
       "    </tr>\n",
       "    <tr>\n",
       "      <th>4</th>\n",
       "      <td>625</td>\n",
       "      <td>211512.998027</td>\n",
       "    </tr>\n",
       "  </tbody>\n",
       "</table>\n",
       "</div>"
      ],
      "text/plain": [
       "     Id      SalePrice\n",
       "0  2658  150642.186229\n",
       "1  2718  172920.428484\n",
       "2  2414  217063.256195\n",
       "3  1989  143864.355742\n",
       "4   625  211512.998027"
      ]
     },
     "execution_count": 74,
     "metadata": {},
     "output_type": "execute_result"
    }
   ],
   "source": [
    "sixth_submission.head()"
   ]
  },
  {
   "cell_type": "code",
   "execution_count": 75,
   "metadata": {},
   "outputs": [],
   "source": [
    "sixth_submission.to_csv('./datasets/sixth_submission.csv', index = False)"
   ]
  },
  {
   "cell_type": "markdown",
   "metadata": {},
   "source": [
    "# Seventh Submission"
   ]
  },
  {
   "cell_type": "code",
   "execution_count": 76,
   "metadata": {},
   "outputs": [],
   "source": [
    "lasso = LassoCV(n_alphas = 500, cv = 5, random_state = 42)"
   ]
  },
  {
   "cell_type": "code",
   "execution_count": 77,
   "metadata": {},
   "outputs": [
    {
     "data": {
      "text/plain": [
       "LassoCV(alphas=None, copy_X=True, cv=5, eps=0.001, fit_intercept=True,\n",
       "        max_iter=1000, n_alphas=500, n_jobs=None, normalize=False,\n",
       "        positive=False, precompute='auto', random_state=42, selection='cyclic',\n",
       "        tol=0.0001, verbose=False)"
      ]
     },
     "execution_count": 77,
     "metadata": {},
     "output_type": "execute_result"
    }
   ],
   "source": [
    "lasso.fit(X_train, y_train)"
   ]
  },
  {
   "cell_type": "code",
   "execution_count": 78,
   "metadata": {},
   "outputs": [],
   "source": [
    "l_preds = lasso.predict(X)"
   ]
  },
  {
   "cell_type": "code",
   "execution_count": 79,
   "metadata": {},
   "outputs": [
    {
     "data": {
      "text/plain": [
       "76581.94144216384"
      ]
     },
     "execution_count": 79,
     "metadata": {},
     "output_type": "execute_result"
    }
   ],
   "source": [
    "metrics.mean_squared_error(y, l_preds)\n",
    "\n",
    "rmse = np.sqrt(metrics.mean_squared_error(y, l_preds))\n",
    "rmse"
   ]
  },
  {
   "cell_type": "code",
   "execution_count": 80,
   "metadata": {},
   "outputs": [],
   "source": [
    "seventh_submission = pd.DataFrame()\n",
    "seventh_submission['Id'] = test_with_dummies['id']\n",
    "seventh_submission['SalePrice'] = lasso.predict(test_with_dummies)"
   ]
  },
  {
   "cell_type": "code",
   "execution_count": 81,
   "metadata": {},
   "outputs": [
    {
     "data": {
      "text/html": [
       "<div>\n",
       "<style scoped>\n",
       "    .dataframe tbody tr th:only-of-type {\n",
       "        vertical-align: middle;\n",
       "    }\n",
       "\n",
       "    .dataframe tbody tr th {\n",
       "        vertical-align: top;\n",
       "    }\n",
       "\n",
       "    .dataframe thead th {\n",
       "        text-align: right;\n",
       "    }\n",
       "</style>\n",
       "<table border=\"1\" class=\"dataframe\">\n",
       "  <thead>\n",
       "    <tr style=\"text-align: right;\">\n",
       "      <th></th>\n",
       "      <th>Id</th>\n",
       "      <th>SalePrice</th>\n",
       "    </tr>\n",
       "  </thead>\n",
       "  <tbody>\n",
       "    <tr>\n",
       "      <th>0</th>\n",
       "      <td>2658</td>\n",
       "      <td>162169.055511</td>\n",
       "    </tr>\n",
       "    <tr>\n",
       "      <th>1</th>\n",
       "      <td>2718</td>\n",
       "      <td>161913.459965</td>\n",
       "    </tr>\n",
       "    <tr>\n",
       "      <th>2</th>\n",
       "      <td>2414</td>\n",
       "      <td>196232.100752</td>\n",
       "    </tr>\n",
       "    <tr>\n",
       "      <th>3</th>\n",
       "      <td>1989</td>\n",
       "      <td>162177.612180</td>\n",
       "    </tr>\n",
       "    <tr>\n",
       "      <th>4</th>\n",
       "      <td>625</td>\n",
       "      <td>195604.990787</td>\n",
       "    </tr>\n",
       "  </tbody>\n",
       "</table>\n",
       "</div>"
      ],
      "text/plain": [
       "     Id      SalePrice\n",
       "0  2658  162169.055511\n",
       "1  2718  161913.459965\n",
       "2  2414  196232.100752\n",
       "3  1989  162177.612180\n",
       "4   625  195604.990787"
      ]
     },
     "execution_count": 81,
     "metadata": {},
     "output_type": "execute_result"
    }
   ],
   "source": [
    "seventh_submission.head()"
   ]
  },
  {
   "cell_type": "code",
   "execution_count": 82,
   "metadata": {},
   "outputs": [],
   "source": [
    "seventh_submission.to_csv('./datasets/seventh_submission.csv', index = False)"
   ]
  },
  {
   "cell_type": "markdown",
   "metadata": {},
   "source": [
    "# Eighth Submission"
   ]
  },
  {
   "cell_type": "code",
   "execution_count": 83,
   "metadata": {},
   "outputs": [],
   "source": [
    "train = pd.read_csv('./datasets/train_with_dummies.csv')\n",
    "test = pd.read_csv('./datasets/test_with_dummies.csv')"
   ]
  },
  {
   "cell_type": "code",
   "execution_count": 84,
   "metadata": {},
   "outputs": [],
   "source": [
    "ss = StandardScaler()\n",
    "lasso_scaled = LassoCV(n_alphas = 500, cv = 5, random_state = 42)"
   ]
  },
  {
   "cell_type": "code",
   "execution_count": 85,
   "metadata": {},
   "outputs": [],
   "source": [
    "features = [x for x in train.columns if x not in ['saleprice', 'id', 'pid']]"
   ]
  },
  {
   "cell_type": "code",
   "execution_count": 86,
   "metadata": {},
   "outputs": [],
   "source": [
    "X = train[features]\n",
    "y = train['saleprice']"
   ]
  },
  {
   "cell_type": "code",
   "execution_count": 87,
   "metadata": {},
   "outputs": [],
   "source": [
    "X_train, X_test, y_train, y_test = train_test_split(X, y, test_size = .3)"
   ]
  },
  {
   "cell_type": "code",
   "execution_count": 88,
   "metadata": {},
   "outputs": [
    {
     "data": {
      "text/plain": [
       "(2025, 225)"
      ]
     },
     "execution_count": 88,
     "metadata": {},
     "output_type": "execute_result"
    }
   ],
   "source": [
    "X.shape"
   ]
  },
  {
   "cell_type": "code",
   "execution_count": 89,
   "metadata": {},
   "outputs": [],
   "source": [
    "X_train_sc = ss.fit_transform(X_train)\n",
    "X_test_sc = ss.transform(X_test)\n",
    "test_sc = ss.transform(test[features])"
   ]
  },
  {
   "cell_type": "code",
   "execution_count": 90,
   "metadata": {},
   "outputs": [
    {
     "data": {
      "text/plain": [
       "LassoCV(alphas=None, copy_X=True, cv=5, eps=0.001, fit_intercept=True,\n",
       "        max_iter=1000, n_alphas=500, n_jobs=None, normalize=False,\n",
       "        positive=False, precompute='auto', random_state=42, selection='cyclic',\n",
       "        tol=0.0001, verbose=False)"
      ]
     },
     "execution_count": 90,
     "metadata": {},
     "output_type": "execute_result"
    }
   ],
   "source": [
    "lasso_scaled.fit(X_train_sc, y_train)"
   ]
  },
  {
   "cell_type": "code",
   "execution_count": 91,
   "metadata": {},
   "outputs": [
    {
     "data": {
      "text/plain": [
       "0.9332108842747361"
      ]
     },
     "execution_count": 91,
     "metadata": {},
     "output_type": "execute_result"
    }
   ],
   "source": [
    "lasso_scaled.score(X_train_sc, y_train)"
   ]
  },
  {
   "cell_type": "code",
   "execution_count": 92,
   "metadata": {},
   "outputs": [
    {
     "data": {
      "text/plain": [
       "0.8889504494831244"
      ]
     },
     "execution_count": 92,
     "metadata": {},
     "output_type": "execute_result"
    }
   ],
   "source": [
    "lasso_scaled.score(X_test_sc, y_test)"
   ]
  },
  {
   "cell_type": "code",
   "execution_count": 93,
   "metadata": {},
   "outputs": [],
   "source": [
    "las_sc_preds = lasso_scaled.predict(X)"
   ]
  },
  {
   "cell_type": "code",
   "execution_count": 94,
   "metadata": {},
   "outputs": [
    {
     "data": {
      "text/plain": [
       "131676260.3627188"
      ]
     },
     "execution_count": 94,
     "metadata": {},
     "output_type": "execute_result"
    }
   ],
   "source": [
    "metrics.mean_squared_error(y, las_sc_preds)\n",
    "\n",
    "rmse = np.sqrt(metrics.mean_squared_error(y, las_sc_preds))\n",
    "rmse"
   ]
  },
  {
   "cell_type": "code",
   "execution_count": 95,
   "metadata": {},
   "outputs": [],
   "source": [
    "eighth_submission = pd.DataFrame()\n",
    "eighth_submission['Id'] = test['id']\n",
    "eighth_submission['SalePrice'] = lasso_scaled.predict(test_sc)"
   ]
  },
  {
   "cell_type": "code",
   "execution_count": 96,
   "metadata": {},
   "outputs": [
    {
     "data": {
      "text/html": [
       "<div>\n",
       "<style scoped>\n",
       "    .dataframe tbody tr th:only-of-type {\n",
       "        vertical-align: middle;\n",
       "    }\n",
       "\n",
       "    .dataframe tbody tr th {\n",
       "        vertical-align: top;\n",
       "    }\n",
       "\n",
       "    .dataframe thead th {\n",
       "        text-align: right;\n",
       "    }\n",
       "</style>\n",
       "<table border=\"1\" class=\"dataframe\">\n",
       "  <thead>\n",
       "    <tr style=\"text-align: right;\">\n",
       "      <th></th>\n",
       "      <th>Id</th>\n",
       "      <th>SalePrice</th>\n",
       "    </tr>\n",
       "  </thead>\n",
       "  <tbody>\n",
       "    <tr>\n",
       "      <th>0</th>\n",
       "      <td>2658</td>\n",
       "      <td>141975.909045</td>\n",
       "    </tr>\n",
       "    <tr>\n",
       "      <th>1</th>\n",
       "      <td>2718</td>\n",
       "      <td>167574.275732</td>\n",
       "    </tr>\n",
       "    <tr>\n",
       "      <th>2</th>\n",
       "      <td>2414</td>\n",
       "      <td>232936.701901</td>\n",
       "    </tr>\n",
       "    <tr>\n",
       "      <th>3</th>\n",
       "      <td>1989</td>\n",
       "      <td>115394.761106</td>\n",
       "    </tr>\n",
       "    <tr>\n",
       "      <th>4</th>\n",
       "      <td>625</td>\n",
       "      <td>183342.131131</td>\n",
       "    </tr>\n",
       "  </tbody>\n",
       "</table>\n",
       "</div>"
      ],
      "text/plain": [
       "     Id      SalePrice\n",
       "0  2658  141975.909045\n",
       "1  2718  167574.275732\n",
       "2  2414  232936.701901\n",
       "3  1989  115394.761106\n",
       "4   625  183342.131131"
      ]
     },
     "execution_count": 96,
     "metadata": {},
     "output_type": "execute_result"
    }
   ],
   "source": [
    "eighth_submission.head()"
   ]
  },
  {
   "cell_type": "code",
   "execution_count": 97,
   "metadata": {},
   "outputs": [],
   "source": [
    "eighth_submission.to_csv('./datasets/eighth_submission.csv', index = False)"
   ]
  },
  {
   "cell_type": "markdown",
   "metadata": {},
   "source": [
    "# Ninth Submission"
   ]
  },
  {
   "cell_type": "code",
   "execution_count": 98,
   "metadata": {},
   "outputs": [],
   "source": [
    "ridge_scaled = RidgeCV(alphas = np.logspace(0, 5, 200),cv = 5)"
   ]
  },
  {
   "cell_type": "code",
   "execution_count": 99,
   "metadata": {},
   "outputs": [
    {
     "data": {
      "text/plain": [
       "RidgeCV(alphas=array([1.00000000e+00, 1.05956018e+00, 1.12266777e+00, 1.18953407e+00,\n",
       "       1.26038293e+00, 1.33545156e+00, 1.41499130e+00, 1.49926843e+00,\n",
       "       1.58856513e+00, 1.68318035e+00, 1.78343088e+00, 1.88965234e+00,\n",
       "       2.00220037e+00, 2.12145178e+00, 2.24780583e+00, 2.38168555e+00,\n",
       "       2.52353917e+00, 2.67384162e+00, 2.83309610e+00, 3.00183581e+00,\n",
       "       3.18062569e+00, 3.37006433e+0...\n",
       "       3.33129479e+04, 3.52970730e+04, 3.73993730e+04, 3.96268864e+04,\n",
       "       4.19870708e+04, 4.44878283e+04, 4.71375313e+04, 4.99450512e+04,\n",
       "       5.29197874e+04, 5.60716994e+04, 5.94113398e+04, 6.29498899e+04,\n",
       "       6.66991966e+04, 7.06718127e+04, 7.48810386e+04, 7.93409667e+04,\n",
       "       8.40665289e+04, 8.90735464e+04, 9.43787828e+04, 1.00000000e+05]),\n",
       "        cv=5, fit_intercept=True, gcv_mode=None, normalize=False, scoring=None,\n",
       "        store_cv_values=False)"
      ]
     },
     "execution_count": 99,
     "metadata": {},
     "output_type": "execute_result"
    }
   ],
   "source": [
    "ridge_scaled.fit(X_train_sc, y_train)"
   ]
  },
  {
   "cell_type": "code",
   "execution_count": 100,
   "metadata": {},
   "outputs": [
    {
     "data": {
      "text/plain": [
       "0.9357242564676271"
      ]
     },
     "execution_count": 100,
     "metadata": {},
     "output_type": "execute_result"
    }
   ],
   "source": [
    "ridge_scaled.score(X_train_sc, y_train)"
   ]
  },
  {
   "cell_type": "code",
   "execution_count": 101,
   "metadata": {},
   "outputs": [
    {
     "data": {
      "text/plain": [
       "0.8876572546228901"
      ]
     },
     "execution_count": 101,
     "metadata": {},
     "output_type": "execute_result"
    }
   ],
   "source": [
    "ridge_scaled.score(X_test_sc, y_test)"
   ]
  },
  {
   "cell_type": "code",
   "execution_count": 102,
   "metadata": {},
   "outputs": [],
   "source": [
    "ridge_sc_preds = ridge_scaled.predict(X)"
   ]
  },
  {
   "cell_type": "code",
   "execution_count": 103,
   "metadata": {},
   "outputs": [
    {
     "data": {
      "text/plain": [
       "113650386.40913734"
      ]
     },
     "execution_count": 103,
     "metadata": {},
     "output_type": "execute_result"
    }
   ],
   "source": [
    "metrics.mean_squared_error(y, ridge_sc_preds)\n",
    "\n",
    "rmse = np.sqrt(metrics.mean_squared_error(y, ridge_sc_preds))\n",
    "rmse"
   ]
  },
  {
   "cell_type": "code",
   "execution_count": 104,
   "metadata": {},
   "outputs": [],
   "source": [
    "ninth_submission = pd.DataFrame()\n",
    "ninth_submission['Id'] = test['id']\n",
    "ninth_submission['SalePrice'] = ridge_scaled.predict(test_sc)"
   ]
  },
  {
   "cell_type": "code",
   "execution_count": 105,
   "metadata": {},
   "outputs": [],
   "source": [
    "ninth_submission.to_csv('./datasets/ninth_submission.csv', index = False)"
   ]
  },
  {
   "cell_type": "markdown",
   "metadata": {},
   "source": [
    "# Tenth Submission"
   ]
  },
  {
   "cell_type": "code",
   "execution_count": 106,
   "metadata": {},
   "outputs": [],
   "source": [
    "X = train[features]\n",
    "y = np.log(train['saleprice'])"
   ]
  },
  {
   "cell_type": "code",
   "execution_count": 107,
   "metadata": {},
   "outputs": [],
   "source": [
    "lr = LinearRegression()"
   ]
  },
  {
   "cell_type": "code",
   "execution_count": 108,
   "metadata": {},
   "outputs": [],
   "source": [
    "X_train, X_test, y_train, y_test = train_test_split(X, y)"
   ]
  },
  {
   "cell_type": "code",
   "execution_count": 109,
   "metadata": {},
   "outputs": [
    {
     "data": {
      "text/plain": [
       "LinearRegression(copy_X=True, fit_intercept=True, n_jobs=None, normalize=False)"
      ]
     },
     "execution_count": 109,
     "metadata": {},
     "output_type": "execute_result"
    }
   ],
   "source": [
    "lr.fit(X_train, y_train)"
   ]
  },
  {
   "cell_type": "code",
   "execution_count": 110,
   "metadata": {},
   "outputs": [
    {
     "data": {
      "text/plain": [
       "0.8987007766195765"
      ]
     },
     "execution_count": 110,
     "metadata": {},
     "output_type": "execute_result"
    }
   ],
   "source": [
    "cross_val_score(lr, X_train, y_train, cv = 5).mean()"
   ]
  },
  {
   "cell_type": "code",
   "execution_count": 111,
   "metadata": {},
   "outputs": [
    {
     "data": {
      "text/plain": [
       "0.8507960815732613"
      ]
     },
     "execution_count": 111,
     "metadata": {},
     "output_type": "execute_result"
    }
   ],
   "source": [
    "cross_val_score(lr, X_test, y_test, cv = 5).mean()"
   ]
  },
  {
   "cell_type": "code",
   "execution_count": 112,
   "metadata": {},
   "outputs": [],
   "source": [
    "lr_preds = lr.predict(X)"
   ]
  },
  {
   "cell_type": "code",
   "execution_count": 113,
   "metadata": {},
   "outputs": [
    {
     "data": {
      "text/plain": [
       "0.10881074060259519"
      ]
     },
     "execution_count": 113,
     "metadata": {},
     "output_type": "execute_result"
    }
   ],
   "source": [
    "metrics.mean_squared_error(y, lr_preds)\n",
    "\n",
    "rmse = np.sqrt(metrics.mean_squared_error(y, lr_preds))\n",
    "rmse"
   ]
  },
  {
   "cell_type": "code",
   "execution_count": 114,
   "metadata": {},
   "outputs": [],
   "source": [
    "tenth_submission = pd.DataFrame()\n",
    "tenth_submission['Id'] = test['id']\n",
    "tenth_submission['SalePrice'] = np.exp(lr.predict(test[features]))"
   ]
  },
  {
   "cell_type": "code",
   "execution_count": 115,
   "metadata": {},
   "outputs": [
    {
     "data": {
      "text/html": [
       "<div>\n",
       "<style scoped>\n",
       "    .dataframe tbody tr th:only-of-type {\n",
       "        vertical-align: middle;\n",
       "    }\n",
       "\n",
       "    .dataframe tbody tr th {\n",
       "        vertical-align: top;\n",
       "    }\n",
       "\n",
       "    .dataframe thead th {\n",
       "        text-align: right;\n",
       "    }\n",
       "</style>\n",
       "<table border=\"1\" class=\"dataframe\">\n",
       "  <thead>\n",
       "    <tr style=\"text-align: right;\">\n",
       "      <th></th>\n",
       "      <th>Id</th>\n",
       "      <th>SalePrice</th>\n",
       "    </tr>\n",
       "  </thead>\n",
       "  <tbody>\n",
       "    <tr>\n",
       "      <th>0</th>\n",
       "      <td>2658</td>\n",
       "      <td>123550.045844</td>\n",
       "    </tr>\n",
       "    <tr>\n",
       "      <th>1</th>\n",
       "      <td>2718</td>\n",
       "      <td>162347.014343</td>\n",
       "    </tr>\n",
       "    <tr>\n",
       "      <th>2</th>\n",
       "      <td>2414</td>\n",
       "      <td>224250.525122</td>\n",
       "    </tr>\n",
       "    <tr>\n",
       "      <th>3</th>\n",
       "      <td>1989</td>\n",
       "      <td>96328.314983</td>\n",
       "    </tr>\n",
       "    <tr>\n",
       "      <th>4</th>\n",
       "      <td>625</td>\n",
       "      <td>174306.831047</td>\n",
       "    </tr>\n",
       "  </tbody>\n",
       "</table>\n",
       "</div>"
      ],
      "text/plain": [
       "     Id      SalePrice\n",
       "0  2658  123550.045844\n",
       "1  2718  162347.014343\n",
       "2  2414  224250.525122\n",
       "3  1989   96328.314983\n",
       "4   625  174306.831047"
      ]
     },
     "execution_count": 115,
     "metadata": {},
     "output_type": "execute_result"
    }
   ],
   "source": [
    "tenth_submission.head()"
   ]
  },
  {
   "cell_type": "code",
   "execution_count": 116,
   "metadata": {},
   "outputs": [],
   "source": [
    "tenth_submission.to_csv('./datasets/tenth_submission.csv', index = False)"
   ]
  },
  {
   "cell_type": "markdown",
   "metadata": {},
   "source": [
    "# Eleventh Submission\n",
    "## This was my highest scoring submission on Kaggle"
   ]
  },
  {
   "cell_type": "code",
   "execution_count": 117,
   "metadata": {},
   "outputs": [],
   "source": [
    "ridge = RidgeCV(cv = 5)"
   ]
  },
  {
   "cell_type": "code",
   "execution_count": 118,
   "metadata": {},
   "outputs": [
    {
     "data": {
      "text/plain": [
       "RidgeCV(alphas=array([ 0.1,  1. , 10. ]), cv=5, fit_intercept=True,\n",
       "        gcv_mode=None, normalize=False, scoring=None, store_cv_values=False)"
      ]
     },
     "execution_count": 118,
     "metadata": {},
     "output_type": "execute_result"
    }
   ],
   "source": [
    "ridge.fit(X_train, y_train)"
   ]
  },
  {
   "cell_type": "code",
   "execution_count": 119,
   "metadata": {},
   "outputs": [
    {
     "data": {
      "text/plain": [
       "0.9315752037627588"
      ]
     },
     "execution_count": 119,
     "metadata": {},
     "output_type": "execute_result"
    }
   ],
   "source": [
    "ridge.score(X_train, y_train)"
   ]
  },
  {
   "cell_type": "code",
   "execution_count": 120,
   "metadata": {},
   "outputs": [
    {
     "data": {
      "text/plain": [
       "0.9167625109306345"
      ]
     },
     "execution_count": 120,
     "metadata": {},
     "output_type": "execute_result"
    }
   ],
   "source": [
    "ridge.score(X_test, y_test)"
   ]
  },
  {
   "cell_type": "code",
   "execution_count": 121,
   "metadata": {},
   "outputs": [],
   "source": [
    "ridge_preds = ridge.predict(X)"
   ]
  },
  {
   "cell_type": "code",
   "execution_count": 122,
   "metadata": {},
   "outputs": [
    {
     "data": {
      "text/plain": [
       "0.11061836325825875"
      ]
     },
     "execution_count": 122,
     "metadata": {},
     "output_type": "execute_result"
    }
   ],
   "source": [
    "metrics.mean_squared_error(y, ridge_preds)\n",
    "\n",
    "rmse = np.sqrt(metrics.mean_squared_error(y, ridge_preds))\n",
    "rmse"
   ]
  },
  {
   "cell_type": "code",
   "execution_count": 123,
   "metadata": {},
   "outputs": [],
   "source": [
    "eleventh_submission = pd.DataFrame()\n",
    "eleventh_submission['Id'] = test['id']\n",
    "eleventh_submission['SalePrice'] = np.exp(ridge.predict(test[features]))"
   ]
  },
  {
   "cell_type": "code",
   "execution_count": 124,
   "metadata": {},
   "outputs": [
    {
     "data": {
      "text/html": [
       "<div>\n",
       "<style scoped>\n",
       "    .dataframe tbody tr th:only-of-type {\n",
       "        vertical-align: middle;\n",
       "    }\n",
       "\n",
       "    .dataframe tbody tr th {\n",
       "        vertical-align: top;\n",
       "    }\n",
       "\n",
       "    .dataframe thead th {\n",
       "        text-align: right;\n",
       "    }\n",
       "</style>\n",
       "<table border=\"1\" class=\"dataframe\">\n",
       "  <thead>\n",
       "    <tr style=\"text-align: right;\">\n",
       "      <th></th>\n",
       "      <th>Id</th>\n",
       "      <th>SalePrice</th>\n",
       "    </tr>\n",
       "  </thead>\n",
       "  <tbody>\n",
       "    <tr>\n",
       "      <th>0</th>\n",
       "      <td>2658</td>\n",
       "      <td>124896.247013</td>\n",
       "    </tr>\n",
       "    <tr>\n",
       "      <th>1</th>\n",
       "      <td>2718</td>\n",
       "      <td>163402.297115</td>\n",
       "    </tr>\n",
       "    <tr>\n",
       "      <th>2</th>\n",
       "      <td>2414</td>\n",
       "      <td>225726.873663</td>\n",
       "    </tr>\n",
       "    <tr>\n",
       "      <th>3</th>\n",
       "      <td>1989</td>\n",
       "      <td>99125.368020</td>\n",
       "    </tr>\n",
       "    <tr>\n",
       "      <th>4</th>\n",
       "      <td>625</td>\n",
       "      <td>172586.970699</td>\n",
       "    </tr>\n",
       "  </tbody>\n",
       "</table>\n",
       "</div>"
      ],
      "text/plain": [
       "     Id      SalePrice\n",
       "0  2658  124896.247013\n",
       "1  2718  163402.297115\n",
       "2  2414  225726.873663\n",
       "3  1989   99125.368020\n",
       "4   625  172586.970699"
      ]
     },
     "execution_count": 124,
     "metadata": {},
     "output_type": "execute_result"
    }
   ],
   "source": [
    "eleventh_submission.head()"
   ]
  },
  {
   "cell_type": "code",
   "execution_count": 125,
   "metadata": {},
   "outputs": [],
   "source": [
    "eleventh_submission.to_csv('./datasets/eleventh_submission.csv', index = False)"
   ]
  },
  {
   "cell_type": "markdown",
   "metadata": {},
   "source": [
    "# Twelfth Submission"
   ]
  },
  {
   "cell_type": "code",
   "execution_count": 126,
   "metadata": {},
   "outputs": [],
   "source": [
    "lasso = LassoCV(n_alphas = 500, cv = 5, random_state = 42)"
   ]
  },
  {
   "cell_type": "code",
   "execution_count": 127,
   "metadata": {},
   "outputs": [
    {
     "data": {
      "text/plain": [
       "LassoCV(alphas=None, copy_X=True, cv=5, eps=0.001, fit_intercept=True,\n",
       "        max_iter=1000, n_alphas=500, n_jobs=None, normalize=False,\n",
       "        positive=False, precompute='auto', random_state=42, selection='cyclic',\n",
       "        tol=0.0001, verbose=False)"
      ]
     },
     "execution_count": 127,
     "metadata": {},
     "output_type": "execute_result"
    }
   ],
   "source": [
    "lasso.fit(X_train, y_train)"
   ]
  },
  {
   "cell_type": "code",
   "execution_count": 128,
   "metadata": {},
   "outputs": [
    {
     "data": {
      "text/plain": [
       "0.8205639498300938"
      ]
     },
     "execution_count": 128,
     "metadata": {},
     "output_type": "execute_result"
    }
   ],
   "source": [
    "lasso.score(X_train, y_train)"
   ]
  },
  {
   "cell_type": "code",
   "execution_count": 129,
   "metadata": {},
   "outputs": [
    {
     "data": {
      "text/plain": [
       "0.8053035665830293"
      ]
     },
     "execution_count": 129,
     "metadata": {},
     "output_type": "execute_result"
    }
   ],
   "source": [
    "lasso.score(X_test, y_test)"
   ]
  },
  {
   "cell_type": "code",
   "execution_count": 130,
   "metadata": {},
   "outputs": [],
   "source": [
    "lass_preds = lasso.predict(X)"
   ]
  },
  {
   "cell_type": "code",
   "execution_count": 131,
   "metadata": {},
   "outputs": [
    {
     "data": {
      "text/plain": [
       "0.1761396947500164"
      ]
     },
     "execution_count": 131,
     "metadata": {},
     "output_type": "execute_result"
    }
   ],
   "source": [
    "metrics.mean_squared_error(y, lass_preds)\n",
    "\n",
    "rmse = np.sqrt(metrics.mean_squared_error(y, lass_preds))\n",
    "rmse"
   ]
  },
  {
   "cell_type": "code",
   "execution_count": 132,
   "metadata": {},
   "outputs": [],
   "source": [
    "twelfth_submission = pd.DataFrame()\n",
    "twelfth_submission['Id'] = test['id']\n",
    "twelfth_submission['SalePrice'] = np.exp(lasso.predict(test[features]))"
   ]
  },
  {
   "cell_type": "code",
   "execution_count": 133,
   "metadata": {},
   "outputs": [
    {
     "data": {
      "text/html": [
       "<div>\n",
       "<style scoped>\n",
       "    .dataframe tbody tr th:only-of-type {\n",
       "        vertical-align: middle;\n",
       "    }\n",
       "\n",
       "    .dataframe tbody tr th {\n",
       "        vertical-align: top;\n",
       "    }\n",
       "\n",
       "    .dataframe thead th {\n",
       "        text-align: right;\n",
       "    }\n",
       "</style>\n",
       "<table border=\"1\" class=\"dataframe\">\n",
       "  <thead>\n",
       "    <tr style=\"text-align: right;\">\n",
       "      <th></th>\n",
       "      <th>Id</th>\n",
       "      <th>SalePrice</th>\n",
       "    </tr>\n",
       "  </thead>\n",
       "  <tbody>\n",
       "    <tr>\n",
       "      <th>0</th>\n",
       "      <td>2658</td>\n",
       "      <td>148021.829210</td>\n",
       "    </tr>\n",
       "    <tr>\n",
       "      <th>1</th>\n",
       "      <td>2718</td>\n",
       "      <td>256112.722351</td>\n",
       "    </tr>\n",
       "    <tr>\n",
       "      <th>2</th>\n",
       "      <td>2414</td>\n",
       "      <td>177665.048269</td>\n",
       "    </tr>\n",
       "    <tr>\n",
       "      <th>3</th>\n",
       "      <td>1989</td>\n",
       "      <td>124152.541032</td>\n",
       "    </tr>\n",
       "    <tr>\n",
       "      <th>4</th>\n",
       "      <td>625</td>\n",
       "      <td>171839.961132</td>\n",
       "    </tr>\n",
       "  </tbody>\n",
       "</table>\n",
       "</div>"
      ],
      "text/plain": [
       "     Id      SalePrice\n",
       "0  2658  148021.829210\n",
       "1  2718  256112.722351\n",
       "2  2414  177665.048269\n",
       "3  1989  124152.541032\n",
       "4   625  171839.961132"
      ]
     },
     "execution_count": 133,
     "metadata": {},
     "output_type": "execute_result"
    }
   ],
   "source": [
    "twelfth_submission.head()"
   ]
  },
  {
   "cell_type": "code",
   "execution_count": 134,
   "metadata": {},
   "outputs": [],
   "source": [
    "twelfth_submission.to_csv('./datasets/twelfth_submission.csv', index = False)"
   ]
  },
  {
   "cell_type": "markdown",
   "metadata": {},
   "source": [
    "# Thirteenth Submission"
   ]
  },
  {
   "cell_type": "code",
   "execution_count": 135,
   "metadata": {},
   "outputs": [],
   "source": [
    "ridge_sc = RidgeCV(cv = 5)\n",
    "X_train_sc = ss.fit_transform(X_train)\n",
    "X_test_sc = ss.transform(X_test)\n",
    "test_sc = ss.transform(test[features])"
   ]
  },
  {
   "cell_type": "code",
   "execution_count": 136,
   "metadata": {},
   "outputs": [
    {
     "data": {
      "text/plain": [
       "RidgeCV(alphas=array([ 0.1,  1. , 10. ]), cv=5, fit_intercept=True,\n",
       "        gcv_mode=None, normalize=False, scoring=None, store_cv_values=False)"
      ]
     },
     "execution_count": 136,
     "metadata": {},
     "output_type": "execute_result"
    }
   ],
   "source": [
    "ridge_sc.fit(X_train_sc, y_train)"
   ]
  },
  {
   "cell_type": "code",
   "execution_count": 137,
   "metadata": {},
   "outputs": [
    {
     "data": {
      "text/plain": [
       "0.9383816554193642"
      ]
     },
     "execution_count": 137,
     "metadata": {},
     "output_type": "execute_result"
    }
   ],
   "source": [
    "ridge_sc.score(X_train_sc, y_train)"
   ]
  },
  {
   "cell_type": "code",
   "execution_count": 138,
   "metadata": {},
   "outputs": [
    {
     "data": {
      "text/plain": [
       "0.9079236625513272"
      ]
     },
     "execution_count": 138,
     "metadata": {},
     "output_type": "execute_result"
    }
   ],
   "source": [
    "ridge_sc.score(X_test_sc, y_test)"
   ]
  },
  {
   "cell_type": "code",
   "execution_count": 139,
   "metadata": {},
   "outputs": [],
   "source": [
    "ridge_sc_preds = ridge_sc.predict(X)"
   ]
  },
  {
   "cell_type": "code",
   "execution_count": 140,
   "metadata": {},
   "outputs": [
    {
     "data": {
      "text/plain": [
       "577.7157344551489"
      ]
     },
     "execution_count": 140,
     "metadata": {},
     "output_type": "execute_result"
    }
   ],
   "source": [
    "metrics.mean_squared_error(y, ridge_sc_preds)\n",
    "\n",
    "rmse = np.sqrt(metrics.mean_squared_error(y, ridge_sc_preds))\n",
    "rmse"
   ]
  },
  {
   "cell_type": "code",
   "execution_count": 141,
   "metadata": {},
   "outputs": [],
   "source": [
    "thirteenth_submission = pd.DataFrame()\n",
    "thirteenth_submission['Id'] = test['id']\n",
    "thirteenth_submission['SalePrice'] = np.exp(ridge_sc.predict(test_sc))"
   ]
  },
  {
   "cell_type": "code",
   "execution_count": 142,
   "metadata": {},
   "outputs": [
    {
     "data": {
      "text/html": [
       "<div>\n",
       "<style scoped>\n",
       "    .dataframe tbody tr th:only-of-type {\n",
       "        vertical-align: middle;\n",
       "    }\n",
       "\n",
       "    .dataframe tbody tr th {\n",
       "        vertical-align: top;\n",
       "    }\n",
       "\n",
       "    .dataframe thead th {\n",
       "        text-align: right;\n",
       "    }\n",
       "</style>\n",
       "<table border=\"1\" class=\"dataframe\">\n",
       "  <thead>\n",
       "    <tr style=\"text-align: right;\">\n",
       "      <th></th>\n",
       "      <th>Id</th>\n",
       "      <th>SalePrice</th>\n",
       "    </tr>\n",
       "  </thead>\n",
       "  <tbody>\n",
       "    <tr>\n",
       "      <th>0</th>\n",
       "      <td>2658</td>\n",
       "      <td>126006.300442</td>\n",
       "    </tr>\n",
       "    <tr>\n",
       "      <th>1</th>\n",
       "      <td>2718</td>\n",
       "      <td>162712.631143</td>\n",
       "    </tr>\n",
       "    <tr>\n",
       "      <th>2</th>\n",
       "      <td>2414</td>\n",
       "      <td>224394.064275</td>\n",
       "    </tr>\n",
       "    <tr>\n",
       "      <th>3</th>\n",
       "      <td>1989</td>\n",
       "      <td>96560.063878</td>\n",
       "    </tr>\n",
       "    <tr>\n",
       "      <th>4</th>\n",
       "      <td>625</td>\n",
       "      <td>173956.972050</td>\n",
       "    </tr>\n",
       "  </tbody>\n",
       "</table>\n",
       "</div>"
      ],
      "text/plain": [
       "     Id      SalePrice\n",
       "0  2658  126006.300442\n",
       "1  2718  162712.631143\n",
       "2  2414  224394.064275\n",
       "3  1989   96560.063878\n",
       "4   625  173956.972050"
      ]
     },
     "execution_count": 142,
     "metadata": {},
     "output_type": "execute_result"
    }
   ],
   "source": [
    "thirteenth_submission.head()"
   ]
  },
  {
   "cell_type": "code",
   "execution_count": 143,
   "metadata": {},
   "outputs": [],
   "source": [
    "thirteenth_submission.to_csv('./datasets/thirteenth_submission.csv', index = False)"
   ]
  },
  {
   "cell_type": "markdown",
   "metadata": {},
   "source": [
    "# Fourteenth Submission"
   ]
  },
  {
   "cell_type": "code",
   "execution_count": 144,
   "metadata": {},
   "outputs": [],
   "source": [
    "lasso_sc = LassoCV(n_alphas = 500, cv = 5, random_state = 42)"
   ]
  },
  {
   "cell_type": "code",
   "execution_count": 145,
   "metadata": {},
   "outputs": [
    {
     "data": {
      "text/plain": [
       "LassoCV(alphas=None, copy_X=True, cv=5, eps=0.001, fit_intercept=True,\n",
       "        max_iter=1000, n_alphas=500, n_jobs=None, normalize=False,\n",
       "        positive=False, precompute='auto', random_state=42, selection='cyclic',\n",
       "        tol=0.0001, verbose=False)"
      ]
     },
     "execution_count": 145,
     "metadata": {},
     "output_type": "execute_result"
    }
   ],
   "source": [
    "lasso_sc.fit(X_train_sc, y_train)"
   ]
  },
  {
   "cell_type": "code",
   "execution_count": 146,
   "metadata": {},
   "outputs": [
    {
     "data": {
      "text/plain": [
       "0.9308118716342961"
      ]
     },
     "execution_count": 146,
     "metadata": {},
     "output_type": "execute_result"
    }
   ],
   "source": [
    "lasso_sc.score(X_train_sc, y_train)"
   ]
  },
  {
   "cell_type": "code",
   "execution_count": 147,
   "metadata": {},
   "outputs": [
    {
     "data": {
      "text/plain": [
       "0.9133396350241196"
      ]
     },
     "execution_count": 147,
     "metadata": {},
     "output_type": "execute_result"
    }
   ],
   "source": [
    "lasso_sc.score(X_test_sc, y_test)"
   ]
  },
  {
   "cell_type": "code",
   "execution_count": 148,
   "metadata": {},
   "outputs": [],
   "source": [
    "lasso_sc_preds = lasso_sc.predict(X)"
   ]
  },
  {
   "cell_type": "code",
   "execution_count": 149,
   "metadata": {},
   "outputs": [
    {
     "data": {
      "text/plain": [
       "652.488178928581"
      ]
     },
     "execution_count": 149,
     "metadata": {},
     "output_type": "execute_result"
    }
   ],
   "source": [
    "metrics.mean_squared_error(y, lasso_sc_preds)\n",
    "\n",
    "rmse = np.sqrt(metrics.mean_squared_error(y, lasso_sc_preds))\n",
    "rmse"
   ]
  },
  {
   "cell_type": "code",
   "execution_count": 150,
   "metadata": {},
   "outputs": [],
   "source": [
    "fourteenth_submission = pd.DataFrame()\n",
    "fourteenth_submission['Id'] = test['id']\n",
    "fourteenth_submission['SalePrice'] = np.exp(lasso_sc.predict(test_sc))"
   ]
  },
  {
   "cell_type": "code",
   "execution_count": 151,
   "metadata": {},
   "outputs": [
    {
     "data": {
      "text/html": [
       "<div>\n",
       "<style scoped>\n",
       "    .dataframe tbody tr th:only-of-type {\n",
       "        vertical-align: middle;\n",
       "    }\n",
       "\n",
       "    .dataframe tbody tr th {\n",
       "        vertical-align: top;\n",
       "    }\n",
       "\n",
       "    .dataframe thead th {\n",
       "        text-align: right;\n",
       "    }\n",
       "</style>\n",
       "<table border=\"1\" class=\"dataframe\">\n",
       "  <thead>\n",
       "    <tr style=\"text-align: right;\">\n",
       "      <th></th>\n",
       "      <th>Id</th>\n",
       "      <th>SalePrice</th>\n",
       "    </tr>\n",
       "  </thead>\n",
       "  <tbody>\n",
       "    <tr>\n",
       "      <th>0</th>\n",
       "      <td>2658</td>\n",
       "      <td>139908.922331</td>\n",
       "    </tr>\n",
       "    <tr>\n",
       "      <th>1</th>\n",
       "      <td>2718</td>\n",
       "      <td>161513.941239</td>\n",
       "    </tr>\n",
       "    <tr>\n",
       "      <th>2</th>\n",
       "      <td>2414</td>\n",
       "      <td>221609.363924</td>\n",
       "    </tr>\n",
       "    <tr>\n",
       "      <th>3</th>\n",
       "      <td>1989</td>\n",
       "      <td>99127.359232</td>\n",
       "    </tr>\n",
       "    <tr>\n",
       "      <th>4</th>\n",
       "      <td>625</td>\n",
       "      <td>170321.915931</td>\n",
       "    </tr>\n",
       "  </tbody>\n",
       "</table>\n",
       "</div>"
      ],
      "text/plain": [
       "     Id      SalePrice\n",
       "0  2658  139908.922331\n",
       "1  2718  161513.941239\n",
       "2  2414  221609.363924\n",
       "3  1989   99127.359232\n",
       "4   625  170321.915931"
      ]
     },
     "execution_count": 151,
     "metadata": {},
     "output_type": "execute_result"
    }
   ],
   "source": [
    "fourteenth_submission.head()"
   ]
  },
  {
   "cell_type": "code",
   "execution_count": 152,
   "metadata": {},
   "outputs": [
    {
     "name": "stdout",
     "output_type": "stream",
     "text": [
      "Percent variables zeroed out: 0.5377777777777778\n"
     ]
    }
   ],
   "source": [
    "lasso_coefs = pd.DataFrame({'variable':X.columns,\n",
    "                            'coef':lasso_sc.coef_,\n",
    "                            'abs_coef':np.abs(lasso_sc.coef_)})\n",
    "\n",
    "lasso_coefs.sort_values('abs_coef', inplace=True, ascending=False)\n",
    "\n",
    "lasso_coefs.head(25)\n",
    "\n",
    "print('Percent variables zeroed out:', np.sum((lasso_sc.coef_ == 0))/float(X.shape[1]))"
   ]
  },
  {
   "cell_type": "code",
   "execution_count": 153,
   "metadata": {},
   "outputs": [],
   "source": [
    "fourteenth_submission.to_csv('./datasets/fourteenth_submission.csv', index = False)"
   ]
  },
  {
   "cell_type": "markdown",
   "metadata": {},
   "source": [
    "# Fifteenth Submission"
   ]
  },
  {
   "cell_type": "code",
   "execution_count": 154,
   "metadata": {},
   "outputs": [],
   "source": [
    "features = ['total_sf', 'overall_qual', 'gr_liv_area', 'exter_qual',\n",
    "            'overall_cond', 'kitchen_qual', 'age', 'mas_vnr_area',\n",
    "            'sale_type_New', 'lot_area', 'total_baths']\n",
    "X = train[features]\n",
    "y = np.log(train['saleprice'])"
   ]
  },
  {
   "cell_type": "code",
   "execution_count": 155,
   "metadata": {},
   "outputs": [],
   "source": [
    "X_train, X_test, y_train, y_test = train_test_split(X, y, test_size = 0.3, random_state = 42)"
   ]
  },
  {
   "cell_type": "code",
   "execution_count": 156,
   "metadata": {},
   "outputs": [],
   "source": [
    "X_tr_sc = ss.fit_transform(X_train)\n",
    "X_te_sc = ss.transform(X_test)\n",
    "test_sc = ss.transform(test[features])"
   ]
  },
  {
   "cell_type": "code",
   "execution_count": 157,
   "metadata": {},
   "outputs": [],
   "source": [
    "lr = LinearRegression()"
   ]
  },
  {
   "cell_type": "code",
   "execution_count": 158,
   "metadata": {},
   "outputs": [
    {
     "data": {
      "text/plain": [
       "LinearRegression(copy_X=True, fit_intercept=True, n_jobs=None, normalize=False)"
      ]
     },
     "execution_count": 158,
     "metadata": {},
     "output_type": "execute_result"
    }
   ],
   "source": [
    "lr.fit(X_tr_sc, y_train)"
   ]
  },
  {
   "cell_type": "code",
   "execution_count": 159,
   "metadata": {},
   "outputs": [
    {
     "data": {
      "text/plain": [
       "0.8738104897299719"
      ]
     },
     "execution_count": 159,
     "metadata": {},
     "output_type": "execute_result"
    }
   ],
   "source": [
    "lr.score(X_tr_sc, y_train)"
   ]
  },
  {
   "cell_type": "code",
   "execution_count": 160,
   "metadata": {},
   "outputs": [
    {
     "data": {
      "text/plain": [
       "0.899626914037308"
      ]
     },
     "execution_count": 160,
     "metadata": {},
     "output_type": "execute_result"
    }
   ],
   "source": [
    "lr.score(X_te_sc, y_test)"
   ]
  },
  {
   "cell_type": "code",
   "execution_count": 161,
   "metadata": {},
   "outputs": [],
   "source": [
    "lrpreds = lr.predict(X)"
   ]
  },
  {
   "cell_type": "code",
   "execution_count": 162,
   "metadata": {},
   "outputs": [
    {
     "data": {
      "text/plain": [
       "896.954790627455"
      ]
     },
     "execution_count": 162,
     "metadata": {},
     "output_type": "execute_result"
    }
   ],
   "source": [
    "metrics.mean_squared_error(y, lrpreds)\n",
    "\n",
    "rmse = np.sqrt(metrics.mean_squared_error(y, lrpreds))\n",
    "rmse"
   ]
  },
  {
   "cell_type": "code",
   "execution_count": 163,
   "metadata": {},
   "outputs": [],
   "source": [
    "fifteenth_submission = pd.DataFrame()\n",
    "fifteenth_submission['Id'] = test['id']\n",
    "fifteenth_submission['SalePrice'] = np.exp(lr.predict(test_sc))"
   ]
  },
  {
   "cell_type": "code",
   "execution_count": 164,
   "metadata": {},
   "outputs": [
    {
     "data": {
      "text/html": [
       "<div>\n",
       "<style scoped>\n",
       "    .dataframe tbody tr th:only-of-type {\n",
       "        vertical-align: middle;\n",
       "    }\n",
       "\n",
       "    .dataframe tbody tr th {\n",
       "        vertical-align: top;\n",
       "    }\n",
       "\n",
       "    .dataframe thead th {\n",
       "        text-align: right;\n",
       "    }\n",
       "</style>\n",
       "<table border=\"1\" class=\"dataframe\">\n",
       "  <thead>\n",
       "    <tr style=\"text-align: right;\">\n",
       "      <th></th>\n",
       "      <th>Id</th>\n",
       "      <th>SalePrice</th>\n",
       "    </tr>\n",
       "  </thead>\n",
       "  <tbody>\n",
       "    <tr>\n",
       "      <th>0</th>\n",
       "      <td>2658</td>\n",
       "      <td>158885.277412</td>\n",
       "    </tr>\n",
       "    <tr>\n",
       "      <th>1</th>\n",
       "      <td>2718</td>\n",
       "      <td>175552.660704</td>\n",
       "    </tr>\n",
       "    <tr>\n",
       "      <th>2</th>\n",
       "      <td>2414</td>\n",
       "      <td>219213.196461</td>\n",
       "    </tr>\n",
       "    <tr>\n",
       "      <th>3</th>\n",
       "      <td>1989</td>\n",
       "      <td>105728.072401</td>\n",
       "    </tr>\n",
       "    <tr>\n",
       "      <th>4</th>\n",
       "      <td>625</td>\n",
       "      <td>155506.451061</td>\n",
       "    </tr>\n",
       "  </tbody>\n",
       "</table>\n",
       "</div>"
      ],
      "text/plain": [
       "     Id      SalePrice\n",
       "0  2658  158885.277412\n",
       "1  2718  175552.660704\n",
       "2  2414  219213.196461\n",
       "3  1989  105728.072401\n",
       "4   625  155506.451061"
      ]
     },
     "execution_count": 164,
     "metadata": {},
     "output_type": "execute_result"
    }
   ],
   "source": [
    "fifteenth_submission.head()"
   ]
  },
  {
   "cell_type": "code",
   "execution_count": 165,
   "metadata": {},
   "outputs": [],
   "source": [
    "fifteenth_submission.to_csv('./datasets/fifteenth_submission.csv', index = False)"
   ]
  },
  {
   "cell_type": "code",
   "execution_count": null,
   "metadata": {},
   "outputs": [],
   "source": []
  }
 ],
 "metadata": {
  "kernelspec": {
   "display_name": "Python [conda env:dsi] *",
   "language": "python",
   "name": "conda-env-dsi-py"
  },
  "language_info": {
   "codemirror_mode": {
    "name": "ipython",
    "version": 3
   },
   "file_extension": ".py",
   "mimetype": "text/x-python",
   "name": "python",
   "nbconvert_exporter": "python",
   "pygments_lexer": "ipython3",
   "version": "3.7.3"
  }
 },
 "nbformat": 4,
 "nbformat_minor": 2
}
