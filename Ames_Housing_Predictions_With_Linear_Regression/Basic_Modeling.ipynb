{
 "cells": [
  {
   "cell_type": "markdown",
   "metadata": {},
   "source": [
    "# Modeling"
   ]
  },
  {
   "cell_type": "code",
   "execution_count": 1,
   "metadata": {},
   "outputs": [],
   "source": [
    "import pandas as pd\n",
    "import numpy as np\n",
    "import matplotlib.pyplot as plt\n",
    "import seaborn as sns\n",
    "import scipy.stats\n",
    "\n",
    "from sklearn import metrics\n",
    "from sklearn.model_selection import cross_val_score, cross_val_predict, KFold, train_test_split\n",
    "from sklearn.linear_model import LinearRegression, RidgeCV, LassoCV\n",
    "import statsmodels.api as sm\n",
    "from sklearn.preprocessing import StandardScaler, PowerTransformer, PolynomialFeatures\n",
    "\n",
    "import warnings\n",
    "warnings.filterwarnings(\"ignore\")"
   ]
  },
  {
   "cell_type": "code",
   "execution_count": 2,
   "metadata": {},
   "outputs": [],
   "source": [
    "lr = LinearRegression()\n",
    "ridge = RidgeCV(alphas = np.logspace(0, 5, 200),cv = 5)\n",
    "lasso = LassoCV(n_alphas = 500, cv = 5, random_state = 42)"
   ]
  },
  {
   "cell_type": "code",
   "execution_count": 3,
   "metadata": {},
   "outputs": [],
   "source": [
    "train = pd.read_csv('./datasets/clean_train.csv')\n",
    "test = pd.read_csv('./datasets/clean_test.csv')"
   ]
  },
  {
   "cell_type": "code",
   "execution_count": 4,
   "metadata": {
    "scrolled": true
   },
   "outputs": [
    {
     "name": "stdout",
     "output_type": "stream",
     "text": [
      "<class 'pandas.core.frame.DataFrame'>\n",
      "RangeIndex: 879 entries, 0 to 878\n",
      "Data columns (total 70 columns):\n",
      "id                   879 non-null int64\n",
      "pid                  879 non-null int64\n",
      "ms_subclass          879 non-null int64\n",
      "ms_zoning            879 non-null object\n",
      "lot_frontage         879 non-null float64\n",
      "lot_area             879 non-null int64\n",
      "street               879 non-null object\n",
      "lot_shape            879 non-null object\n",
      "land_contour         879 non-null object\n",
      "utilities            879 non-null object\n",
      "lot_config           879 non-null object\n",
      "land_slope           879 non-null object\n",
      "neighborhood         879 non-null object\n",
      "condition_1          879 non-null object\n",
      "condition_2          879 non-null object\n",
      "bldg_type            879 non-null object\n",
      "house_style          879 non-null object\n",
      "overall_qual         879 non-null int64\n",
      "overall_cond         879 non-null int64\n",
      "year_built           879 non-null int64\n",
      "year_remod/add       879 non-null int64\n",
      "roof_style           879 non-null object\n",
      "roof_matl            879 non-null object\n",
      "exterior_1st         879 non-null object\n",
      "exterior_2nd         879 non-null object\n",
      "mas_vnr_type         879 non-null object\n",
      "mas_vnr_area         879 non-null float64\n",
      "exter_qual           879 non-null int64\n",
      "exter_cond           879 non-null int64\n",
      "foundation           879 non-null object\n",
      "bsmt_qual            879 non-null int64\n",
      "bsmt_cond            879 non-null int64\n",
      "bsmt_exposure        879 non-null int64\n",
      "bsmtfin_type_1       879 non-null object\n",
      "bsmtfin_type_2       879 non-null object\n",
      "total_bsmt_sf        879 non-null int64\n",
      "heating              879 non-null object\n",
      "heating_qc           879 non-null int64\n",
      "central_air          879 non-null object\n",
      "electrical           879 non-null object\n",
      "gr_liv_area          879 non-null int64\n",
      "bedroom_abvgr        879 non-null int64\n",
      "kitchen_abvgr        879 non-null int64\n",
      "kitchen_qual         879 non-null int64\n",
      "totrms_abvgrd        879 non-null int64\n",
      "functional           879 non-null int64\n",
      "fireplaces           879 non-null int64\n",
      "fireplace_qu         879 non-null int64\n",
      "garage_type          879 non-null object\n",
      "garage_yr_blt        879 non-null float64\n",
      "garage_finish        879 non-null int64\n",
      "garage_area          879 non-null int64\n",
      "garage_qual          879 non-null int64\n",
      "garage_cond          879 non-null int64\n",
      "paved_drive          879 non-null object\n",
      "wood_deck_sf         879 non-null int64\n",
      "open_porch_sf        879 non-null int64\n",
      "enclosed_porch       879 non-null int64\n",
      "3ssn_porch           879 non-null int64\n",
      "screen_porch         879 non-null int64\n",
      "pool_area            879 non-null int64\n",
      "fence                879 non-null object\n",
      "misc_val             879 non-null int64\n",
      "mo_sold              879 non-null int64\n",
      "yr_sold              879 non-null int64\n",
      "sale_type            879 non-null object\n",
      "total_baths          879 non-null float64\n",
      "total_sf             879 non-null int64\n",
      "age                  879 non-null int64\n",
      "neighborhood_qual    879 non-null int64\n",
      "dtypes: float64(4), int64(39), object(27)\n",
      "memory usage: 480.8+ KB\n"
     ]
    }
   ],
   "source": [
    "test.info()"
   ]
  },
  {
   "cell_type": "code",
   "execution_count": 5,
   "metadata": {},
   "outputs": [],
   "source": [
    "train['ms_subclass'] = train['ms_subclass'].astype('object')\n",
    "test['ms_subclass'] = test['ms_subclass'].astype('object')"
   ]
  },
  {
   "cell_type": "code",
   "execution_count": 6,
   "metadata": {
    "scrolled": true
   },
   "outputs": [
    {
     "name": "stdout",
     "output_type": "stream",
     "text": [
      "<class 'pandas.core.frame.DataFrame'>\n",
      "RangeIndex: 2025 entries, 0 to 2024\n",
      "Data columns (total 71 columns):\n",
      "id                   2025 non-null int64\n",
      "pid                  2025 non-null int64\n",
      "ms_subclass          2025 non-null object\n",
      "ms_zoning            2025 non-null object\n",
      "lot_frontage         2025 non-null float64\n",
      "lot_area             2025 non-null int64\n",
      "street               2025 non-null object\n",
      "lot_shape            2025 non-null object\n",
      "land_contour         2025 non-null object\n",
      "utilities            2025 non-null object\n",
      "lot_config           2025 non-null object\n",
      "land_slope           2025 non-null object\n",
      "neighborhood         2025 non-null object\n",
      "condition_1          2025 non-null object\n",
      "condition_2          2025 non-null object\n",
      "bldg_type            2025 non-null object\n",
      "house_style          2025 non-null object\n",
      "overall_qual         2025 non-null int64\n",
      "overall_cond         2025 non-null int64\n",
      "year_built           2025 non-null int64\n",
      "year_remod/add       2025 non-null int64\n",
      "roof_style           2025 non-null object\n",
      "roof_matl            2025 non-null object\n",
      "exterior_1st         2025 non-null object\n",
      "exterior_2nd         2025 non-null object\n",
      "mas_vnr_type         2025 non-null object\n",
      "mas_vnr_area         2025 non-null float64\n",
      "exter_qual           2025 non-null int64\n",
      "exter_cond           2025 non-null int64\n",
      "foundation           2025 non-null object\n",
      "bsmt_qual            2025 non-null int64\n",
      "bsmt_cond            2025 non-null int64\n",
      "bsmt_exposure        2025 non-null int64\n",
      "bsmtfin_type_1       2025 non-null object\n",
      "bsmtfin_type_2       2025 non-null object\n",
      "total_bsmt_sf        2025 non-null float64\n",
      "heating              2025 non-null object\n",
      "heating_qc           2025 non-null int64\n",
      "central_air          2025 non-null object\n",
      "electrical           2025 non-null object\n",
      "gr_liv_area          2025 non-null int64\n",
      "bedroom_abvgr        2025 non-null int64\n",
      "kitchen_abvgr        2025 non-null int64\n",
      "kitchen_qual         2025 non-null int64\n",
      "totrms_abvgrd        2025 non-null int64\n",
      "functional           2025 non-null int64\n",
      "fireplaces           2025 non-null int64\n",
      "fireplace_qu         2025 non-null int64\n",
      "garage_type          2025 non-null object\n",
      "garage_yr_blt        2025 non-null float64\n",
      "garage_finish        2025 non-null int64\n",
      "garage_area          2025 non-null float64\n",
      "garage_qual          2025 non-null int64\n",
      "garage_cond          2025 non-null int64\n",
      "paved_drive          2025 non-null object\n",
      "wood_deck_sf         2025 non-null int64\n",
      "open_porch_sf        2025 non-null int64\n",
      "enclosed_porch       2025 non-null int64\n",
      "3ssn_porch           2025 non-null int64\n",
      "screen_porch         2025 non-null int64\n",
      "pool_area            2025 non-null int64\n",
      "fence                2025 non-null object\n",
      "misc_val             2025 non-null int64\n",
      "mo_sold              2025 non-null int64\n",
      "yr_sold              2025 non-null int64\n",
      "sale_type            2025 non-null object\n",
      "saleprice            2025 non-null int64\n",
      "total_baths          2025 non-null float64\n",
      "total_sf             2025 non-null float64\n",
      "age                  2025 non-null int64\n",
      "neighborhood_qual    2025 non-null int64\n",
      "dtypes: float64(7), int64(36), object(28)\n",
      "memory usage: 1.1+ MB\n"
     ]
    }
   ],
   "source": [
    "train.info()"
   ]
  },
  {
   "cell_type": "code",
   "execution_count": 7,
   "metadata": {
    "scrolled": true
   },
   "outputs": [
    {
     "name": "stdout",
     "output_type": "stream",
     "text": [
      "<class 'pandas.core.frame.DataFrame'>\n",
      "RangeIndex: 879 entries, 0 to 878\n",
      "Data columns (total 70 columns):\n",
      "id                   879 non-null int64\n",
      "pid                  879 non-null int64\n",
      "ms_subclass          879 non-null object\n",
      "ms_zoning            879 non-null object\n",
      "lot_frontage         879 non-null float64\n",
      "lot_area             879 non-null int64\n",
      "street               879 non-null object\n",
      "lot_shape            879 non-null object\n",
      "land_contour         879 non-null object\n",
      "utilities            879 non-null object\n",
      "lot_config           879 non-null object\n",
      "land_slope           879 non-null object\n",
      "neighborhood         879 non-null object\n",
      "condition_1          879 non-null object\n",
      "condition_2          879 non-null object\n",
      "bldg_type            879 non-null object\n",
      "house_style          879 non-null object\n",
      "overall_qual         879 non-null int64\n",
      "overall_cond         879 non-null int64\n",
      "year_built           879 non-null int64\n",
      "year_remod/add       879 non-null int64\n",
      "roof_style           879 non-null object\n",
      "roof_matl            879 non-null object\n",
      "exterior_1st         879 non-null object\n",
      "exterior_2nd         879 non-null object\n",
      "mas_vnr_type         879 non-null object\n",
      "mas_vnr_area         879 non-null float64\n",
      "exter_qual           879 non-null int64\n",
      "exter_cond           879 non-null int64\n",
      "foundation           879 non-null object\n",
      "bsmt_qual            879 non-null int64\n",
      "bsmt_cond            879 non-null int64\n",
      "bsmt_exposure        879 non-null int64\n",
      "bsmtfin_type_1       879 non-null object\n",
      "bsmtfin_type_2       879 non-null object\n",
      "total_bsmt_sf        879 non-null int64\n",
      "heating              879 non-null object\n",
      "heating_qc           879 non-null int64\n",
      "central_air          879 non-null object\n",
      "electrical           879 non-null object\n",
      "gr_liv_area          879 non-null int64\n",
      "bedroom_abvgr        879 non-null int64\n",
      "kitchen_abvgr        879 non-null int64\n",
      "kitchen_qual         879 non-null int64\n",
      "totrms_abvgrd        879 non-null int64\n",
      "functional           879 non-null int64\n",
      "fireplaces           879 non-null int64\n",
      "fireplace_qu         879 non-null int64\n",
      "garage_type          879 non-null object\n",
      "garage_yr_blt        879 non-null float64\n",
      "garage_finish        879 non-null int64\n",
      "garage_area          879 non-null int64\n",
      "garage_qual          879 non-null int64\n",
      "garage_cond          879 non-null int64\n",
      "paved_drive          879 non-null object\n",
      "wood_deck_sf         879 non-null int64\n",
      "open_porch_sf        879 non-null int64\n",
      "enclosed_porch       879 non-null int64\n",
      "3ssn_porch           879 non-null int64\n",
      "screen_porch         879 non-null int64\n",
      "pool_area            879 non-null int64\n",
      "fence                879 non-null object\n",
      "misc_val             879 non-null int64\n",
      "mo_sold              879 non-null int64\n",
      "yr_sold              879 non-null int64\n",
      "sale_type            879 non-null object\n",
      "total_baths          879 non-null float64\n",
      "total_sf             879 non-null int64\n",
      "age                  879 non-null int64\n",
      "neighborhood_qual    879 non-null int64\n",
      "dtypes: float64(4), int64(38), object(28)\n",
      "memory usage: 480.8+ KB\n"
     ]
    }
   ],
   "source": [
    "test.info()"
   ]
  },
  {
   "cell_type": "code",
   "execution_count": 8,
   "metadata": {},
   "outputs": [],
   "source": [
    "numeric_cols_train = [col for col in train.select_dtypes(exclude=['object'])]\n",
    "numeric_cols_test = [col for col in test.select_dtypes(exclude=['object'])]\n",
    "\n",
    "categorical_cols_train = [col for col in train.select_dtypes('object')]\n",
    "categorical_cols_test = [col for col in test.select_dtypes('object')]"
   ]
  },
  {
   "cell_type": "code",
   "execution_count": 9,
   "metadata": {
    "scrolled": true
   },
   "outputs": [
    {
     "data": {
      "text/plain": [
       "['ms_subclass',\n",
       " 'ms_zoning',\n",
       " 'street',\n",
       " 'lot_shape',\n",
       " 'land_contour',\n",
       " 'utilities',\n",
       " 'lot_config',\n",
       " 'land_slope',\n",
       " 'neighborhood',\n",
       " 'condition_1',\n",
       " 'condition_2',\n",
       " 'bldg_type',\n",
       " 'house_style',\n",
       " 'roof_style',\n",
       " 'roof_matl',\n",
       " 'exterior_1st',\n",
       " 'exterior_2nd',\n",
       " 'mas_vnr_type',\n",
       " 'foundation',\n",
       " 'bsmtfin_type_1',\n",
       " 'bsmtfin_type_2',\n",
       " 'heating',\n",
       " 'central_air',\n",
       " 'electrical',\n",
       " 'garage_type',\n",
       " 'paved_drive',\n",
       " 'fence',\n",
       " 'sale_type']"
      ]
     },
     "execution_count": 9,
     "metadata": {},
     "output_type": "execute_result"
    }
   ],
   "source": [
    "categorical_cols_test"
   ]
  },
  {
   "cell_type": "code",
   "execution_count": 10,
   "metadata": {
    "scrolled": true
   },
   "outputs": [
    {
     "data": {
      "text/plain": [
       "['ms_subclass',\n",
       " 'ms_zoning',\n",
       " 'street',\n",
       " 'lot_shape',\n",
       " 'land_contour',\n",
       " 'utilities',\n",
       " 'lot_config',\n",
       " 'land_slope',\n",
       " 'neighborhood',\n",
       " 'condition_1',\n",
       " 'condition_2',\n",
       " 'bldg_type',\n",
       " 'house_style',\n",
       " 'roof_style',\n",
       " 'roof_matl',\n",
       " 'exterior_1st',\n",
       " 'exterior_2nd',\n",
       " 'mas_vnr_type',\n",
       " 'foundation',\n",
       " 'bsmtfin_type_1',\n",
       " 'bsmtfin_type_2',\n",
       " 'heating',\n",
       " 'central_air',\n",
       " 'electrical',\n",
       " 'garage_type',\n",
       " 'paved_drive',\n",
       " 'fence',\n",
       " 'sale_type']"
      ]
     },
     "execution_count": 10,
     "metadata": {},
     "output_type": "execute_result"
    }
   ],
   "source": [
    "categorical_cols_train"
   ]
  },
  {
   "cell_type": "code",
   "execution_count": 11,
   "metadata": {},
   "outputs": [],
   "source": [
    "train = pd.get_dummies(data = train, columns = categorical_cols_train, drop_first = True)"
   ]
  },
  {
   "cell_type": "code",
   "execution_count": 12,
   "metadata": {},
   "outputs": [
    {
     "data": {
      "text/plain": [
       "(2025, 218)"
      ]
     },
     "execution_count": 12,
     "metadata": {},
     "output_type": "execute_result"
    }
   ],
   "source": [
    "train.shape"
   ]
  },
  {
   "cell_type": "code",
   "execution_count": 13,
   "metadata": {},
   "outputs": [],
   "source": [
    "test = pd.get_dummies(data = test, columns = categorical_cols_test, drop_first = True)"
   ]
  },
  {
   "cell_type": "code",
   "execution_count": 14,
   "metadata": {},
   "outputs": [
    {
     "data": {
      "text/plain": [
       "(879, 209)"
      ]
     },
     "execution_count": 14,
     "metadata": {},
     "output_type": "execute_result"
    }
   ],
   "source": [
    "test.shape"
   ]
  },
  {
   "cell_type": "code",
   "execution_count": 15,
   "metadata": {},
   "outputs": [
    {
     "data": {
      "text/plain": [
       "{'condition_2_Feedr',\n",
       " 'condition_2_RRAe',\n",
       " 'condition_2_RRAn',\n",
       " 'condition_2_RRNn',\n",
       " 'electrical_Mix',\n",
       " 'exterior_1st_CBlock',\n",
       " 'exterior_1st_ImStucc',\n",
       " 'exterior_1st_Stone',\n",
       " 'exterior_2nd_Stone',\n",
       " 'heating_OthW',\n",
       " 'heating_Wall',\n",
       " 'ms_subclass_150',\n",
       " 'ms_zoning_C (all)',\n",
       " 'neighborhood_GrnHill',\n",
       " 'neighborhood_Landmrk',\n",
       " 'roof_matl_Membran',\n",
       " 'saleprice',\n",
       " 'utilities_NoSeWa'}"
      ]
     },
     "execution_count": 15,
     "metadata": {},
     "output_type": "execute_result"
    }
   ],
   "source": [
    "missing_columns = set(train.columns) - set(test.columns)\n",
    "missing_columns"
   ]
  },
  {
   "cell_type": "code",
   "execution_count": 16,
   "metadata": {},
   "outputs": [],
   "source": [
    "for column in missing_columns:\n",
    "    if column != 'saleprice':\n",
    "        test[column] = 0"
   ]
  },
  {
   "cell_type": "code",
   "execution_count": 17,
   "metadata": {},
   "outputs": [
    {
     "data": {
      "text/plain": [
       "(879, 226)"
      ]
     },
     "execution_count": 17,
     "metadata": {},
     "output_type": "execute_result"
    }
   ],
   "source": [
    "test.shape"
   ]
  },
  {
   "cell_type": "code",
   "execution_count": 18,
   "metadata": {},
   "outputs": [
    {
     "data": {
      "text/plain": [
       "(2025, 218)"
      ]
     },
     "execution_count": 18,
     "metadata": {},
     "output_type": "execute_result"
    }
   ],
   "source": [
    "train.shape"
   ]
  },
  {
   "cell_type": "code",
   "execution_count": 19,
   "metadata": {},
   "outputs": [],
   "source": [
    "missing_from_train = set(test.columns) - set(train.columns)"
   ]
  },
  {
   "cell_type": "code",
   "execution_count": 20,
   "metadata": {},
   "outputs": [],
   "source": [
    "for column in missing_from_train:\n",
    "    train[column] = 0"
   ]
  },
  {
   "cell_type": "code",
   "execution_count": 21,
   "metadata": {},
   "outputs": [
    {
     "data": {
      "text/plain": [
       "(2025, 227)"
      ]
     },
     "execution_count": 21,
     "metadata": {},
     "output_type": "execute_result"
    }
   ],
   "source": [
    "train.shape"
   ]
  },
  {
   "cell_type": "code",
   "execution_count": 22,
   "metadata": {},
   "outputs": [
    {
     "data": {
      "text/plain": [
       "(879, 226)"
      ]
     },
     "execution_count": 22,
     "metadata": {},
     "output_type": "execute_result"
    }
   ],
   "source": [
    "test.shape"
   ]
  },
  {
   "cell_type": "code",
   "execution_count": 23,
   "metadata": {},
   "outputs": [
    {
     "data": {
      "text/plain": [
       "Index(['id', 'pid', 'lot_frontage', 'lot_area', 'overall_qual', 'overall_cond',\n",
       "       'year_built', 'year_remod/add', 'mas_vnr_area', 'exter_qual',\n",
       "       ...\n",
       "       'sale_type_WD ', 'mas_vnr_type_CBlock', 'exterior_2nd_Other',\n",
       "       'roof_matl_Metal', 'heating_GasA', 'roof_matl_Roll',\n",
       "       'exterior_1st_PreCast', 'sale_type_VWD', 'electrical_None',\n",
       "       'exterior_2nd_PreCast'],\n",
       "      dtype='object', length=227)"
      ]
     },
     "execution_count": 23,
     "metadata": {},
     "output_type": "execute_result"
    }
   ],
   "source": [
    "train.columns"
   ]
  },
  {
   "cell_type": "code",
   "execution_count": 24,
   "metadata": {},
   "outputs": [],
   "source": [
    "train.to_csv('./datasets/train_with_dummies.csv')\n",
    "test.to_csv('./datasets/test_with_dummies.csv')"
   ]
  },
  {
   "cell_type": "code",
   "execution_count": null,
   "metadata": {},
   "outputs": [],
   "source": []
  },
  {
   "cell_type": "code",
   "execution_count": 25,
   "metadata": {},
   "outputs": [],
   "source": [
    "features = [x for x in train.columns if x not in ['saleprice', 'id', 'pid']]"
   ]
  },
  {
   "cell_type": "code",
   "execution_count": 26,
   "metadata": {},
   "outputs": [],
   "source": [
    "X = train[features]\n",
    "y = train['saleprice']"
   ]
  },
  {
   "cell_type": "code",
   "execution_count": 27,
   "metadata": {},
   "outputs": [],
   "source": [
    "X_train, X_test, y_train, y_test = train_test_split(X, y, test_size = 0.3, random_state = 42)"
   ]
  },
  {
   "cell_type": "code",
   "execution_count": 28,
   "metadata": {},
   "outputs": [
    {
     "data": {
      "text/plain": [
       "LinearRegression(copy_X=True, fit_intercept=True, n_jobs=None, normalize=False)"
      ]
     },
     "execution_count": 28,
     "metadata": {},
     "output_type": "execute_result"
    }
   ],
   "source": [
    "lr.fit(X_train, y_train)"
   ]
  },
  {
   "cell_type": "code",
   "execution_count": 29,
   "metadata": {},
   "outputs": [
    {
     "data": {
      "text/plain": [
       "0.9340477469838739"
      ]
     },
     "execution_count": 29,
     "metadata": {},
     "output_type": "execute_result"
    }
   ],
   "source": [
    "lr.score(X_train, y_train)"
   ]
  },
  {
   "cell_type": "code",
   "execution_count": 30,
   "metadata": {},
   "outputs": [
    {
     "data": {
      "text/plain": [
       "0.8939464078439503"
      ]
     },
     "execution_count": 30,
     "metadata": {},
     "output_type": "execute_result"
    }
   ],
   "source": [
    "lr.score(X_test, y_test)"
   ]
  },
  {
   "cell_type": "code",
   "execution_count": 31,
   "metadata": {},
   "outputs": [
    {
     "data": {
      "text/plain": [
       "0.8743410324079404"
      ]
     },
     "execution_count": 31,
     "metadata": {},
     "output_type": "execute_result"
    }
   ],
   "source": [
    "cross_val_score(lr, X_train, y_train, cv = 5).mean()"
   ]
  },
  {
   "cell_type": "code",
   "execution_count": 32,
   "metadata": {},
   "outputs": [],
   "source": [
    "lr_preds = lr.predict(X)"
   ]
  },
  {
   "cell_type": "code",
   "execution_count": 33,
   "metadata": {},
   "outputs": [
    {
     "data": {
      "text/plain": [
       "array([178181.78446536, 234168.16818247, 140781.23662835, ...,\n",
       "       183135.66710523, 121854.63458701, 192683.3994646 ])"
      ]
     },
     "execution_count": 33,
     "metadata": {},
     "output_type": "execute_result"
    }
   ],
   "source": [
    "lr_preds"
   ]
  },
  {
   "cell_type": "code",
   "execution_count": 34,
   "metadata": {},
   "outputs": [
    {
     "data": {
      "text/plain": [
       "22328.805731503966"
      ]
     },
     "execution_count": 34,
     "metadata": {},
     "output_type": "execute_result"
    }
   ],
   "source": [
    "lr_preds = lr.predict(X)\n",
    "metrics.mean_squared_error(y, lr_preds)\n",
    "\n",
    "rmse = np.sqrt(metrics.mean_squared_error(y, lr_preds))\n",
    "rmse"
   ]
  },
  {
   "cell_type": "markdown",
   "metadata": {},
   "source": [
    "# Ridge Model"
   ]
  },
  {
   "cell_type": "code",
   "execution_count": 35,
   "metadata": {
    "scrolled": true
   },
   "outputs": [
    {
     "data": {
      "text/plain": [
       "RidgeCV(alphas=array([1.00000000e+00, 1.05956018e+00, 1.12266777e+00, 1.18953407e+00,\n",
       "       1.26038293e+00, 1.33545156e+00, 1.41499130e+00, 1.49926843e+00,\n",
       "       1.58856513e+00, 1.68318035e+00, 1.78343088e+00, 1.88965234e+00,\n",
       "       2.00220037e+00, 2.12145178e+00, 2.24780583e+00, 2.38168555e+00,\n",
       "       2.52353917e+00, 2.67384162e+00, 2.83309610e+00, 3.00183581e+00,\n",
       "       3.18062569e+00, 3.37006433e+0...\n",
       "       3.33129479e+04, 3.52970730e+04, 3.73993730e+04, 3.96268864e+04,\n",
       "       4.19870708e+04, 4.44878283e+04, 4.71375313e+04, 4.99450512e+04,\n",
       "       5.29197874e+04, 5.60716994e+04, 5.94113398e+04, 6.29498899e+04,\n",
       "       6.66991966e+04, 7.06718127e+04, 7.48810386e+04, 7.93409667e+04,\n",
       "       8.40665289e+04, 8.90735464e+04, 9.43787828e+04, 1.00000000e+05]),\n",
       "        cv=5, fit_intercept=True, gcv_mode=None, normalize=False, scoring=None,\n",
       "        store_cv_values=False)"
      ]
     },
     "execution_count": 35,
     "metadata": {},
     "output_type": "execute_result"
    }
   ],
   "source": [
    "ridge.fit(X_train, y_train)"
   ]
  },
  {
   "cell_type": "code",
   "execution_count": 36,
   "metadata": {},
   "outputs": [
    {
     "data": {
      "text/plain": [
       "0.9241885435265851"
      ]
     },
     "execution_count": 36,
     "metadata": {},
     "output_type": "execute_result"
    }
   ],
   "source": [
    "ridge.score(X_train, y_train)"
   ]
  },
  {
   "cell_type": "code",
   "execution_count": 37,
   "metadata": {},
   "outputs": [
    {
     "data": {
      "text/plain": [
       "0.9082010856364274"
      ]
     },
     "execution_count": 37,
     "metadata": {},
     "output_type": "execute_result"
    }
   ],
   "source": [
    "ridge.score(X_test, y_test)"
   ]
  },
  {
   "cell_type": "code",
   "execution_count": 38,
   "metadata": {},
   "outputs": [
    {
     "data": {
      "text/plain": [
       "0.8972197156796623"
      ]
     },
     "execution_count": 38,
     "metadata": {},
     "output_type": "execute_result"
    }
   ],
   "source": [
    "cross_val_score(ridge, X_train, y_train, cv = 5).mean()"
   ]
  },
  {
   "cell_type": "code",
   "execution_count": 39,
   "metadata": {},
   "outputs": [
    {
     "data": {
      "text/plain": [
       "0.9082010856364274"
      ]
     },
     "execution_count": 39,
     "metadata": {},
     "output_type": "execute_result"
    }
   ],
   "source": [
    "# This is the same as ridge.score\n",
    "metrics.r2_score(y_test, ridge.predict(X_test))"
   ]
  },
  {
   "cell_type": "code",
   "execution_count": 40,
   "metadata": {},
   "outputs": [
    {
     "data": {
      "text/plain": [
       "22539.96289716028"
      ]
     },
     "execution_count": 40,
     "metadata": {},
     "output_type": "execute_result"
    }
   ],
   "source": [
    "ridge_preds = ridge.predict(X)\n",
    "metrics.mean_squared_error(y, ridge_preds)\n",
    "\n",
    "rmse = np.sqrt(metrics.mean_squared_error(y, ridge_preds))\n",
    "rmse"
   ]
  },
  {
   "cell_type": "code",
   "execution_count": 41,
   "metadata": {},
   "outputs": [
    {
     "data": {
      "text/plain": [
       "12.750512407130135"
      ]
     },
     "execution_count": 41,
     "metadata": {},
     "output_type": "execute_result"
    }
   ],
   "source": [
    "ridge.alpha_"
   ]
  },
  {
   "cell_type": "markdown",
   "metadata": {},
   "source": [
    "# LASSO model"
   ]
  },
  {
   "cell_type": "code",
   "execution_count": 42,
   "metadata": {},
   "outputs": [
    {
     "data": {
      "text/plain": [
       "LassoCV(alphas=None, copy_X=True, cv=5, eps=0.001, fit_intercept=True,\n",
       "        max_iter=1000, n_alphas=500, n_jobs=None, normalize=False,\n",
       "        positive=False, precompute='auto', random_state=42, selection='cyclic',\n",
       "        tol=0.0001, verbose=False)"
      ]
     },
     "execution_count": 42,
     "metadata": {},
     "output_type": "execute_result"
    }
   ],
   "source": [
    "lasso.fit(X_train, y_train)"
   ]
  },
  {
   "cell_type": "code",
   "execution_count": 43,
   "metadata": {},
   "outputs": [
    {
     "data": {
      "text/plain": [
       "0.8066180050197833"
      ]
     },
     "execution_count": 43,
     "metadata": {},
     "output_type": "execute_result"
    }
   ],
   "source": [
    "lasso.score(X_train, y_train)"
   ]
  },
  {
   "cell_type": "code",
   "execution_count": 44,
   "metadata": {},
   "outputs": [
    {
     "data": {
      "text/plain": [
       "0.80168847728729"
      ]
     },
     "execution_count": 44,
     "metadata": {},
     "output_type": "execute_result"
    }
   ],
   "source": [
    "lasso.score(X_test, y_test)"
   ]
  },
  {
   "cell_type": "code",
   "execution_count": 45,
   "metadata": {},
   "outputs": [
    {
     "data": {
      "text/plain": [
       "129866.29354370323"
      ]
     },
     "execution_count": 45,
     "metadata": {},
     "output_type": "execute_result"
    }
   ],
   "source": [
    "lasso.alpha_"
   ]
  },
  {
   "cell_type": "code",
   "execution_count": 46,
   "metadata": {},
   "outputs": [
    {
     "data": {
      "text/plain": [
       "0.7960153542056269"
      ]
     },
     "execution_count": 46,
     "metadata": {},
     "output_type": "execute_result"
    }
   ],
   "source": [
    "cross_val_score(lasso, X_train, y_train, cv = 5).mean()"
   ]
  },
  {
   "cell_type": "code",
   "execution_count": 47,
   "metadata": {},
   "outputs": [
    {
     "data": {
      "text/plain": [
       "0.80168847728729"
      ]
     },
     "execution_count": 47,
     "metadata": {},
     "output_type": "execute_result"
    }
   ],
   "source": [
    "# This is the same as lasso.score\n",
    "metrics.r2_score(y_test, lasso.predict(X_test))"
   ]
  },
  {
   "cell_type": "code",
   "execution_count": 48,
   "metadata": {},
   "outputs": [
    {
     "data": {
      "text/plain": [
       "34906.7449263208"
      ]
     },
     "execution_count": 48,
     "metadata": {},
     "output_type": "execute_result"
    }
   ],
   "source": [
    "lass_preds = lasso.predict(X)\n",
    "metrics.mean_squared_error(y, lass_preds)\n",
    "\n",
    "rmse = np.sqrt(metrics.mean_squared_error(y, lass_preds))\n",
    "rmse"
   ]
  },
  {
   "cell_type": "code",
   "execution_count": 49,
   "metadata": {
    "scrolled": true
   },
   "outputs": [
    {
     "data": {
      "text/plain": [
       "array([  0.        ,   0.76452131,   0.        ,   0.        ,\n",
       "       289.55418534, 332.64610209,  52.81354453,   0.        ,\n",
       "         0.        ,   0.        ,   0.        ,   0.        ,\n",
       "         0.        ,   0.        ,  10.67114053,  -0.        ,\n",
       "        -0.        ,   0.        ,  -0.        ,   0.        ,\n",
       "         0.        ,   0.        ,  -1.14296832,   0.        ,\n",
       "        57.67952183,   0.        ,   0.        ,  25.03602568,\n",
       "        24.61228014,  -0.        ,   0.        ,  26.06686799,\n",
       "        -0.        ,  -1.88002415,   0.        ,   0.        ,\n",
       "         0.        ,  51.99778944,  -0.        ,   0.        ,\n",
       "         0.        ,   0.        ,   0.        ,  -0.        ,\n",
       "         0.        ,   0.        ,   0.        ,   0.        ,\n",
       "         0.        ,  -0.        ,   0.        ,  -0.        ,\n",
       "        -0.        ,   0.        ,  -0.        ,  -0.        ,\n",
       "         0.        ,   0.        ,  -0.        ,   0.        ,\n",
       "        -0.        ,   0.        ,   0.        ,  -0.        ,\n",
       "        -0.        ,   0.        ,  -0.        ,  -0.        ,\n",
       "         0.        ,   0.        ,   0.        ,  -0.        ,\n",
       "        -0.        ,  -0.        ,   0.        ,  -0.        ,\n",
       "         0.        ,  -0.        ,   0.        ,  -0.        ,\n",
       "        -0.        ,   0.        ,  -0.        ,  -0.        ,\n",
       "         0.        ,   0.        ,  -0.        ,  -0.        ,\n",
       "        -0.        ,  -0.        ,  -0.        ,  -0.        ,\n",
       "        -0.        ,   0.        ,   0.        ,  -0.        ,\n",
       "        -0.        ,  -0.        ,  -0.        ,   0.        ,\n",
       "         0.        ,   0.        ,   0.        ,  -0.        ,\n",
       "         0.        ,   0.        ,   0.        ,  -0.        ,\n",
       "        -0.        ,  -0.        ,  -0.        ,  -0.        ,\n",
       "         0.        ,   0.        ,   0.        ,  -0.        ,\n",
       "        -0.        ,   0.        ,  -0.        ,  -0.        ,\n",
       "        -0.        ,   0.        ,   0.        ,   0.        ,\n",
       "         0.        ,   0.        ,   0.        ,   0.        ,\n",
       "         0.        ,  -0.        ,   0.        ,   0.        ,\n",
       "        -0.        ,  -0.        ,   0.        ,   0.        ,\n",
       "        -0.        ,   0.        ,  -0.        ,  -0.        ,\n",
       "         0.        ,  -0.        ,   0.        ,  -0.        ,\n",
       "         0.        ,  -0.        ,  -0.        ,   0.        ,\n",
       "         0.        ,   0.        ,  -0.        ,   0.        ,\n",
       "         0.        ,  -0.        ,   0.        ,  -0.        ,\n",
       "         0.        ,  -0.        ,  -0.        ,   0.        ,\n",
       "        -0.        ,   0.        ,  -0.        ,   0.        ,\n",
       "         0.        ,   0.        ,  -0.        ,   0.        ,\n",
       "         0.        ,  -0.        ,   0.        ,   0.        ,\n",
       "         0.        ,   0.        ,  -0.        ,   0.        ,\n",
       "        -0.        ,   0.        ,  -0.        ,  -0.        ,\n",
       "        -0.        ,   0.        ,  -0.        ,   0.        ,\n",
       "        -0.        ,   0.        ,  -0.        ,  -0.        ,\n",
       "        -0.        ,   0.        ,   0.        ,  -0.        ,\n",
       "        -0.        ,  -0.        ,   0.        ,   0.        ,\n",
       "         0.        ,   0.        ,  -0.        ,  -0.        ,\n",
       "         0.        ,  -0.        ,   0.        ,  -0.        ,\n",
       "        -0.        ,  -0.        ,   0.        ,   0.        ,\n",
       "         0.        ,   0.        ,  -0.        ,   0.        ,\n",
       "         0.        ,   0.        ,  -0.        ,   0.        ,\n",
       "         0.        ,   0.        ,   0.        ,   0.        ,\n",
       "         0.        ,   0.        ,   0.        ,   0.        ])"
      ]
     },
     "execution_count": 49,
     "metadata": {},
     "output_type": "execute_result"
    }
   ],
   "source": [
    "lasso.coef_"
   ]
  },
  {
   "cell_type": "code",
   "execution_count": null,
   "metadata": {},
   "outputs": [],
   "source": []
  },
  {
   "cell_type": "markdown",
   "metadata": {},
   "source": [
    "# Scaled Models"
   ]
  },
  {
   "cell_type": "code",
   "execution_count": 50,
   "metadata": {},
   "outputs": [],
   "source": [
    "ss = StandardScaler()"
   ]
  },
  {
   "cell_type": "code",
   "execution_count": 51,
   "metadata": {},
   "outputs": [],
   "source": [
    "X_train_sc = ss.fit_transform(X_train)\n",
    "X_test_sc = ss.transform(X_test)\n",
    "test_sc = ss.transform(test[features])"
   ]
  },
  {
   "cell_type": "markdown",
   "metadata": {},
   "source": [
    "## Ridge model scaled"
   ]
  },
  {
   "cell_type": "code",
   "execution_count": 52,
   "metadata": {},
   "outputs": [],
   "source": [
    "ridge_scaled = RidgeCV(alphas = np.logspace(0, 5, 200),cv = 5)"
   ]
  },
  {
   "cell_type": "code",
   "execution_count": 53,
   "metadata": {},
   "outputs": [
    {
     "data": {
      "text/plain": [
       "RidgeCV(alphas=array([1.00000000e+00, 1.05956018e+00, 1.12266777e+00, 1.18953407e+00,\n",
       "       1.26038293e+00, 1.33545156e+00, 1.41499130e+00, 1.49926843e+00,\n",
       "       1.58856513e+00, 1.68318035e+00, 1.78343088e+00, 1.88965234e+00,\n",
       "       2.00220037e+00, 2.12145178e+00, 2.24780583e+00, 2.38168555e+00,\n",
       "       2.52353917e+00, 2.67384162e+00, 2.83309610e+00, 3.00183581e+00,\n",
       "       3.18062569e+00, 3.37006433e+0...\n",
       "       3.33129479e+04, 3.52970730e+04, 3.73993730e+04, 3.96268864e+04,\n",
       "       4.19870708e+04, 4.44878283e+04, 4.71375313e+04, 4.99450512e+04,\n",
       "       5.29197874e+04, 5.60716994e+04, 5.94113398e+04, 6.29498899e+04,\n",
       "       6.66991966e+04, 7.06718127e+04, 7.48810386e+04, 7.93409667e+04,\n",
       "       8.40665289e+04, 8.90735464e+04, 9.43787828e+04, 1.00000000e+05]),\n",
       "        cv=5, fit_intercept=True, gcv_mode=None, normalize=False, scoring=None,\n",
       "        store_cv_values=False)"
      ]
     },
     "execution_count": 53,
     "metadata": {},
     "output_type": "execute_result"
    }
   ],
   "source": [
    "ridge_scaled.fit(X_train_sc, y_train)"
   ]
  },
  {
   "cell_type": "code",
   "execution_count": 54,
   "metadata": {},
   "outputs": [
    {
     "data": {
      "text/plain": [
       "0.9261308461456028"
      ]
     },
     "execution_count": 54,
     "metadata": {},
     "output_type": "execute_result"
    }
   ],
   "source": [
    "ridge_scaled.score(X_train_sc, y_train)"
   ]
  },
  {
   "cell_type": "code",
   "execution_count": 55,
   "metadata": {},
   "outputs": [
    {
     "data": {
      "text/plain": [
       "0.89942592320585"
      ]
     },
     "execution_count": 55,
     "metadata": {},
     "output_type": "execute_result"
    }
   ],
   "source": [
    "ridge_scaled.score(X_test_sc, y_test)"
   ]
  },
  {
   "cell_type": "code",
   "execution_count": 56,
   "metadata": {},
   "outputs": [
    {
     "data": {
      "text/plain": [
       "0.8921860422996994"
      ]
     },
     "execution_count": 56,
     "metadata": {},
     "output_type": "execute_result"
    }
   ],
   "source": [
    "cross_val_score(ridge_scaled, X_train_sc, y_train, cv = 5).mean()"
   ]
  },
  {
   "cell_type": "code",
   "execution_count": 57,
   "metadata": {},
   "outputs": [
    {
     "data": {
      "text/plain": [
       "0.8968058740591761"
      ]
     },
     "execution_count": 57,
     "metadata": {},
     "output_type": "execute_result"
    }
   ],
   "source": [
    "cross_val_score(ridge_scaled, X_test_sc, y_test, cv = 5).mean()"
   ]
  },
  {
   "cell_type": "code",
   "execution_count": 58,
   "metadata": {},
   "outputs": [
    {
     "data": {
      "text/plain": [
       "array([1.07499427e+08, 1.14265480e+08, 7.86764805e+07, ...,\n",
       "       9.15215750e+07, 9.42558797e+07, 9.17642490e+07])"
      ]
     },
     "execution_count": 58,
     "metadata": {},
     "output_type": "execute_result"
    }
   ],
   "source": [
    "ridge_scaled.predict(X)"
   ]
  },
  {
   "cell_type": "code",
   "execution_count": 59,
   "metadata": {},
   "outputs": [
    {
     "data": {
      "text/plain": [
       "array([1.00824784e+08, 1.19515676e+08, 1.20167299e+08, 7.90407532e+07,\n",
       "       9.99981017e+07, 4.64546738e+07, 7.91245213e+07, 9.19388213e+07,\n",
       "       7.09762302e+07, 9.57815425e+07, 8.24023495e+07, 7.53162389e+07,\n",
       "       1.04569177e+08, 1.17694480e+08, 1.06114211e+08, 7.31664038e+07,\n",
       "       9.78879443e+07, 8.63354889e+07, 1.10878821e+08, 1.30970770e+08,\n",
       "       8.08947610e+07, 7.67361504e+07, 9.99449482e+07, 1.33036165e+08,\n",
       "       9.31839811e+07, 6.92246024e+07, 1.06087274e+08, 8.97534387e+07,\n",
       "       8.23635817e+07, 4.40417132e+07, 7.12083250e+07, 7.14327601e+07,\n",
       "       1.31019526e+08, 9.27541429e+07, 1.10706464e+08, 1.02884390e+08,\n",
       "       8.11710252e+07, 6.62851812e+07, 6.60758333e+07, 8.87793849e+07,\n",
       "       6.06254321e+07, 1.07538272e+08, 8.35545170e+07, 1.13643086e+08,\n",
       "       8.16601626e+07, 5.12078848e+07, 1.07226357e+08, 7.35531170e+07,\n",
       "       6.66279188e+07, 7.65502542e+07, 8.57487342e+07, 9.71956058e+07,\n",
       "       1.08307443e+08, 7.78463974e+07, 6.55449731e+07, 7.88535029e+07,\n",
       "       9.78262071e+07, 9.17838422e+07, 9.73866087e+07, 1.06395365e+08,\n",
       "       1.33355478e+08, 1.05203202e+08, 1.08763458e+08, 1.10421367e+08,\n",
       "       8.28082860e+07, 1.31392348e+08, 7.38156497e+07, 7.37001689e+07,\n",
       "       5.13916818e+07, 5.87252444e+07, 5.84135451e+07, 1.80664673e+08,\n",
       "       1.72936347e+08, 8.95041057e+07, 8.19533277e+07, 1.45430855e+08,\n",
       "       3.22822755e+08, 1.34189476e+08, 9.04764041e+07, 6.09949970e+07,\n",
       "       1.39316454e+08, 9.84731623e+07, 8.01848705e+07, 6.11059902e+07,\n",
       "       8.51384666e+07, 1.07031775e+08, 1.40334569e+08, 7.15369389e+07,\n",
       "       1.25763549e+08, 1.42879979e+08, 8.65027503e+07, 7.61034995e+07,\n",
       "       9.31712094e+07, 7.44716668e+07, 7.26882201e+07, 7.01548518e+07,\n",
       "       9.33308150e+07, 1.03410735e+08, 8.50913005e+07, 9.13252439e+07,\n",
       "       9.01401679e+07, 1.34315970e+08, 1.21960857e+08, 6.97999550e+07,\n",
       "       1.56321536e+08, 1.02409563e+08, 5.38527678e+07, 8.24826682e+07,\n",
       "       1.44805310e+08, 1.23945843e+08, 1.19376391e+08, 1.05011198e+08,\n",
       "       9.46765517e+07, 8.52086999e+07, 1.21805364e+08, 1.30058904e+08,\n",
       "       2.68195076e+08, 8.35356535e+07, 5.46451526e+07, 1.19240367e+08,\n",
       "       9.76363580e+07, 1.36918028e+08, 1.16878755e+08, 1.05558950e+08,\n",
       "       1.08039088e+08, 9.10055647e+07, 1.32616367e+08, 7.88485349e+07,\n",
       "       8.10432076e+07, 6.45628320e+07, 1.19457491e+08, 8.17477092e+07,\n",
       "       9.42004962e+07, 9.59239594e+07, 9.71318501e+07, 6.20887028e+07,\n",
       "       1.19579015e+08, 9.99042485e+07, 1.04169533e+08, 7.36947729e+07,\n",
       "       8.61324957e+07, 9.46399165e+07, 8.73289154e+07, 9.17476606e+07,\n",
       "       1.93581748e+08, 6.55891286e+07, 9.57490286e+07, 9.43874814e+07,\n",
       "       9.29443860e+07, 7.17588681e+07, 1.35532753e+08, 1.05654706e+08,\n",
       "       1.00198393e+08, 7.06174094e+07, 7.27713730e+07, 7.39203112e+07,\n",
       "       7.85172514e+07, 4.77087266e+07, 7.82910365e+07, 1.25071018e+08,\n",
       "       1.13389200e+08, 1.17977853e+08, 9.27489977e+07, 8.47507118e+07,\n",
       "       1.64291831e+08, 9.10113724e+07, 1.11177568e+08, 1.06339465e+08,\n",
       "       6.35623497e+07, 1.10113531e+08, 1.01320001e+08, 2.01381276e+08,\n",
       "       7.81403271e+07, 1.17962778e+08, 5.38649262e+07, 1.02921986e+08,\n",
       "       9.85367856e+07, 5.50043000e+07, 1.13340812e+08, 4.64719047e+07,\n",
       "       8.52985763e+07, 9.72085477e+07, 1.04100162e+08, 1.43954683e+08,\n",
       "       8.81803196e+07, 9.56121470e+07, 7.94716852e+07, 8.80085967e+07,\n",
       "       9.87969882e+07, 8.41478166e+07, 7.05623605e+07, 9.82484476e+07,\n",
       "       5.23610653e+07, 8.03232373e+07, 6.56731810e+07, 9.32082358e+07,\n",
       "       7.31708378e+07, 1.04395253e+08, 9.47879560e+07, 1.06186975e+08,\n",
       "       6.95433495e+07, 1.59642281e+08, 9.60863385e+07, 8.47728387e+07,\n",
       "       9.57427289e+07, 6.85226933e+07, 5.95035878e+07, 6.04559276e+07,\n",
       "       8.34417087e+07, 8.59147078e+07, 1.23566202e+08, 9.37898102e+07,\n",
       "       9.99621778e+07, 6.97656382e+07, 9.75033357e+08, 8.32614057e+07,\n",
       "       9.16482286e+07, 1.59832935e+08, 5.98898033e+07, 6.25151382e+07,\n",
       "       7.64404283e+07, 6.57610431e+07, 7.69385254e+07, 8.83334040e+07,\n",
       "       1.00264534e+08, 7.24195398e+07, 8.24459645e+07, 1.20187935e+08,\n",
       "       1.04492221e+08, 1.15442403e+08, 1.24620539e+08, 1.45376029e+08,\n",
       "       3.85421122e+07, 7.93326422e+07, 6.99584971e+07, 1.98767823e+08,\n",
       "       1.04038991e+08, 6.14891500e+07, 1.56151240e+08, 1.73559152e+08,\n",
       "       7.51322568e+07, 1.29995031e+08, 1.00336196e+08, 1.27257923e+08,\n",
       "       1.19252152e+08, 1.36926049e+08, 1.14006395e+08, 9.46598578e+07,\n",
       "       7.16361453e+07, 9.41990999e+07, 1.10870017e+08, 9.23911167e+07,\n",
       "       8.92063532e+07, 1.07724785e+08, 1.04972542e+08, 1.07143722e+08,\n",
       "       6.79148675e+07, 7.77617887e+07, 1.82189788e+08, 1.07873284e+08,\n",
       "       1.53086961e+08, 8.84887935e+07, 9.35628639e+07, 5.24751478e+07,\n",
       "       9.33913054e+07, 1.59198823e+08, 9.06787605e+07, 9.00939033e+07,\n",
       "       9.55982378e+07, 9.46936292e+07, 5.52967726e+07, 1.03506245e+08,\n",
       "       8.70725490e+07, 8.35625006e+07, 1.52901511e+08, 6.99782022e+07,\n",
       "       1.17720623e+08, 5.88748054e+07, 1.26836519e+08, 5.96672458e+07,\n",
       "       8.26318649e+07, 1.04041457e+08, 9.89835458e+07, 8.88307196e+07,\n",
       "       7.19194893e+07, 6.94477085e+07, 1.85579172e+08, 1.38241976e+08,\n",
       "       4.57818868e+07, 7.38251587e+07, 9.01222833e+07, 7.65650266e+07,\n",
       "       7.92710140e+07, 4.64496703e+07, 5.59156082e+07, 1.15871003e+08,\n",
       "       5.87214019e+07, 9.55337538e+07, 1.07330072e+08, 1.08202457e+08,\n",
       "       9.37328037e+07, 9.48783102e+07, 1.09564502e+08, 7.45418938e+07,\n",
       "       8.97160244e+07, 5.20093977e+07, 8.25802991e+07, 7.51842732e+08,\n",
       "       8.44810121e+07, 9.28386277e+07, 9.88950744e+07, 1.39650096e+08,\n",
       "       7.78308200e+07, 1.21733332e+08, 1.23022741e+08, 9.17000084e+07,\n",
       "       1.26039079e+08, 1.23327133e+08, 9.48559636e+07, 1.07592585e+08,\n",
       "       7.34880245e+07, 5.35653364e+07, 8.40427581e+07, 7.85157228e+07,\n",
       "       1.20786657e+08, 7.18759919e+07, 6.36701145e+07, 8.81459067e+07,\n",
       "       6.25404413e+07, 1.03797744e+08, 9.28517311e+07, 1.17862028e+08,\n",
       "       1.15213316e+08, 1.11082586e+08, 6.90478339e+07, 7.46759931e+07,\n",
       "       8.72746126e+07, 6.91290281e+07, 1.13523789e+08, 9.60043291e+07,\n",
       "       5.51530184e+07, 2.03507727e+08, 9.26636157e+07, 9.67918290e+07,\n",
       "       9.23853811e+07, 1.23472695e+08, 9.29257892e+07, 9.82499294e+07,\n",
       "       7.91277138e+07, 1.14876156e+08, 9.63174047e+07, 8.75560600e+07,\n",
       "       7.74544326e+07, 5.13725941e+07, 1.13249542e+08, 9.04064393e+07,\n",
       "       1.28023337e+08, 9.19606308e+07, 9.84519002e+07, 1.10369788e+08,\n",
       "       8.71834232e+07, 9.11678490e+07, 1.78726344e+08, 8.68557891e+07,\n",
       "       1.19013578e+08, 9.91531581e+07, 8.92318645e+07, 2.15124707e+08,\n",
       "       1.21062921e+08, 1.01726010e+08, 7.37799600e+07, 1.23363781e+08,\n",
       "       4.65235195e+07, 1.13258308e+08, 1.34166879e+08, 7.39753627e+07,\n",
       "       1.36709117e+08, 8.24050543e+07, 8.44349460e+07, 7.89419677e+07,\n",
       "       6.40440823e+07, 1.19206357e+08, 1.01922113e+08, 1.32520612e+08,\n",
       "       1.34814204e+08, 9.80679450e+07, 1.08159961e+08, 1.16541902e+08,\n",
       "       8.19340412e+07, 1.60298811e+08, 8.54086140e+07, 4.78787513e+07,\n",
       "       1.13269710e+08, 8.65364512e+07, 1.04720994e+08, 9.74082906e+07,\n",
       "       4.90946782e+07, 9.10011284e+07, 9.82563959e+07, 7.06045172e+07,\n",
       "       1.19433019e+08, 1.03717937e+08, 1.34290247e+08, 7.79110525e+07,\n",
       "       1.19943200e+08, 8.82494566e+07, 7.80507695e+07, 8.08115980e+07,\n",
       "       1.01958975e+08, 1.11908206e+08, 7.52080605e+07, 7.36264863e+07,\n",
       "       8.24769301e+07, 1.30849066e+08, 7.99689915e+07, 1.13810519e+08,\n",
       "       1.36845125e+08, 1.33141219e+08, 1.25092705e+08, 8.43588017e+07,\n",
       "       1.17386872e+08, 1.31847973e+08, 1.02503703e+08, 1.72586071e+08,\n",
       "       6.67310940e+07, 1.24149304e+08, 1.35218315e+08, 6.88633102e+07,\n",
       "       9.30557284e+07, 7.72847551e+07, 1.17087637e+08, 6.83361222e+07,\n",
       "       8.01704212e+07, 8.05835770e+07, 9.64850255e+07, 9.06154415e+07,\n",
       "       1.37556675e+08, 8.68081840e+07, 1.01000837e+08, 5.78006659e+07,\n",
       "       1.16443317e+08, 9.92343274e+07, 9.55563087e+07, 6.59693850e+07,\n",
       "       9.94599222e+07, 9.14474814e+07, 1.65089337e+08, 8.86340865e+07,\n",
       "       5.60316021e+07, 1.32194186e+08, 7.07059166e+07, 1.17988044e+08,\n",
       "       1.14855866e+08, 8.50542455e+07, 8.45360281e+07, 8.64060698e+07,\n",
       "       9.62819816e+07, 9.75617974e+07, 7.29300136e+07, 1.03504519e+08,\n",
       "       6.98317741e+07, 4.88990763e+07, 7.99048848e+07, 7.94098083e+07,\n",
       "       2.29720222e+08, 7.12564998e+07, 1.10234151e+08, 1.36609455e+08,\n",
       "       1.16394235e+08, 6.55916612e+07, 7.21672951e+07, 7.86779340e+07,\n",
       "       1.16427440e+08, 8.66422239e+07, 7.62460790e+07, 1.23239486e+08,\n",
       "       9.54134343e+07, 8.84774288e+07, 9.98012046e+07, 8.26079779e+07,\n",
       "       9.83441314e+07, 7.31452668e+07, 1.24614240e+08, 3.85604541e+07,\n",
       "       8.33643870e+07, 1.37005183e+08, 8.79355826e+07, 5.88803457e+07,\n",
       "       1.09649423e+08, 7.20042879e+07, 7.73735438e+07, 9.85373499e+07,\n",
       "       1.01297285e+08, 1.02860024e+08, 1.12808850e+08, 1.26013946e+08,\n",
       "       7.15981980e+07, 9.69028049e+07, 7.33885151e+07, 1.08430062e+08,\n",
       "       9.27792053e+07, 1.02352612e+08, 1.05724570e+08, 1.12019831e+08,\n",
       "       8.49744686e+07, 1.30144383e+08, 6.89494322e+07, 1.19898397e+08,\n",
       "       7.84643163e+07, 4.99029173e+07, 1.05418480e+08, 1.33557836e+08,\n",
       "       5.81099347e+07, 8.68879362e+07, 7.65756743e+07, 5.34907950e+07,\n",
       "       1.03989634e+08, 9.98341347e+07, 8.68194077e+07, 1.12964902e+08,\n",
       "       1.45328286e+08, 6.84320039e+07, 7.99635389e+07, 2.89577531e+08,\n",
       "       8.42055877e+07, 7.88653639e+07, 1.53980103e+08, 6.16295602e+07,\n",
       "       8.31997800e+07, 8.80565025e+07, 5.05479643e+07, 4.74393400e+07,\n",
       "       9.46278056e+07, 9.13020307e+07, 8.44911728e+07, 9.77935315e+07,\n",
       "       8.66704362e+07, 4.62056355e+07, 1.16453239e+08, 1.05907062e+08,\n",
       "       7.43048034e+07, 8.28095226e+07, 7.78775674e+07, 3.70389791e+07,\n",
       "       7.09563950e+07, 1.10281616e+08, 1.30278380e+08, 1.09570172e+08,\n",
       "       8.51120032e+07, 4.40849293e+07, 1.22185433e+08, 7.12712937e+07,\n",
       "       1.18041824e+08, 4.93998419e+07, 1.87515344e+08, 1.12530707e+08,\n",
       "       5.49277846e+07, 6.21176381e+07, 6.20210942e+07, 5.94231346e+07,\n",
       "       1.14057781e+08, 8.25631276e+07, 6.14755925e+07, 9.88913580e+07,\n",
       "       9.08109159e+07, 6.44879452e+07, 8.02136432e+07, 1.03611154e+08,\n",
       "       8.84534250e+07, 6.90545918e+07, 7.20515191e+07, 1.07724887e+08,\n",
       "       7.68209305e+07, 6.62321851e+07, 8.89076586e+07, 1.18290035e+08,\n",
       "       6.92666319e+07, 1.00925355e+08, 5.88397662e+07, 1.44962573e+08,\n",
       "       8.36161009e+07, 1.01181189e+08, 1.09548517e+08, 1.39975861e+08,\n",
       "       6.27214964e+07, 1.01477632e+08, 9.28788824e+07, 9.93304923e+07,\n",
       "       7.73659532e+07, 1.24319459e+08, 9.65987202e+07, 1.03707613e+08,\n",
       "       6.61024403e+07, 8.30741030e+07, 8.95153244e+07, 1.39861331e+08,\n",
       "       1.16497064e+08, 7.41773980e+07, 6.74892927e+07, 7.38453116e+07,\n",
       "       1.28489773e+08, 7.75229751e+07, 1.08731727e+08, 8.94262099e+07,\n",
       "       1.32393143e+08, 7.84362578e+07, 7.95509611e+07, 6.86777474e+07,\n",
       "       7.61000673e+07, 9.57823274e+07, 7.28005442e+07, 9.02590493e+07,\n",
       "       1.34104234e+08, 9.72634670e+07, 8.85320263e+07, 8.13404260e+07,\n",
       "       5.49240302e+07, 9.36767293e+07, 1.16408804e+08, 6.16013476e+07,\n",
       "       7.57815510e+07, 8.48828554e+07, 6.84678523e+07, 9.43970592e+07,\n",
       "       7.51773347e+07, 7.35666738e+07, 8.63254525e+07, 8.44060234e+07,\n",
       "       8.42753571e+07, 1.24507260e+08, 1.04234048e+08, 1.35148123e+08,\n",
       "       1.09831672e+08, 1.03744335e+08, 7.25340385e+07, 8.32467851e+07,\n",
       "       6.92678666e+07, 6.86187296e+07, 1.04169319e+08, 9.77927761e+07,\n",
       "       9.41746911e+07, 1.23108811e+08, 7.61409481e+07, 1.05707604e+08,\n",
       "       1.12445645e+08, 8.24015610e+07, 6.05171962e+07, 1.13000579e+08,\n",
       "       5.90959670e+07, 5.52591853e+07, 1.58151992e+08, 8.26058385e+07,\n",
       "       6.06963860e+07, 7.10239071e+07, 8.75719887e+07, 5.01759039e+07,\n",
       "       8.11550030e+07, 9.47182355e+07, 1.04632050e+08, 1.18713531e+08,\n",
       "       1.41926855e+08, 9.08648392e+07, 1.62535230e+08, 1.17328057e+08,\n",
       "       1.36095839e+08, 1.51714507e+08, 1.14376420e+08, 1.16734250e+08,\n",
       "       9.47831476e+07, 1.36896001e+08, 1.26652653e+08, 9.47333606e+07,\n",
       "       1.03126305e+08, 1.10893013e+08, 8.73228472e+07, 8.70712893e+07,\n",
       "       9.07256719e+07, 1.01987447e+08, 4.70615487e+07, 1.42138443e+08,\n",
       "       6.66826500e+07, 1.42891818e+08, 1.07047080e+08, 9.72813225e+07,\n",
       "       1.17015868e+08, 1.07307383e+08, 9.26756086e+07, 1.00423030e+08,\n",
       "       1.58778553e+08, 8.60023464e+07, 9.62049147e+07, 5.96825115e+07,\n",
       "       7.50931678e+07, 1.30822448e+08, 7.85813418e+07, 8.30987033e+07,\n",
       "       1.00890427e+08, 1.11965330e+08, 1.30398505e+08, 7.91891325e+07,\n",
       "       1.13653891e+08, 5.90705450e+07, 7.90882408e+07, 8.13383475e+07,\n",
       "       9.08572964e+07, 1.40508300e+08, 1.30270326e+08, 9.39631505e+07,\n",
       "       8.65053287e+07, 8.90561696e+07, 1.22046805e+08, 1.01554361e+08,\n",
       "       6.82250146e+07, 8.94112285e+07, 1.13481672e+08, 6.34094442e+07,\n",
       "       2.59466519e+08, 1.89067122e+08, 7.24083508e+07, 9.74884975e+07,\n",
       "       1.53736836e+08, 9.70689785e+07, 1.09072455e+08, 7.98539560e+07,\n",
       "       5.25296182e+07, 1.33643493e+08, 1.02972654e+08, 1.09926931e+08,\n",
       "       8.41813660e+07, 1.36868416e+08, 6.40904699e+07, 9.27489188e+07,\n",
       "       1.03486550e+08, 1.22133544e+08, 8.88202994e+07, 1.22492864e+08,\n",
       "       1.07876313e+08, 9.21252906e+07, 1.02471678e+08, 8.13191204e+07,\n",
       "       9.61539696e+07, 1.16529437e+08, 1.02070485e+08, 9.44450907e+07,\n",
       "       8.29495342e+07, 9.02710058e+07, 1.28863888e+08, 9.54484653e+07,\n",
       "       1.08950635e+08, 6.14188349e+07, 1.29642346e+08, 1.19716127e+08,\n",
       "       1.01081408e+08, 6.07925264e+07, 1.07218919e+08, 1.52219201e+08,\n",
       "       5.28543069e+07, 1.61870471e+08, 5.56354340e+07, 7.80862719e+07,\n",
       "       8.35829994e+07, 8.22307236e+07, 1.07110552e+08, 9.98782059e+07,\n",
       "       1.29493618e+08, 1.03710791e+08, 1.34041885e+08, 8.25254890e+07,\n",
       "       8.84170075e+07, 1.30640056e+08, 8.15607177e+07, 1.08017359e+08,\n",
       "       8.77432464e+07, 1.14317486e+08, 1.23727581e+08, 8.76720867e+07,\n",
       "       1.07164195e+08, 1.04912032e+08, 1.01377100e+08, 8.76615254e+07,\n",
       "       1.27140146e+08, 6.23935225e+07, 1.56357556e+08, 6.72784997e+07,\n",
       "       6.65600076e+07, 6.41944978e+07, 1.13518750e+08, 1.09649606e+08,\n",
       "       4.59959136e+07, 1.29096521e+08, 9.90801086e+07, 9.39420923e+07,\n",
       "       1.05274137e+08, 1.02124143e+08, 1.33484890e+08, 1.27853203e+08,\n",
       "       6.82683185e+07, 6.19449323e+07, 1.04518842e+08, 1.04880840e+08,\n",
       "       1.09793130e+08, 8.22995503e+07, 7.32094782e+07, 7.59953848e+07,\n",
       "       8.42394489e+07, 1.22791598e+08, 6.71824967e+07, 6.73775557e+07,\n",
       "       9.47245163e+07, 8.23921044e+07, 7.84183581e+07, 8.68363129e+07,\n",
       "       1.25550821e+08, 9.74114334e+07, 1.26460229e+08, 8.90182294e+07,\n",
       "       9.43211312e+07, 1.42641942e+08, 8.38394497e+07, 8.88835713e+07,\n",
       "       9.09286001e+07, 1.08470675e+08, 7.00744081e+07, 1.42911377e+08,\n",
       "       9.45990602e+07, 5.77615041e+07, 1.18906074e+08, 1.49549020e+08,\n",
       "       9.53775465e+07, 1.23305188e+08, 9.39263105e+07, 6.31547893e+07,\n",
       "       1.06361272e+08, 1.28441844e+08, 8.43089974e+07, 8.09347947e+07,\n",
       "       8.19530051e+07, 1.23959320e+08, 9.30841641e+07, 8.41043937e+07,\n",
       "       8.63608216e+07, 1.09925146e+08, 6.34916469e+07, 1.58989471e+08,\n",
       "       8.44884060e+07, 8.72376463e+07, 1.05732026e+08, 1.67999504e+08,\n",
       "       9.70981195e+07, 4.54348452e+07, 9.54693323e+07, 7.23701925e+07,\n",
       "       9.82793832e+07, 7.08165770e+07, 7.26614712e+07, 1.50723575e+08,\n",
       "       7.74964917e+07, 9.18197596e+07, 3.73454029e+07, 1.03376981e+08,\n",
       "       7.57636720e+07, 1.30382139e+08, 5.35837385e+07, 5.95149042e+07,\n",
       "       9.70025891e+07, 8.22290814e+07, 9.33111047e+07, 9.59229440e+07,\n",
       "       9.08824310e+07, 1.09267201e+08, 2.20325126e+08, 1.25111251e+08,\n",
       "       1.35521854e+08, 9.56358878e+07, 9.65846759e+07, 1.28963542e+08,\n",
       "       8.16946213e+07, 7.76016266e+07, 7.66340194e+07])"
      ]
     },
     "execution_count": 59,
     "metadata": {},
     "output_type": "execute_result"
    }
   ],
   "source": [
    "ridge_scaled.predict(test[features])"
   ]
  },
  {
   "cell_type": "code",
   "execution_count": 60,
   "metadata": {},
   "outputs": [
    {
     "data": {
      "text/plain": [
       "101609625.4707818"
      ]
     },
     "execution_count": 60,
     "metadata": {},
     "output_type": "execute_result"
    }
   ],
   "source": [
    "r_sc_preds = ridge_scaled.predict(X)\n",
    "metrics.mean_squared_error(y, r_sc_preds)\n",
    "\n",
    "rmse = np.sqrt(metrics.mean_squared_error(y, r_sc_preds))\n",
    "rmse"
   ]
  },
  {
   "cell_type": "markdown",
   "metadata": {},
   "source": [
    "## LASSO model scaled"
   ]
  },
  {
   "cell_type": "code",
   "execution_count": 61,
   "metadata": {},
   "outputs": [],
   "source": [
    "lasso_scaled = LassoCV(n_alphas = 500, cv = 5, random_state = 42)"
   ]
  },
  {
   "cell_type": "code",
   "execution_count": 62,
   "metadata": {},
   "outputs": [
    {
     "data": {
      "text/plain": [
       "LassoCV(alphas=None, copy_X=True, cv=5, eps=0.001, fit_intercept=True,\n",
       "        max_iter=1000, n_alphas=500, n_jobs=None, normalize=False,\n",
       "        positive=False, precompute='auto', random_state=42, selection='cyclic',\n",
       "        tol=0.0001, verbose=False)"
      ]
     },
     "execution_count": 62,
     "metadata": {},
     "output_type": "execute_result"
    }
   ],
   "source": [
    "lasso_scaled.fit(X_train_sc, y_train)"
   ]
  },
  {
   "cell_type": "code",
   "execution_count": 63,
   "metadata": {},
   "outputs": [
    {
     "data": {
      "text/plain": [
       "129866.29354370323"
      ]
     },
     "execution_count": 63,
     "metadata": {},
     "output_type": "execute_result"
    }
   ],
   "source": [
    "lasso.alpha_"
   ]
  },
  {
   "cell_type": "code",
   "execution_count": null,
   "metadata": {},
   "outputs": [],
   "source": []
  },
  {
   "cell_type": "code",
   "execution_count": 64,
   "metadata": {},
   "outputs": [
    {
     "data": {
      "text/plain": [
       "0.9250297768477768"
      ]
     },
     "execution_count": 64,
     "metadata": {},
     "output_type": "execute_result"
    }
   ],
   "source": [
    "lasso_scaled.score(X_train_sc, y_train)"
   ]
  },
  {
   "cell_type": "code",
   "execution_count": 65,
   "metadata": {},
   "outputs": [
    {
     "data": {
      "text/plain": [
       "0.9008778193451149"
      ]
     },
     "execution_count": 65,
     "metadata": {},
     "output_type": "execute_result"
    }
   ],
   "source": [
    "lasso_scaled.score(X_test_sc, y_test)"
   ]
  },
  {
   "cell_type": "code",
   "execution_count": 66,
   "metadata": {},
   "outputs": [
    {
     "data": {
      "text/plain": [
       "0.8958561864791239"
      ]
     },
     "execution_count": 66,
     "metadata": {},
     "output_type": "execute_result"
    }
   ],
   "source": [
    "cross_val_score(lasso_scaled, X_train_sc, y_train, cv = 5).mean()"
   ]
  },
  {
   "cell_type": "code",
   "execution_count": 67,
   "metadata": {},
   "outputs": [
    {
     "data": {
      "text/plain": [
       "0.8987519004427419"
      ]
     },
     "execution_count": 67,
     "metadata": {},
     "output_type": "execute_result"
    }
   ],
   "source": [
    "cross_val_score(lasso_scaled, X_test_sc, y_test, cv = 5).mean()"
   ]
  },
  {
   "cell_type": "code",
   "execution_count": 68,
   "metadata": {},
   "outputs": [
    {
     "data": {
      "text/plain": [
       "127421445.80501254"
      ]
     },
     "execution_count": 68,
     "metadata": {},
     "output_type": "execute_result"
    }
   ],
   "source": [
    "lasso_preds = lasso_scaled.predict(X)\n",
    "metrics.mean_squared_error(y, lasso_preds)\n",
    "\n",
    "rmse = np.sqrt(metrics.mean_squared_error(y, lasso_preds))\n",
    "rmse"
   ]
  },
  {
   "cell_type": "code",
   "execution_count": 69,
   "metadata": {
    "scrolled": true
   },
   "outputs": [
    {
     "data": {
      "text/plain": [
       "array([ 0.00000000e+00,  3.71459157e+03,  1.02888817e+04,  5.46939646e+03,\n",
       "        4.31248729e+03,  2.13637725e+03,  5.47044250e+03,  5.76602251e+03,\n",
       "        0.00000000e+00,  3.15136105e+03, -0.00000000e+00,  3.72895456e+03,\n",
       "        0.00000000e+00,  0.00000000e+00,  8.76409864e+03, -2.59914231e+03,\n",
       "       -2.68501521e+03,  5.25706769e+03,  0.00000000e+00,  2.79802838e+03,\n",
       "        3.88269302e+03,  0.00000000e+00, -0.00000000e+00,  1.69040915e+03,\n",
       "        4.93728877e+03,  0.00000000e+00, -0.00000000e+00,  8.91209897e+02,\n",
       "        1.99665037e+01, -0.00000000e+00,  0.00000000e+00,  2.54613540e+03,\n",
       "        0.00000000e+00,  0.00000000e+00, -0.00000000e+00,  1.89248524e+02,\n",
       "        3.66826034e+03,  2.22506734e+04, -0.00000000e+00,  9.55344388e+02,\n",
       "        0.00000000e+00, -0.00000000e+00,  0.00000000e+00, -0.00000000e+00,\n",
       "        0.00000000e+00, -6.35882690e+01,  5.10306761e+02, -0.00000000e+00,\n",
       "        0.00000000e+00, -2.16353924e+02, -1.18660656e+03, -6.02406755e+02,\n",
       "       -0.00000000e+00, -0.00000000e+00, -0.00000000e+00, -5.39191939e+02,\n",
       "        7.84204523e+02,  0.00000000e+00,  0.00000000e+00,  0.00000000e+00,\n",
       "       -1.99554319e+02,  0.00000000e+00,  2.20731386e+02, -3.85480241e+02,\n",
       "        0.00000000e+00,  1.00288230e+03, -0.00000000e+00, -0.00000000e+00,\n",
       "        0.00000000e+00,  0.00000000e+00,  1.19271303e+03, -0.00000000e+00,\n",
       "       -1.31322953e+02, -0.00000000e+00,  3.25944590e+02, -0.00000000e+00,\n",
       "       -0.00000000e+00,  1.27078799e+02,  8.81986220e+02, -0.00000000e+00,\n",
       "       -6.52765216e+02,  2.46753586e+03, -0.00000000e+00, -0.00000000e+00,\n",
       "        0.00000000e+00,  3.41777500e+03, -0.00000000e+00,  0.00000000e+00,\n",
       "       -0.00000000e+00,  0.00000000e+00, -2.21640784e+01,  5.64609203e+02,\n",
       "       -7.88254503e+02,  2.83204873e+03,  5.02953133e+03, -1.04275254e+03,\n",
       "        0.00000000e+00,  0.00000000e+00, -1.20749860e+02,  7.80504666e+01,\n",
       "        3.29235422e+03, -0.00000000e+00, -0.00000000e+00, -0.00000000e+00,\n",
       "        1.08715099e+03,  5.81448151e+02,  1.75511579e+03, -5.96789531e+02,\n",
       "       -7.19326228e+01, -6.82833192e+02, -0.00000000e+00, -0.00000000e+00,\n",
       "       -0.00000000e+00,  7.84224676e+02,  7.24431911e+01, -1.01120448e+01,\n",
       "       -0.00000000e+00,  0.00000000e+00, -0.00000000e+00, -3.81156646e+01,\n",
       "       -2.79635236e+03, -3.93203255e+03,  0.00000000e+00,  7.43711575e+01,\n",
       "        7.40647044e+01,  0.00000000e+00, -0.00000000e+00,  0.00000000e+00,\n",
       "       -0.00000000e+00, -0.00000000e+00, -0.00000000e+00,  2.58568004e+03,\n",
       "       -2.70871301e+03, -0.00000000e+00,  2.12124643e+02, -0.00000000e+00,\n",
       "        0.00000000e+00,  1.88580553e+03,  0.00000000e+00, -1.15636958e+02,\n",
       "        2.17287370e+03,  0.00000000e+00,  1.25834475e+03, -0.00000000e+00,\n",
       "        0.00000000e+00,  0.00000000e+00, -2.70447791e+02, -0.00000000e+00,\n",
       "       -3.64911237e+01,  0.00000000e+00, -0.00000000e+00, -0.00000000e+00,\n",
       "        1.19975213e+03,  0.00000000e+00, -0.00000000e+00,  0.00000000e+00,\n",
       "        8.57112958e+01, -2.56557372e+02, -1.48811615e+02,  1.15952485e+03,\n",
       "       -2.15429955e+02,  0.00000000e+00, -6.26701721e+01,  4.29599956e+02,\n",
       "       -0.00000000e+00, -5.87947528e+02, -2.88253721e+03,  0.00000000e+00,\n",
       "        1.04933243e+03, -4.43053791e+02,  2.56372161e+02,  0.00000000e+00,\n",
       "        0.00000000e+00,  0.00000000e+00, -0.00000000e+00,  1.70224268e+03,\n",
       "       -0.00000000e+00,  4.52199997e+03, -1.85388404e+02, -2.86153804e+03,\n",
       "       -4.31336343e+02,  0.00000000e+00, -0.00000000e+00,  0.00000000e+00,\n",
       "       -6.83881415e+02,  0.00000000e+00, -1.28531706e+02, -2.82993398e+02,\n",
       "       -6.61962404e+02,  1.18405367e+02, -0.00000000e+00,  0.00000000e+00,\n",
       "        0.00000000e+00,  0.00000000e+00, -0.00000000e+00, -0.00000000e+00,\n",
       "       -0.00000000e+00,  4.02556996e+01,  0.00000000e+00, -0.00000000e+00,\n",
       "        1.15736905e+03, -9.74427053e+02,  0.00000000e+00,  0.00000000e+00,\n",
       "        0.00000000e+00, -0.00000000e+00, -0.00000000e+00,  0.00000000e+00,\n",
       "        1.45844793e+03,  0.00000000e+00,  0.00000000e+00, -9.21494081e-01,\n",
       "        4.51066329e+03,  8.83213756e+02,  0.00000000e+00,  0.00000000e+00,\n",
       "        0.00000000e+00,  0.00000000e+00,  0.00000000e+00,  0.00000000e+00,\n",
       "        0.00000000e+00,  0.00000000e+00,  0.00000000e+00,  0.00000000e+00])"
      ]
     },
     "execution_count": 69,
     "metadata": {},
     "output_type": "execute_result"
    }
   ],
   "source": [
    "lasso_scaled.coef_"
   ]
  },
  {
   "cell_type": "code",
   "execution_count": 70,
   "metadata": {},
   "outputs": [
    {
     "data": {
      "text/html": [
       "<div>\n",
       "<style scoped>\n",
       "    .dataframe tbody tr th:only-of-type {\n",
       "        vertical-align: middle;\n",
       "    }\n",
       "\n",
       "    .dataframe tbody tr th {\n",
       "        vertical-align: top;\n",
       "    }\n",
       "\n",
       "    .dataframe thead th {\n",
       "        text-align: right;\n",
       "    }\n",
       "</style>\n",
       "<table border=\"1\" class=\"dataframe\">\n",
       "  <thead>\n",
       "    <tr style=\"text-align: right;\">\n",
       "      <th></th>\n",
       "      <th>variable</th>\n",
       "      <th>coef</th>\n",
       "      <th>abs_coef</th>\n",
       "    </tr>\n",
       "  </thead>\n",
       "  <tbody>\n",
       "    <tr>\n",
       "      <th>37</th>\n",
       "      <td>total_sf</td>\n",
       "      <td>22250.673441</td>\n",
       "      <td>22250.673441</td>\n",
       "    </tr>\n",
       "    <tr>\n",
       "      <th>2</th>\n",
       "      <td>overall_qual</td>\n",
       "      <td>10288.881670</td>\n",
       "      <td>10288.881670</td>\n",
       "    </tr>\n",
       "    <tr>\n",
       "      <th>14</th>\n",
       "      <td>gr_liv_area</td>\n",
       "      <td>8764.098640</td>\n",
       "      <td>8764.098640</td>\n",
       "    </tr>\n",
       "    <tr>\n",
       "      <th>7</th>\n",
       "      <td>exter_qual</td>\n",
       "      <td>5766.022505</td>\n",
       "      <td>5766.022505</td>\n",
       "    </tr>\n",
       "    <tr>\n",
       "      <th>6</th>\n",
       "      <td>mas_vnr_area</td>\n",
       "      <td>5470.442505</td>\n",
       "      <td>5470.442505</td>\n",
       "    </tr>\n",
       "    <tr>\n",
       "      <th>3</th>\n",
       "      <td>overall_cond</td>\n",
       "      <td>5469.396460</td>\n",
       "      <td>5469.396460</td>\n",
       "    </tr>\n",
       "    <tr>\n",
       "      <th>17</th>\n",
       "      <td>kitchen_qual</td>\n",
       "      <td>5257.067693</td>\n",
       "      <td>5257.067693</td>\n",
       "    </tr>\n",
       "    <tr>\n",
       "      <th>94</th>\n",
       "      <td>neighborhood_NridgHt</td>\n",
       "      <td>5029.531333</td>\n",
       "      <td>5029.531333</td>\n",
       "    </tr>\n",
       "    <tr>\n",
       "      <th>24</th>\n",
       "      <td>garage_area</td>\n",
       "      <td>4937.288774</td>\n",
       "      <td>4937.288774</td>\n",
       "    </tr>\n",
       "    <tr>\n",
       "      <th>177</th>\n",
       "      <td>bsmtfin_type_1_No Basement</td>\n",
       "      <td>4521.999965</td>\n",
       "      <td>4521.999965</td>\n",
       "    </tr>\n",
       "    <tr>\n",
       "      <th>212</th>\n",
       "      <td>sale_type_New</td>\n",
       "      <td>4510.663286</td>\n",
       "      <td>4510.663286</td>\n",
       "    </tr>\n",
       "    <tr>\n",
       "      <th>4</th>\n",
       "      <td>year_built</td>\n",
       "      <td>4312.487288</td>\n",
       "      <td>4312.487288</td>\n",
       "    </tr>\n",
       "    <tr>\n",
       "      <th>121</th>\n",
       "      <td>bldg_type_TwnhsE</td>\n",
       "      <td>-3932.032548</td>\n",
       "      <td>3932.032548</td>\n",
       "    </tr>\n",
       "    <tr>\n",
       "      <th>20</th>\n",
       "      <td>fireplaces</td>\n",
       "      <td>3882.693018</td>\n",
       "      <td>3882.693018</td>\n",
       "    </tr>\n",
       "    <tr>\n",
       "      <th>11</th>\n",
       "      <td>bsmt_exposure</td>\n",
       "      <td>3728.954560</td>\n",
       "      <td>3728.954560</td>\n",
       "    </tr>\n",
       "    <tr>\n",
       "      <th>1</th>\n",
       "      <td>lot_area</td>\n",
       "      <td>3714.591566</td>\n",
       "      <td>3714.591566</td>\n",
       "    </tr>\n",
       "    <tr>\n",
       "      <th>36</th>\n",
       "      <td>total_baths</td>\n",
       "      <td>3668.260338</td>\n",
       "      <td>3668.260338</td>\n",
       "    </tr>\n",
       "    <tr>\n",
       "      <th>85</th>\n",
       "      <td>neighborhood_GrnHill</td>\n",
       "      <td>3417.775003</td>\n",
       "      <td>3417.775003</td>\n",
       "    </tr>\n",
       "    <tr>\n",
       "      <th>100</th>\n",
       "      <td>neighborhood_StoneBr</td>\n",
       "      <td>3292.354220</td>\n",
       "      <td>3292.354220</td>\n",
       "    </tr>\n",
       "    <tr>\n",
       "      <th>9</th>\n",
       "      <td>bsmt_qual</td>\n",
       "      <td>3151.361054</td>\n",
       "      <td>3151.361054</td>\n",
       "    </tr>\n",
       "    <tr>\n",
       "      <th>166</th>\n",
       "      <td>mas_vnr_type_BrkFace</td>\n",
       "      <td>-2882.537211</td>\n",
       "      <td>2882.537211</td>\n",
       "    </tr>\n",
       "    <tr>\n",
       "      <th>179</th>\n",
       "      <td>bsmtfin_type_1_Unf</td>\n",
       "      <td>-2861.538045</td>\n",
       "      <td>2861.538045</td>\n",
       "    </tr>\n",
       "    <tr>\n",
       "      <th>93</th>\n",
       "      <td>neighborhood_NoRidge</td>\n",
       "      <td>2832.048731</td>\n",
       "      <td>2832.048731</td>\n",
       "    </tr>\n",
       "    <tr>\n",
       "      <th>19</th>\n",
       "      <td>functional</td>\n",
       "      <td>2798.028379</td>\n",
       "      <td>2798.028379</td>\n",
       "    </tr>\n",
       "    <tr>\n",
       "      <th>120</th>\n",
       "      <td>bldg_type_Twnhs</td>\n",
       "      <td>-2796.352355</td>\n",
       "      <td>2796.352355</td>\n",
       "    </tr>\n",
       "  </tbody>\n",
       "</table>\n",
       "</div>"
      ],
      "text/plain": [
       "                       variable          coef      abs_coef\n",
       "37                     total_sf  22250.673441  22250.673441\n",
       "2                  overall_qual  10288.881670  10288.881670\n",
       "14                  gr_liv_area   8764.098640   8764.098640\n",
       "7                    exter_qual   5766.022505   5766.022505\n",
       "6                  mas_vnr_area   5470.442505   5470.442505\n",
       "3                  overall_cond   5469.396460   5469.396460\n",
       "17                 kitchen_qual   5257.067693   5257.067693\n",
       "94         neighborhood_NridgHt   5029.531333   5029.531333\n",
       "24                  garage_area   4937.288774   4937.288774\n",
       "177  bsmtfin_type_1_No Basement   4521.999965   4521.999965\n",
       "212               sale_type_New   4510.663286   4510.663286\n",
       "4                    year_built   4312.487288   4312.487288\n",
       "121            bldg_type_TwnhsE  -3932.032548   3932.032548\n",
       "20                   fireplaces   3882.693018   3882.693018\n",
       "11                bsmt_exposure   3728.954560   3728.954560\n",
       "1                      lot_area   3714.591566   3714.591566\n",
       "36                  total_baths   3668.260338   3668.260338\n",
       "85         neighborhood_GrnHill   3417.775003   3417.775003\n",
       "100        neighborhood_StoneBr   3292.354220   3292.354220\n",
       "9                     bsmt_qual   3151.361054   3151.361054\n",
       "166        mas_vnr_type_BrkFace  -2882.537211   2882.537211\n",
       "179          bsmtfin_type_1_Unf  -2861.538045   2861.538045\n",
       "93         neighborhood_NoRidge   2832.048731   2832.048731\n",
       "19                   functional   2798.028379   2798.028379\n",
       "120             bldg_type_Twnhs  -2796.352355   2796.352355"
      ]
     },
     "execution_count": 70,
     "metadata": {},
     "output_type": "execute_result"
    }
   ],
   "source": [
    "lasso_coefs = pd.DataFrame({'variable':X.columns,\n",
    "                            'coef':lasso_scaled.coef_,\n",
    "                            'abs_coef':np.abs(lasso_scaled.coef_)})\n",
    "\n",
    "lasso_coefs.sort_values('abs_coef', inplace=True, ascending=False)\n",
    "\n",
    "lasso_coefs.head(25)"
   ]
  },
  {
   "cell_type": "code",
   "execution_count": 71,
   "metadata": {},
   "outputs": [
    {
     "name": "stdout",
     "output_type": "stream",
     "text": [
      "Percent variables zeroed out: 0.53125\n"
     ]
    }
   ],
   "source": [
    "print('Percent variables zeroed out:', np.sum((lasso_scaled.coef_ == 0))/float(X.shape[1]))"
   ]
  },
  {
   "cell_type": "code",
   "execution_count": 72,
   "metadata": {},
   "outputs": [
    {
     "data": {
      "text/plain": [
       "(2025, 224)"
      ]
     },
     "execution_count": 72,
     "metadata": {},
     "output_type": "execute_result"
    }
   ],
   "source": [
    "X.shape"
   ]
  },
  {
   "cell_type": "code",
   "execution_count": null,
   "metadata": {},
   "outputs": [],
   "source": []
  }
 ],
 "metadata": {
  "kernelspec": {
   "display_name": "Python [conda env:dsi] *",
   "language": "python",
   "name": "conda-env-dsi-py"
  },
  "language_info": {
   "codemirror_mode": {
    "name": "ipython",
    "version": 3
   },
   "file_extension": ".py",
   "mimetype": "text/x-python",
   "name": "python",
   "nbconvert_exporter": "python",
   "pygments_lexer": "ipython3",
   "version": "3.7.3"
  }
 },
 "nbformat": 4,
 "nbformat_minor": 2
}
