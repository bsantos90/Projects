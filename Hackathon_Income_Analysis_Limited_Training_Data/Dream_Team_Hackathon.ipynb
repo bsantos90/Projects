{
 "cells": [
  {
   "cell_type": "code",
   "execution_count": 1,
   "metadata": {},
   "outputs": [],
   "source": [
    "#Import pakages for cleaning and exploration\n",
    "\n",
    "import pandas as pd\n",
    "import numpy as np\n",
    "import matplotlib.pyplot as plt\n",
    "import seaborn as sns"
   ]
  },
  {
   "cell_type": "code",
<<<<<<< HEAD
   "execution_count": 20,
=======
   "execution_count": 2,
>>>>>>> 81d74b2659e16c9aaf6a63e34c5de583feecd6b3
   "metadata": {},
   "outputs": [],
   "source": [
<<<<<<< HEAD
    "df = pd.read_csv('./data/cheap_train_sample.csv')\n",
    "test = pd.read_csv('./data/test_data.csv')"
=======
    "#Remove the max column setting in pandas\n",
    "\n",
    "pd.options.display.max_columns = None\n",
    "pd.options.display.max_rows = None"
>>>>>>> 9267c637c589e888f303ef3b7074b8053562fb2d
   ]
  },
  {
   "cell_type": "code",
<<<<<<< HEAD
   "execution_count": 17,
=======
   "execution_count": 3,
   "metadata": {},
   "outputs": [],
   "source": [
<<<<<<< HEAD
    "df = pd.read_csv('./data/cheap_train_sample.csv')"
   ]
  },
  {
   "cell_type": "code",
   "execution_count": 4,
>>>>>>> 81d74b2659e16c9aaf6a63e34c5de583feecd6b3
   "metadata": {},
   "outputs": [],
   "source": [
=======
    "#Read in .csv's for training and testing datasets\n",
    "\n",
    "df = pd.read_csv('./data/cheap_train_sample.csv')\n",
>>>>>>> 9ec66d979410472e90eafaefb960254af9fe9ae5
    "df_test = pd.read_csv('./data/test_data.csv')"
   ]
  },
  {
   "cell_type": "code",
   "execution_count": 4,
   "metadata": {
    "scrolled": true
   },
   "outputs": [
    {
     "data": {
      "text/html": [
       "<div>\n",
       "<style scoped>\n",
       "    .dataframe tbody tr th:only-of-type {\n",
       "        vertical-align: middle;\n",
       "    }\n",
       "\n",
       "    .dataframe tbody tr th {\n",
       "        vertical-align: top;\n",
       "    }\n",
       "\n",
       "    .dataframe thead th {\n",
       "        text-align: right;\n",
       "    }\n",
       "</style>\n",
       "<table border=\"1\" class=\"dataframe\">\n",
       "  <thead>\n",
       "    <tr style=\"text-align: right;\">\n",
       "      <th></th>\n",
       "      <th>age</th>\n",
       "      <th>workclass</th>\n",
       "      <th>fnlwgt</th>\n",
       "      <th>education</th>\n",
       "      <th>education-num</th>\n",
       "      <th>marital-status</th>\n",
       "      <th>occupation</th>\n",
       "      <th>relationship</th>\n",
       "      <th>sex</th>\n",
       "      <th>capital-gain</th>\n",
       "      <th>capital-loss</th>\n",
       "      <th>hours-per-week</th>\n",
       "      <th>native-country</th>\n",
       "      <th>wage</th>\n",
       "    </tr>\n",
       "  </thead>\n",
       "  <tbody>\n",
       "    <tr>\n",
       "      <th>0</th>\n",
       "      <td>56</td>\n",
       "      <td>Private</td>\n",
       "      <td>346033</td>\n",
       "      <td>9th</td>\n",
       "      <td>5</td>\n",
       "      <td>Divorced</td>\n",
       "      <td>Adm-clerical</td>\n",
       "      <td>Not-in-family</td>\n",
       "      <td>Male</td>\n",
       "      <td>0</td>\n",
       "      <td>0</td>\n",
       "      <td>40</td>\n",
       "      <td>United-States</td>\n",
       "      <td>&lt;=50K</td>\n",
       "    </tr>\n",
       "    <tr>\n",
       "      <th>1</th>\n",
       "      <td>28</td>\n",
       "      <td>Private</td>\n",
       "      <td>96226</td>\n",
       "      <td>HS-grad</td>\n",
       "      <td>9</td>\n",
       "      <td>Married-civ-spouse</td>\n",
       "      <td>Craft-repair</td>\n",
       "      <td>Husband</td>\n",
       "      <td>Male</td>\n",
       "      <td>0</td>\n",
       "      <td>0</td>\n",
       "      <td>45</td>\n",
       "      <td>United-States</td>\n",
       "      <td>&lt;=50K</td>\n",
       "    </tr>\n",
       "    <tr>\n",
       "      <th>2</th>\n",
       "      <td>33</td>\n",
       "      <td>Private</td>\n",
       "      <td>251120</td>\n",
       "      <td>Bachelors</td>\n",
       "      <td>13</td>\n",
       "      <td>Married-civ-spouse</td>\n",
       "      <td>Sales</td>\n",
       "      <td>Husband</td>\n",
       "      <td>Male</td>\n",
       "      <td>7688</td>\n",
       "      <td>0</td>\n",
       "      <td>50</td>\n",
       "      <td>United-States</td>\n",
       "      <td>&gt;50K</td>\n",
       "    </tr>\n",
       "    <tr>\n",
       "      <th>3</th>\n",
       "      <td>26</td>\n",
       "      <td>Private</td>\n",
       "      <td>178140</td>\n",
       "      <td>Bachelors</td>\n",
       "      <td>13</td>\n",
       "      <td>Married-civ-spouse</td>\n",
       "      <td>Other-service</td>\n",
       "      <td>Husband</td>\n",
       "      <td>Male</td>\n",
       "      <td>0</td>\n",
       "      <td>0</td>\n",
       "      <td>45</td>\n",
       "      <td>United-States</td>\n",
       "      <td>&gt;50K</td>\n",
       "    </tr>\n",
       "    <tr>\n",
       "      <th>4</th>\n",
       "      <td>40</td>\n",
       "      <td>Federal-gov</td>\n",
       "      <td>56795</td>\n",
       "      <td>Masters</td>\n",
       "      <td>14</td>\n",
       "      <td>Never-married</td>\n",
       "      <td>Exec-managerial</td>\n",
       "      <td>Not-in-family</td>\n",
       "      <td>Female</td>\n",
       "      <td>14084</td>\n",
       "      <td>0</td>\n",
       "      <td>55</td>\n",
       "      <td>United-States</td>\n",
       "      <td>&gt;50K</td>\n",
       "    </tr>\n",
       "  </tbody>\n",
       "</table>\n",
       "</div>"
      ],
      "text/plain": [
       "   age     workclass  fnlwgt   education  education-num       marital-status  \\\n",
       "0   56       Private  346033         9th              5             Divorced   \n",
       "1   28       Private   96226     HS-grad              9   Married-civ-spouse   \n",
       "2   33       Private  251120   Bachelors             13   Married-civ-spouse   \n",
       "3   26       Private  178140   Bachelors             13   Married-civ-spouse   \n",
       "4   40   Federal-gov   56795     Masters             14        Never-married   \n",
       "\n",
       "         occupation    relationship      sex  capital-gain  capital-loss  \\\n",
       "0      Adm-clerical   Not-in-family     Male             0             0   \n",
       "1      Craft-repair         Husband     Male             0             0   \n",
       "2             Sales         Husband     Male          7688             0   \n",
       "3     Other-service         Husband     Male             0             0   \n",
       "4   Exec-managerial   Not-in-family   Female         14084             0   \n",
       "\n",
       "   hours-per-week  native-country    wage  \n",
       "0              40   United-States   <=50K  \n",
       "1              45   United-States   <=50K  \n",
       "2              50   United-States    >50K  \n",
       "3              45   United-States    >50K  \n",
       "4              55   United-States    >50K  "
      ]
     },
<<<<<<< HEAD
<<<<<<< HEAD
     "execution_count": 17,
=======
     "execution_count": 5,
>>>>>>> 81d74b2659e16c9aaf6a63e34c5de583feecd6b3
=======
     "execution_count": 4,
>>>>>>> 9ec66d979410472e90eafaefb960254af9fe9ae5
     "metadata": {},
     "output_type": "execute_result"
    }
   ],
   "source": [
    "#Explore the training head\n",
    "\n",
    "df.head()"
   ]
  },
  {
   "cell_type": "code",
<<<<<<< HEAD
<<<<<<< HEAD
   "execution_count": 10,
   "metadata": {},
   "outputs": [
    {
     "name": "stdout",
     "output_type": "stream",
     "text": [
      "<class 'pandas.core.frame.DataFrame'>\n",
      "RangeIndex: 6513 entries, 0 to 6512\n",
      "Data columns (total 14 columns):\n",
      "age               6513 non-null int64\n",
      "workclass         6513 non-null object\n",
      "fnlwgt            6513 non-null int64\n",
      "education         6513 non-null object\n",
      "education-num     6513 non-null int64\n",
      "marital-status    6513 non-null object\n",
      "occupation        6513 non-null object\n",
      "relationship      6513 non-null object\n",
      "sex               6513 non-null object\n",
      "capital-gain      6513 non-null int64\n",
      "capital-loss      6513 non-null int64\n",
      "hours-per-week    6513 non-null int64\n",
      "native-country    6513 non-null object\n",
      "wage              6513 non-null object\n",
      "dtypes: int64(6), object(8)\n",
      "memory usage: 712.4+ KB\n"
     ]
    }
   ],
   "source": [
    "df.info()"
   ]
  },
  {
   "cell_type": "code",
   "execution_count": 11,
   "metadata": {},
   "outputs": [
    {
     "data": {
      "text/html": [
       "<div>\n",
       "<style scoped>\n",
       "    .dataframe tbody tr th:only-of-type {\n",
       "        vertical-align: middle;\n",
       "    }\n",
       "\n",
       "    .dataframe tbody tr th {\n",
       "        vertical-align: top;\n",
       "    }\n",
       "\n",
       "    .dataframe thead th {\n",
       "        text-align: right;\n",
       "    }\n",
       "</style>\n",
       "<table border=\"1\" class=\"dataframe\">\n",
       "  <thead>\n",
       "    <tr style=\"text-align: right;\">\n",
       "      <th></th>\n",
       "      <th>age</th>\n",
       "      <th>fnlwgt</th>\n",
       "      <th>education-num</th>\n",
       "      <th>capital-gain</th>\n",
       "      <th>capital-loss</th>\n",
       "      <th>hours-per-week</th>\n",
       "    </tr>\n",
       "  </thead>\n",
       "  <tbody>\n",
       "    <tr>\n",
       "      <th>count</th>\n",
       "      <td>6513.000000</td>\n",
       "      <td>6.513000e+03</td>\n",
       "      <td>6513.000000</td>\n",
       "      <td>6513.000000</td>\n",
       "      <td>6513.000000</td>\n",
       "      <td>6513.000000</td>\n",
       "    </tr>\n",
       "    <tr>\n",
       "      <th>mean</th>\n",
       "      <td>38.529556</td>\n",
       "      <td>1.926640e+05</td>\n",
       "      <td>10.068478</td>\n",
       "      <td>1059.200829</td>\n",
       "      <td>92.108092</td>\n",
       "      <td>40.400891</td>\n",
       "    </tr>\n",
       "    <tr>\n",
       "      <th>std</th>\n",
       "      <td>13.684351</td>\n",
       "      <td>1.060173e+05</td>\n",
       "      <td>2.589238</td>\n",
       "      <td>7392.040587</td>\n",
       "      <td>413.710886</td>\n",
       "      <td>12.354685</td>\n",
       "    </tr>\n",
       "    <tr>\n",
       "      <th>min</th>\n",
       "      <td>17.000000</td>\n",
       "      <td>1.228500e+04</td>\n",
       "      <td>1.000000</td>\n",
       "      <td>0.000000</td>\n",
       "      <td>0.000000</td>\n",
       "      <td>1.000000</td>\n",
       "    </tr>\n",
       "    <tr>\n",
       "      <th>25%</th>\n",
       "      <td>27.000000</td>\n",
       "      <td>1.202380e+05</td>\n",
       "      <td>9.000000</td>\n",
       "      <td>0.000000</td>\n",
       "      <td>0.000000</td>\n",
       "      <td>40.000000</td>\n",
       "    </tr>\n",
       "    <tr>\n",
       "      <th>50%</th>\n",
       "      <td>37.000000</td>\n",
       "      <td>1.815760e+05</td>\n",
       "      <td>10.000000</td>\n",
       "      <td>0.000000</td>\n",
       "      <td>0.000000</td>\n",
       "      <td>40.000000</td>\n",
       "    </tr>\n",
       "    <tr>\n",
       "      <th>75%</th>\n",
       "      <td>48.000000</td>\n",
       "      <td>2.417530e+05</td>\n",
       "      <td>13.000000</td>\n",
       "      <td>0.000000</td>\n",
       "      <td>0.000000</td>\n",
       "      <td>45.000000</td>\n",
       "    </tr>\n",
       "    <tr>\n",
       "      <th>max</th>\n",
       "      <td>90.000000</td>\n",
       "      <td>1.366120e+06</td>\n",
       "      <td>16.000000</td>\n",
       "      <td>99999.000000</td>\n",
       "      <td>4356.000000</td>\n",
       "      <td>99.000000</td>\n",
       "    </tr>\n",
       "  </tbody>\n",
       "</table>\n",
       "</div>"
      ],
      "text/plain": [
       "               age        fnlwgt  education-num  capital-gain  capital-loss  \\\n",
       "count  6513.000000  6.513000e+03    6513.000000   6513.000000   6513.000000   \n",
       "mean     38.529556  1.926640e+05      10.068478   1059.200829     92.108092   \n",
       "std      13.684351  1.060173e+05       2.589238   7392.040587    413.710886   \n",
       "min      17.000000  1.228500e+04       1.000000      0.000000      0.000000   \n",
       "25%      27.000000  1.202380e+05       9.000000      0.000000      0.000000   \n",
       "50%      37.000000  1.815760e+05      10.000000      0.000000      0.000000   \n",
       "75%      48.000000  2.417530e+05      13.000000      0.000000      0.000000   \n",
       "max      90.000000  1.366120e+06      16.000000  99999.000000   4356.000000   \n",
       "\n",
       "       hours-per-week  \n",
       "count     6513.000000  \n",
       "mean        40.400891  \n",
       "std         12.354685  \n",
       "min          1.000000  \n",
       "25%         40.000000  \n",
       "50%         40.000000  \n",
       "75%         45.000000  \n",
       "max         99.000000  "
      ]
     },
     "execution_count": 11,
     "metadata": {},
     "output_type": "execute_result"
    }
   ],
   "source": [
    "df.describe()"
   ]
  },
  {
   "cell_type": "code",
   "execution_count": 12,
   "metadata": {},
   "outputs": [
    {
     "data": {
      "text/plain": [
       " <=50K    4945\n",
       " >50K     1568\n",
       "Name: wage, dtype: int64"
      ]
     },
     "execution_count": 12,
     "metadata": {},
     "output_type": "execute_result"
    }
   ],
   "source": [
    "df['wage'].value_counts()"
   ]
  },
  {
   "cell_type": "code",
   "execution_count": 28,
   "metadata": {},
   "outputs": [],
   "source": [
    "df['wage'].map()"
   ]
  },
  {
   "cell_type": "code",
   "execution_count": null,
   "metadata": {},
   "outputs": [],
   "source": []
  },
  {
   "cell_type": "code",
   "execution_count": 29,
   "metadata": {},
   "outputs": [
    {
     "data": {
      "text/html": [
       "<div>\n",
       "<style scoped>\n",
       "    .dataframe tbody tr th:only-of-type {\n",
       "        vertical-align: middle;\n",
       "    }\n",
       "\n",
       "    .dataframe tbody tr th {\n",
       "        vertical-align: top;\n",
       "    }\n",
       "\n",
       "    .dataframe thead th {\n",
       "        text-align: right;\n",
       "    }\n",
       "</style>\n",
       "<table border=\"1\" class=\"dataframe\">\n",
       "  <thead>\n",
       "    <tr style=\"text-align: right;\">\n",
       "      <th></th>\n",
       "      <th>age</th>\n",
       "      <th>workclass</th>\n",
       "      <th>fnlwgt</th>\n",
       "      <th>education</th>\n",
       "      <th>education-num</th>\n",
       "      <th>marital-status</th>\n",
       "      <th>occupation</th>\n",
       "      <th>relationship</th>\n",
       "      <th>sex</th>\n",
       "      <th>capital-gain</th>\n",
       "      <th>capital-loss</th>\n",
       "      <th>hours-per-week</th>\n",
       "      <th>native-country</th>\n",
       "      <th>wage</th>\n",
       "    </tr>\n",
       "  </thead>\n",
       "  <tbody>\n",
       "    <tr>\n",
       "      <th>0</th>\n",
       "      <td>56</td>\n",
       "      <td>Private</td>\n",
       "      <td>346033</td>\n",
       "      <td>9th</td>\n",
       "      <td>5</td>\n",
       "      <td>Divorced</td>\n",
       "      <td>Adm-clerical</td>\n",
       "      <td>Not-in-family</td>\n",
       "      <td>Male</td>\n",
       "      <td>0</td>\n",
       "      <td>0</td>\n",
       "      <td>40</td>\n",
       "      <td>United-States</td>\n",
       "      <td>&lt;=50K</td>\n",
       "    </tr>\n",
       "    <tr>\n",
       "      <th>1</th>\n",
       "      <td>28</td>\n",
       "      <td>Private</td>\n",
       "      <td>96226</td>\n",
       "      <td>HS-grad</td>\n",
       "      <td>9</td>\n",
       "      <td>Married-civ-spouse</td>\n",
       "      <td>Craft-repair</td>\n",
       "      <td>Husband</td>\n",
       "      <td>Male</td>\n",
       "      <td>0</td>\n",
       "      <td>0</td>\n",
       "      <td>45</td>\n",
       "      <td>United-States</td>\n",
       "      <td>&lt;=50K</td>\n",
       "    </tr>\n",
       "    <tr>\n",
       "      <th>2</th>\n",
       "      <td>33</td>\n",
       "      <td>Private</td>\n",
       "      <td>251120</td>\n",
       "      <td>Bachelors</td>\n",
       "      <td>13</td>\n",
       "      <td>Married-civ-spouse</td>\n",
       "      <td>Sales</td>\n",
       "      <td>Husband</td>\n",
       "      <td>Male</td>\n",
       "      <td>7688</td>\n",
       "      <td>0</td>\n",
       "      <td>50</td>\n",
       "      <td>United-States</td>\n",
       "      <td>&gt;50K</td>\n",
       "    </tr>\n",
       "    <tr>\n",
       "      <th>3</th>\n",
       "      <td>26</td>\n",
       "      <td>Private</td>\n",
       "      <td>178140</td>\n",
       "      <td>Bachelors</td>\n",
       "      <td>13</td>\n",
       "      <td>Married-civ-spouse</td>\n",
       "      <td>Other-service</td>\n",
       "      <td>Husband</td>\n",
       "      <td>Male</td>\n",
       "      <td>0</td>\n",
       "      <td>0</td>\n",
       "      <td>45</td>\n",
       "      <td>United-States</td>\n",
       "      <td>&gt;50K</td>\n",
       "    </tr>\n",
       "    <tr>\n",
       "      <th>4</th>\n",
       "      <td>40</td>\n",
       "      <td>Federal-gov</td>\n",
       "      <td>56795</td>\n",
       "      <td>Masters</td>\n",
       "      <td>14</td>\n",
       "      <td>Never-married</td>\n",
       "      <td>Exec-managerial</td>\n",
       "      <td>Not-in-family</td>\n",
       "      <td>Female</td>\n",
       "      <td>14084</td>\n",
       "      <td>0</td>\n",
       "      <td>55</td>\n",
       "      <td>United-States</td>\n",
       "      <td>&gt;50K</td>\n",
       "    </tr>\n",
       "  </tbody>\n",
       "</table>\n",
       "</div>"
      ],
      "text/plain": [
       "   age     workclass  fnlwgt   education  education-num       marital-status  \\\n",
       "0   56       Private  346033         9th              5             Divorced   \n",
       "1   28       Private   96226     HS-grad              9   Married-civ-spouse   \n",
       "2   33       Private  251120   Bachelors             13   Married-civ-spouse   \n",
       "3   26       Private  178140   Bachelors             13   Married-civ-spouse   \n",
       "4   40   Federal-gov   56795     Masters             14        Never-married   \n",
       "\n",
       "         occupation    relationship      sex  capital-gain  capital-loss  \\\n",
       "0      Adm-clerical   Not-in-family     Male             0             0   \n",
       "1      Craft-repair         Husband     Male             0             0   \n",
       "2             Sales         Husband     Male          7688             0   \n",
       "3     Other-service         Husband     Male             0             0   \n",
       "4   Exec-managerial   Not-in-family   Female         14084             0   \n",
       "\n",
       "   hours-per-week  native-country    wage  \n",
       "0              40   United-States   <=50K  \n",
       "1              45   United-States   <=50K  \n",
       "2              50   United-States    >50K  \n",
       "3              45   United-States    >50K  \n",
       "4              55   United-States    >50K  "
      ]
     },
     "execution_count": 29,
     "metadata": {},
     "output_type": "execute_result"
    }
   ],
   "source": [
    "df.head()"
   ]
  },
  {
   "cell_type": "code",
<<<<<<< HEAD
   "execution_count": 9,
   "metadata": {},
   "outputs": [
    {
     "data": {
      "text/html": [
       "<div>\n",
       "<style scoped>\n",
       "    .dataframe tbody tr th:only-of-type {\n",
       "        vertical-align: middle;\n",
       "    }\n",
       "\n",
       "    .dataframe tbody tr th {\n",
       "        vertical-align: top;\n",
       "    }\n",
       "\n",
       "    .dataframe thead th {\n",
       "        text-align: right;\n",
       "    }\n",
       "</style>\n",
       "<table border=\"1\" class=\"dataframe\">\n",
       "  <thead>\n",
       "    <tr style=\"text-align: right;\">\n",
       "      <th></th>\n",
       "      <th>age</th>\n",
       "      <th>workclass</th>\n",
       "      <th>fnlwgt</th>\n",
       "      <th>education</th>\n",
       "      <th>education-num</th>\n",
       "      <th>marital-status</th>\n",
       "      <th>occupation</th>\n",
       "      <th>relationship</th>\n",
       "      <th>sex</th>\n",
       "      <th>capital-gain</th>\n",
       "      <th>capital-loss</th>\n",
       "      <th>hours-per-week</th>\n",
       "      <th>native-country</th>\n",
       "    </tr>\n",
       "  </thead>\n",
       "  <tbody>\n",
       "    <tr>\n",
       "      <th>0</th>\n",
       "      <td>25</td>\n",
       "      <td>Private</td>\n",
       "      <td>226802</td>\n",
       "      <td>11th</td>\n",
       "      <td>7</td>\n",
       "      <td>Never-married</td>\n",
       "      <td>Machine-op-inspct</td>\n",
       "      <td>Own-child</td>\n",
       "      <td>Male</td>\n",
       "      <td>0</td>\n",
       "      <td>0</td>\n",
       "      <td>40</td>\n",
       "      <td>United-States</td>\n",
       "    </tr>\n",
       "    <tr>\n",
       "      <th>1</th>\n",
       "      <td>38</td>\n",
       "      <td>Private</td>\n",
       "      <td>89814</td>\n",
       "      <td>HS-grad</td>\n",
       "      <td>9</td>\n",
       "      <td>Married-civ-spouse</td>\n",
       "      <td>Farming-fishing</td>\n",
       "      <td>Husband</td>\n",
       "      <td>Male</td>\n",
       "      <td>0</td>\n",
       "      <td>0</td>\n",
       "      <td>50</td>\n",
       "      <td>United-States</td>\n",
       "    </tr>\n",
       "    <tr>\n",
       "      <th>2</th>\n",
       "      <td>28</td>\n",
       "      <td>Local-gov</td>\n",
       "      <td>336951</td>\n",
       "      <td>Assoc-acdm</td>\n",
       "      <td>12</td>\n",
       "      <td>Married-civ-spouse</td>\n",
       "      <td>Protective-serv</td>\n",
       "      <td>Husband</td>\n",
       "      <td>Male</td>\n",
       "      <td>0</td>\n",
       "      <td>0</td>\n",
       "      <td>40</td>\n",
       "      <td>United-States</td>\n",
       "    </tr>\n",
       "    <tr>\n",
       "      <th>3</th>\n",
       "      <td>44</td>\n",
       "      <td>Private</td>\n",
       "      <td>160323</td>\n",
       "      <td>Some-college</td>\n",
       "      <td>10</td>\n",
       "      <td>Married-civ-spouse</td>\n",
       "      <td>Machine-op-inspct</td>\n",
       "      <td>Husband</td>\n",
       "      <td>Male</td>\n",
       "      <td>7688</td>\n",
       "      <td>0</td>\n",
       "      <td>40</td>\n",
       "      <td>United-States</td>\n",
       "    </tr>\n",
       "    <tr>\n",
       "      <th>4</th>\n",
       "      <td>18</td>\n",
       "      <td>?</td>\n",
       "      <td>103497</td>\n",
       "      <td>Some-college</td>\n",
       "      <td>10</td>\n",
       "      <td>Never-married</td>\n",
       "      <td>?</td>\n",
       "      <td>Own-child</td>\n",
       "      <td>Female</td>\n",
       "      <td>0</td>\n",
       "      <td>0</td>\n",
       "      <td>30</td>\n",
       "      <td>United-States</td>\n",
       "    </tr>\n",
       "  </tbody>\n",
       "</table>\n",
       "</div>"
      ],
      "text/plain": [
       "   age   workclass  fnlwgt      education  education-num       marital-status  \\\n",
       "0   25     Private  226802           11th              7        Never-married   \n",
       "1   38     Private   89814        HS-grad              9   Married-civ-spouse   \n",
       "2   28   Local-gov  336951     Assoc-acdm             12   Married-civ-spouse   \n",
       "3   44     Private  160323   Some-college             10   Married-civ-spouse   \n",
       "4   18           ?  103497   Some-college             10        Never-married   \n",
       "\n",
       "           occupation relationship      sex  capital-gain  capital-loss  \\\n",
       "0   Machine-op-inspct    Own-child     Male             0             0   \n",
       "1     Farming-fishing      Husband     Male             0             0   \n",
       "2     Protective-serv      Husband     Male             0             0   \n",
       "3   Machine-op-inspct      Husband     Male          7688             0   \n",
       "4                   ?    Own-child   Female             0             0   \n",
       "\n",
       "   hours-per-week  native-country  \n",
       "0              40   United-States  \n",
       "1              50   United-States  \n",
       "2              40   United-States  \n",
       "3              40   United-States  \n",
       "4              30   United-States  "
      ]
     },
     "execution_count": 9,
     "metadata": {},
     "output_type": "execute_result"
    }
   ],
   "source": [
    "test.head()"
   ]
  },
  {
   "cell_type": "code",
   "execution_count": 4,
=======
=======
   "execution_count": null,
   "metadata": {},
   "outputs": [],
   "source": []
  },
  {
   "cell_type": "code",
>>>>>>> 9267c637c589e888f303ef3b7074b8053562fb2d
   "execution_count": 6,
>>>>>>> 81d74b2659e16c9aaf6a63e34c5de583feecd6b3
=======
   "execution_count": 5,
>>>>>>> 9ec66d979410472e90eafaefb960254af9fe9ae5
   "metadata": {},
   "outputs": [
    {
     "data": {
      "text/plain": [
       "age                int64\n",
       "workclass         object\n",
       "fnlwgt             int64\n",
       "education         object\n",
       "education-num      int64\n",
       "marital-status    object\n",
       "occupation        object\n",
       "relationship      object\n",
       "sex               object\n",
       "capital-gain       int64\n",
       "capital-loss       int64\n",
       "hours-per-week     int64\n",
       "native-country    object\n",
       "wage              object\n",
       "dtype: object"
      ]
     },
<<<<<<< HEAD
<<<<<<< HEAD
     "execution_count": 4,
=======
     "execution_count": 6,
>>>>>>> 81d74b2659e16c9aaf6a63e34c5de583feecd6b3
=======
     "execution_count": 5,
>>>>>>> 9ec66d979410472e90eafaefb960254af9fe9ae5
     "metadata": {},
     "output_type": "execute_result"
    }
   ],
   "source": [
    "#Explore the data types\n",
    "\n",
    "df.dtypes"
   ]
  },
  {
   "cell_type": "code",
<<<<<<< HEAD
<<<<<<< HEAD
   "execution_count": 5,
=======
   "execution_count": 7,
>>>>>>> 81d74b2659e16c9aaf6a63e34c5de583feecd6b3
=======
   "execution_count": 6,
>>>>>>> 9ec66d979410472e90eafaefb960254af9fe9ae5
   "metadata": {},
   "outputs": [
    {
     "name": "stdout",
     "output_type": "stream",
     "text": [
      "Name:\n",
      " workclass,  Private             4545\n",
      " Self-emp-not-inc     504\n",
      " Local-gov            421\n",
      " ?                    363\n",
      " State-gov            262\n",
      " Self-emp-inc         225\n",
      " Federal-gov          189\n",
      " Never-worked           2\n",
      " Without-pay            2\n",
      "Name: workclass, dtype: int64\n",
      "\n",
      "Name:\n",
      " education,  HS-grad         2103\n",
      " Some-college    1451\n",
      " Bachelors       1113\n",
      " Masters          334\n",
      " Assoc-voc        250\n",
      " 11th             225\n",
      " Assoc-acdm       222\n",
      " 10th             175\n",
      " 7th-8th          142\n",
      " 9th              106\n",
      " Prof-school      103\n",
      " 12th              89\n",
      " Doctorate         81\n",
      " 5th-6th           79\n",
      " 1st-4th           27\n",
      " Preschool         13\n",
      "Name: education, dtype: int64\n",
      "\n",
      "Name:\n",
      " marital-status,  Married-civ-spouse       2978\n",
      " Never-married            2135\n",
      " Divorced                  898\n",
      " Separated                 210\n",
      " Widowed                   204\n",
      " Married-spouse-absent      81\n",
      " Married-AF-spouse           7\n",
      "Name: marital-status, dtype: int64\n",
      "\n",
      "Name:\n",
      " occupation,  Exec-managerial      853\n",
      " Prof-specialty       840\n",
      " Craft-repair         831\n",
      " Adm-clerical         761\n",
      " Other-service        684\n",
      " Sales                681\n",
      " Machine-op-inspct    377\n",
      " ?                    365\n",
      " Transport-moving     320\n",
      " Handlers-cleaners    268\n",
      " Farming-fishing      184\n",
      " Tech-support         182\n",
      " Protective-serv      129\n",
      " Priv-house-serv       36\n",
      " Armed-Forces           2\n",
      "Name: occupation, dtype: int64\n",
      "\n",
      "Name:\n",
      " relationship,  Husband           2612\n",
      " Not-in-family     1665\n",
      " Own-child         1019\n",
      " Unmarried          701\n",
      " Wife               322\n",
      " Other-relative     194\n",
      "Name: relationship, dtype: int64\n",
      "\n",
      "Name:\n",
      " sex,  Male      4326\n",
      " Female    2187\n",
      "Name: sex, dtype: int64\n",
      "\n",
      "Name:\n",
      " native-country,  United-States                 5807\n",
      " Mexico                         150\n",
      " ?                              120\n",
      " Philippines                     43\n",
      " El-Salvador                     29\n",
      " Canada                          26\n",
      " Germany                         24\n",
      " Dominican-Republic              20\n",
      " South                           18\n",
      " Jamaica                         18\n",
      " India                           17\n",
<<<<<<< HEAD
<<<<<<< HEAD
<<<<<<< HEAD
      " Puerto-Rico                     17\n",
      " Cuba                            16\n",
=======
>>>>>>> 81d74b2659e16c9aaf6a63e34c5de583feecd6b3
=======
      " Puerto-Rico                     17\n",
>>>>>>> 9267c637c589e888f303ef3b7074b8053562fb2d
      " England                         16\n",
=======
      " China                           17\n",
      " Puerto-Rico                     17\n",
>>>>>>> 9ec66d979410472e90eafaefb960254af9fe9ae5
      " Cuba                            16\n",
      " England                         16\n",
      " Italy                           15\n",
      " Poland                          14\n",
      " Japan                           12\n",
      " Columbia                        11\n",
      " Haiti                           11\n",
      " Guatemala                       11\n",
      " Taiwan                          10\n",
<<<<<<< HEAD
<<<<<<< HEAD
      " France                           9\n",
=======
>>>>>>> 81d74b2659e16c9aaf6a63e34c5de583feecd6b3
      " Peru                             9\n",
=======
      " Iran                            10\n",
>>>>>>> 9ec66d979410472e90eafaefb960254af9fe9ae5
      " France                           9\n",
      " Peru                             9\n",
      " Vietnam                          8\n",
      " Cambodia                         6\n",
<<<<<<< HEAD
<<<<<<< HEAD
      " Nicaragua                        6\n",
<<<<<<< HEAD
      " Outlying-US(Guam-USVI-etc)       5\n",
      " Portugal                         5\n",
      " Ecuador                          4\n",
      " Hong                             4\n",
      " Scotland                         4\n",
      " Thailand                         3\n",
      " Trinadad&Tobago                  3\n",
      " Yugoslavia                       3\n",
      " Greece                           3\n",
      " Ireland                          3\n",
=======
=======
      " Nicaragua                        6\n",
>>>>>>> 9267c637c589e888f303ef3b7074b8053562fb2d
      " Portugal                         5\n",
=======
>>>>>>> 9ec66d979410472e90eafaefb960254af9fe9ae5
      " Outlying-US(Guam-USVI-etc)       5\n",
      " Portugal                         5\n",
      " Scotland                         4\n",
      " Ecuador                          4\n",
      " Hong                             4\n",
      " Thailand                         3\n",
<<<<<<< HEAD
      " Trinadad&Tobago                  3\n",
>>>>>>> 81d74b2659e16c9aaf6a63e34c5de583feecd6b3
      " Hungary                          3\n",
=======
>>>>>>> 9267c637c589e888f303ef3b7074b8053562fb2d
      " Ireland                          3\n",
      " Greece                           3\n",
      " Hungary                          3\n",
      " Trinadad&Tobago                  3\n",
      " Yugoslavia                       3\n",
      " Laos                             2\n",
      " Honduras                         1\n",
      "Name: native-country, dtype: int64\n",
      "\n",
      "Name:\n",
      " wage,  <=50K    4945\n",
      " >50K     1568\n",
      "Name: wage, dtype: int64\n",
      "\n"
     ]
    }
   ],
   "source": [
    "#Explore the 'object' dtypes\n",
    "\n",
    "for name in df:\n",
    "    if df[name].dtypes == 'object':\n",
    "        print(f'Name:\\n {name}, {df[name].value_counts()}\\n')"
   ]
  },
  {
   "cell_type": "code",
<<<<<<< HEAD
<<<<<<< HEAD
<<<<<<< HEAD
   "execution_count": 30,
=======
   "execution_count": 9,
=======
   "execution_count": 8,
>>>>>>> 9267c637c589e888f303ef3b7074b8053562fb2d
=======
   "execution_count": 7,
>>>>>>> 9ec66d979410472e90eafaefb960254af9fe9ae5
   "metadata": {},
   "outputs": [
    {
     "data": {
      "text/html": [
       "<div>\n",
       "<style scoped>\n",
       "    .dataframe tbody tr th:only-of-type {\n",
       "        vertical-align: middle;\n",
       "    }\n",
       "\n",
       "    .dataframe tbody tr th {\n",
       "        vertical-align: top;\n",
       "    }\n",
       "\n",
       "    .dataframe thead th {\n",
       "        text-align: right;\n",
       "    }\n",
       "</style>\n",
       "<table border=\"1\" class=\"dataframe\">\n",
       "  <thead>\n",
       "    <tr style=\"text-align: right;\">\n",
       "      <th></th>\n",
       "      <th>age</th>\n",
       "      <th>fnlwgt</th>\n",
       "      <th>education-num</th>\n",
       "      <th>capital-gain</th>\n",
       "      <th>capital-loss</th>\n",
       "      <th>hours-per-week</th>\n",
       "    </tr>\n",
       "  </thead>\n",
       "  <tbody>\n",
       "    <tr>\n",
       "      <th>count</th>\n",
       "      <td>6513.000000</td>\n",
       "      <td>6.513000e+03</td>\n",
       "      <td>6513.000000</td>\n",
       "      <td>6513.000000</td>\n",
       "      <td>6513.000000</td>\n",
       "      <td>6513.000000</td>\n",
       "    </tr>\n",
       "    <tr>\n",
       "      <th>mean</th>\n",
       "      <td>38.529556</td>\n",
       "      <td>1.926640e+05</td>\n",
       "      <td>10.068478</td>\n",
       "      <td>1059.200829</td>\n",
       "      <td>92.108092</td>\n",
       "      <td>40.400891</td>\n",
       "    </tr>\n",
       "    <tr>\n",
       "      <th>std</th>\n",
       "      <td>13.684351</td>\n",
       "      <td>1.060173e+05</td>\n",
       "      <td>2.589238</td>\n",
       "      <td>7392.040587</td>\n",
       "      <td>413.710886</td>\n",
       "      <td>12.354685</td>\n",
       "    </tr>\n",
       "    <tr>\n",
       "      <th>min</th>\n",
       "      <td>17.000000</td>\n",
       "      <td>1.228500e+04</td>\n",
       "      <td>1.000000</td>\n",
       "      <td>0.000000</td>\n",
       "      <td>0.000000</td>\n",
       "      <td>1.000000</td>\n",
       "    </tr>\n",
       "    <tr>\n",
       "      <th>25%</th>\n",
       "      <td>27.000000</td>\n",
       "      <td>1.202380e+05</td>\n",
       "      <td>9.000000</td>\n",
       "      <td>0.000000</td>\n",
       "      <td>0.000000</td>\n",
       "      <td>40.000000</td>\n",
       "    </tr>\n",
       "    <tr>\n",
       "      <th>50%</th>\n",
       "      <td>37.000000</td>\n",
       "      <td>1.815760e+05</td>\n",
       "      <td>10.000000</td>\n",
       "      <td>0.000000</td>\n",
       "      <td>0.000000</td>\n",
       "      <td>40.000000</td>\n",
       "    </tr>\n",
       "    <tr>\n",
       "      <th>75%</th>\n",
       "      <td>48.000000</td>\n",
       "      <td>2.417530e+05</td>\n",
       "      <td>13.000000</td>\n",
       "      <td>0.000000</td>\n",
       "      <td>0.000000</td>\n",
       "      <td>45.000000</td>\n",
       "    </tr>\n",
       "    <tr>\n",
       "      <th>max</th>\n",
       "      <td>90.000000</td>\n",
       "      <td>1.366120e+06</td>\n",
       "      <td>16.000000</td>\n",
       "      <td>99999.000000</td>\n",
       "      <td>4356.000000</td>\n",
       "      <td>99.000000</td>\n",
       "    </tr>\n",
       "  </tbody>\n",
       "</table>\n",
       "</div>"
      ],
      "text/plain": [
       "               age        fnlwgt  education-num  capital-gain  capital-loss  \\\n",
       "count  6513.000000  6.513000e+03    6513.000000   6513.000000   6513.000000   \n",
       "mean     38.529556  1.926640e+05      10.068478   1059.200829     92.108092   \n",
       "std      13.684351  1.060173e+05       2.589238   7392.040587    413.710886   \n",
       "min      17.000000  1.228500e+04       1.000000      0.000000      0.000000   \n",
       "25%      27.000000  1.202380e+05       9.000000      0.000000      0.000000   \n",
       "50%      37.000000  1.815760e+05      10.000000      0.000000      0.000000   \n",
       "75%      48.000000  2.417530e+05      13.000000      0.000000      0.000000   \n",
       "max      90.000000  1.366120e+06      16.000000  99999.000000   4356.000000   \n",
       "\n",
       "       hours-per-week  \n",
       "count     6513.000000  \n",
       "mean        40.400891  \n",
       "std         12.354685  \n",
       "min          1.000000  \n",
       "25%         40.000000  \n",
       "50%         40.000000  \n",
       "75%         45.000000  \n",
       "max         99.000000  "
      ]
     },
     "execution_count": 7,
     "metadata": {},
     "output_type": "execute_result"
    }
   ],
   "source": [
    "#Describe the numerical data\n",
    "\n",
    "df.describe()"
   ]
  },
  {
   "cell_type": "code",
<<<<<<< HEAD
<<<<<<< HEAD
   "execution_count": 10,
>>>>>>> 81d74b2659e16c9aaf6a63e34c5de583feecd6b3
=======
   "execution_count": 9,
>>>>>>> 9267c637c589e888f303ef3b7074b8053562fb2d
=======
   "execution_count": 8,
>>>>>>> 9ec66d979410472e90eafaefb960254af9fe9ae5
   "metadata": {},
   "outputs": [
    {
     "data": {
      "text/plain": [
       " <=50K    0.759251\n",
       " >50K     0.240749\n",
       "Name: wage, dtype: float64"
      ]
     },
<<<<<<< HEAD
<<<<<<< HEAD
<<<<<<< HEAD
     "execution_count": 30,
=======
     "execution_count": 10,
>>>>>>> 81d74b2659e16c9aaf6a63e34c5de583feecd6b3
=======
     "execution_count": 9,
>>>>>>> 9267c637c589e888f303ef3b7074b8053562fb2d
=======
     "execution_count": 8,
>>>>>>> 9ec66d979410472e90eafaefb960254af9fe9ae5
     "metadata": {},
     "output_type": "execute_result"
    }
   ],
   "source": [
<<<<<<< HEAD
=======
    "#Observe the baseline values for target\n",
    "\n",
>>>>>>> 9ec66d979410472e90eafaefb960254af9fe9ae5
    "df['wage'].value_counts(normalize = True)"
   ]
  },
  {
   "cell_type": "markdown",
   "metadata": {},
   "source": [
    "### Binarize Native Country to U.S. or Other"
   ]
  },
  {
   "cell_type": "code",
   "execution_count": 9,
   "metadata": {},
   "outputs": [],
   "source": [
    "#Training data\n",
    "for country in df['native-country']:\n",
    "    if country == ' United-States':\n",
    "        df['native-country'] = 1\n",
    "    else:\n",
<<<<<<< HEAD
    "        df['native-country'] = 0"
   ]
  },
  {
   "cell_type": "code",
<<<<<<< HEAD
   "execution_count": 7,
=======
   "execution_count": 11,
   "metadata": {},
   "outputs": [],
   "source": [
=======
    "        df['native-country'] = 0\n",
    "        \n",
    "#Testing data       \n",
>>>>>>> 9ec66d979410472e90eafaefb960254af9fe9ae5
    "for country in df_test['native-country']:\n",
    "    if country == ' United-States':\n",
    "        df_test['native-country'] = 1\n",
    "    else:\n",
    "        df_test['native-country'] = 0"
   ]
  },
  {
   "cell_type": "code",
<<<<<<< HEAD
   "execution_count": 12,
>>>>>>> 81d74b2659e16c9aaf6a63e34c5de583feecd6b3
   "metadata": {},
   "outputs": [
    {
     "data": {
      "text/plain": [
<<<<<<< HEAD
<<<<<<< HEAD
       " United-States                 5807\n",
       " Mexico                         150\n",
       " ?                              120\n",
       " Philippines                     43\n",
       " El-Salvador                     29\n",
       " Canada                          26\n",
       " Germany                         24\n",
       " Dominican-Republic              20\n",
       " South                           18\n",
       " Jamaica                         18\n",
       " China                           17\n",
       " India                           17\n",
       " Puerto-Rico                     17\n",
       " Cuba                            16\n",
       " England                         16\n",
       " Italy                           15\n",
       " Poland                          14\n",
       " Japan                           12\n",
       " Guatemala                       11\n",
       " Columbia                        11\n",
       " Haiti                           11\n",
       " Iran                            10\n",
       " Taiwan                          10\n",
       " France                           9\n",
       " Peru                             9\n",
       " Vietnam                          8\n",
       " Cambodia                         6\n",
       " Nicaragua                        6\n",
       " Outlying-US(Guam-USVI-etc)       5\n",
       " Portugal                         5\n",
       " Ecuador                          4\n",
       " Hong                             4\n",
       " Scotland                         4\n",
       " Thailand                         3\n",
       " Trinadad&Tobago                  3\n",
       " Yugoslavia                       3\n",
       " Greece                           3\n",
       " Ireland                          3\n",
       " Hungary                          3\n",
       " Laos                             2\n",
       " Honduras                         1\n",
       "Name: native-country, dtype: int64"
      ]
     },
     "execution_count": 7,
=======
       "(6513, 96)"
=======
       "(6513, 14)"
>>>>>>> 9267c637c589e888f303ef3b7074b8053562fb2d
      ]
     },
     "execution_count": 12,
     "metadata": {},
     "output_type": "execute_result"
    }
   ],
   "source": [
    "df.shape"
   ]
  },
  {
   "cell_type": "code",
   "execution_count": 13,
   "metadata": {},
   "outputs": [
    {
     "data": {
      "text/plain": [
       "(16281, 13)"
      ]
     },
<<<<<<< HEAD
     "execution_count": 14,
>>>>>>> 81d74b2659e16c9aaf6a63e34c5de583feecd6b3
=======
     "execution_count": 13,
>>>>>>> 9267c637c589e888f303ef3b7074b8053562fb2d
     "metadata": {},
     "output_type": "execute_result"
=======
   "execution_count": 10,
   "metadata": {},
   "outputs": [
    {
     "name": "stdout",
     "output_type": "stream",
     "text": [
      "Training shape: (6513, 14)\n",
      "Testing shape: (16281, 13)\n"
     ]
>>>>>>> 9ec66d979410472e90eafaefb960254af9fe9ae5
    }
   ],
   "source": [
    "print(f'Training shape: {df.shape}')\n",
    "print(f'Testing shape: {df_test.shape}')"
   ]
  },
  {
   "cell_type": "markdown",
   "metadata": {},
   "source": [
<<<<<<< HEAD
    "### Strip other spaces"
   ]
  },
  {
   "cell_type": "code",
   "execution_count": 14,
   "metadata": {},
   "outputs": [],
<<<<<<< HEAD
=======
   "source": [
    "#df['education'] = df['education'].replace(' ', '')"
   ]
  },
  {
   "cell_type": "code",
   "execution_count": 15,
   "metadata": {
    "scrolled": true
   },
   "outputs": [],
   "source": [
    "#for col in df:\n",
    "#    df[col].replace(' ', '')"
=======
    "### Ordinal Schooling "
>>>>>>> 9ec66d979410472e90eafaefb960254af9fe9ae5
   ]
  },
  {
   "cell_type": "code",
   "execution_count": 11,
   "metadata": {},
   "outputs": [],
   "source": [
    "#Map Education feature to equal the percent of the category 'over 50K'\n",
    "\n",
    "#Training Data\n",
    "df['education'] = df['education'].map({\n",
    "    ' HS-grad': 0,\n",
    "    ' Some-college': 0,\n",
    "    ' Bachelors': 40.16,\n",
    "    ' Masters': 54.49,\n",
    "    ' Assoc-voc': 0,\n",
    "    ' 11th': 0,\n",
    "    ' Assoc-acdm':23.42,\n",
    "    ' 10th': 0.57,\n",
    "    ' 7th-8th': 0.04,\n",
    "    ' 9th': 0.83,\n",
    "    ' Prof-school': 100.82,\n",
    "    ' 12th': 0.87,\n",
    "    ' Doctorate': 100.78,\n",
    "    ' 5th-6th': 0.80,\n",
    "    ' 1st-4th': 0.41,\n",
    "    ' Preschool': 0\n",
    "})\n",
    "\n",
    "#Testing Data\n",
    "df_test['education'] = df_test['education'].map({\n",
    "    ' HS-grad': 0,\n",
    "    ' Some-college': 0,\n",
    "    ' Bachelors': 40.16,\n",
    "    ' Masters': 54.49,\n",
    "    ' Assoc-voc': 0,\n",
    "    ' 11th': 0,\n",
    "    ' Assoc-acdm':23.42,\n",
    "    ' 10th': 0.57,\n",
    "    ' 7th-8th': 0.04,\n",
    "    ' 9th': 0.83,\n",
    "    ' Prof-school': 100.82,\n",
    "    ' 12th': 0.87,\n",
    "    ' Doctorate': 100.78,\n",
    "    ' 5th-6th': 0.80,\n",
    "    ' 1st-4th': 0.41,\n",
    "    ' Preschool': 0\n",
    "})"
   ]
  },
  {
   "cell_type": "markdown",
   "metadata": {},
   "source": [
    "### Get Dummies"
   ]
  },
  {
   "cell_type": "code",
   "execution_count": 12,
   "metadata": {},
   "outputs": [],
   "source": [
    "#Dummy the training and testing data sets\n",
    "\n",
    "df_dummy = pd.get_dummies(df, drop_first=True)\n",
    "df_test_dummy = pd.get_dummies(df_test, drop_first=True)"
   ]
  },
  {
   "cell_type": "code",
   "execution_count": 13,
   "metadata": {},
   "outputs": [
    {
     "name": "stdout",
     "output_type": "stream",
     "text": [
      "Training shape: (6513, 14)\n",
      "Testing shape: (16281, 13)\n"
     ]
    }
   ],
   "source": [
    "#Check lengths\n",
    "\n",
    "print(f'Training shape: {df.shape}')\n",
    "print(f'Testing shape: {df_test.shape}')"
   ]
  },
  {
   "cell_type": "code",
   "execution_count": 14,
   "metadata": {},
   "outputs": [],
   "source": [
    "#Rename the wage column\n",
    "\n",
    "df_dummy['wage'] = df_dummy[\"wage_ >50K\"]\n",
    "df_dummy.drop('wage_ >50K', axis = 1, inplace = True)"
   ]
  },
  {
   "cell_type": "code",
   "execution_count": null,
   "metadata": {},
   "outputs": [],
   "source": []
  },
  {
   "cell_type": "markdown",
   "metadata": {},
   "source": [
    "### Feature Engineering"
   ]
  },
  {
   "cell_type": "code",
   "execution_count": 15,
   "metadata": {
    "scrolled": true
   },
   "outputs": [
    {
     "data": {
      "text/plain": [
       "<matplotlib.axes._subplots.AxesSubplot at 0x10ba76e10>"
      ]
     },
     "execution_count": 15,
     "metadata": {},
     "output_type": "execute_result"
    },
    {
     "data": {
      "image/png": "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\n",
      "text/plain": [
       "<Figure size 720x1440 with 2 Axes>"
      ]
     },
     "metadata": {
      "needs_background": "light"
     },
     "output_type": "display_data"
    }
   ],
   "source": [
    "#Check correlations to 'wage'\n",
    "\n",
    "plt.figure(figsize = (10, 20))\n",
    "sns.heatmap(df_dummy.corr()[['wage']].sort_values('wage'), annot = True, cmap = 'coolwarm')"
   ]
  },
  {
   "cell_type": "markdown",
   "metadata": {},
   "source": [
    "### Interaction Features"
   ]
  },
  {
   "cell_type": "code",
   "execution_count": 16,
   "metadata": {},
   "outputs": [],
   "source": [
    "#Education and Married\n",
    "df_dummy['ed_mar'] = df_dummy['education'] * df_dummy['marital-status_ Married-civ-spouse']\n",
    "df_test_dummy['ed_mar'] = df_test_dummy['education'] * df_test_dummy['marital-status_ Married-civ-spouse']\n",
    "\n",
    "\n",
    "#Combine Education and Not Married\n",
    "df_dummy['ed_mar2'] = df_dummy['education'] * df_dummy['marital-status_ Never-married']\n",
    "df_test_dummy['ed_mar2'] = df_test_dummy['education'] * df_test_dummy['marital-status_ Never-married']\n",
    "\n",
    "#Age and Ed\n",
    "df_dummy['age_ed'] = df_dummy['education'] * df_dummy['age']\n",
    "df_test_dummy['age_ed'] = df_test_dummy['education'] * df_test_dummy['age']\n",
    "\n",
    "#Married with fnlwgt\n",
    "df_dummy['mar_fnlwgt'] = df_dummy['marital-status_ Married-civ-spouse'] * df_dummy['fnlwgt']\n",
    "df_test_dummy['mar_fnlwgt'] = df_test_dummy['marital-status_ Married-civ-spouse'] * df_test_dummy['fnlwgt']"
   ]
  },
  {
   "cell_type": "markdown",
   "metadata": {},
   "source": [
    "### Mask on Fnlwgt"
   ]
  },
  {
   "cell_type": "code",
   "execution_count": 17,
   "metadata": {},
   "outputs": [],
   "source": [
    "#Drop Outliers from 'fnlwgt' category\n",
    "\n",
    "#Training data\n",
    "#df_dummy = df_dummy[df_dummy['fnlwgt'] < 800_000]\n",
    "\n",
    "#Testing data\n",
    "#df_test_dummy = df_test_dummy[df_test_dummy['fnlwgt'] < 800_000]"
   ]
  },
  {
   "cell_type": "code",
   "execution_count": null,
   "metadata": {},
   "outputs": [],
   "source": []
  },
  {
   "cell_type": "code",
   "execution_count": 18,
   "metadata": {},
   "outputs": [
    {
     "name": "stdout",
     "output_type": "stream",
     "text": [
      "Training shape: (6507, 47)\n",
      "Testing shape: (16262, 46)\n"
     ]
    }
   ],
   "source": [
    "#Check lengths\n",
    "\n",
    "print(f'Training shape: {df_dummy.shape}')\n",
    "print(f'Testing shape: {df_test_dummy.shape}')"
   ]
  },
  {
   "cell_type": "markdown",
   "metadata": {},
   "source": [
    "### Bootstrap on Over 50K"
   ]
  },
  {
   "cell_type": "code",
   "execution_count": 19,
   "metadata": {},
   "outputs": [
    {
     "data": {
      "text/plain": [
       "0    4939\n",
       "1    1568\n",
       "Name: wage, dtype: int64"
      ]
     },
     "execution_count": 19,
     "metadata": {},
     "output_type": "execute_result"
    }
   ],
   "source": [
    "#Check discrepancy\n",
    "df_dummy['wage'].value_counts()"
   ]
  },
  {
   "cell_type": "code",
   "execution_count": 20,
   "metadata": {},
   "outputs": [],
   "source": [
    "#Import resample for bootstrapping\n",
    "from sklearn.utils import resample"
   ]
  },
  {
   "cell_type": "code",
   "execution_count": 21,
   "metadata": {},
   "outputs": [],
   "source": [
    "#Create a bootstrapped data frame with enough samples to equalize categories\n",
    "\n",
    "bootstrap = resample(df_dummy[df_dummy['wage'] == 1],\n",
    "                     replace = True,\n",
    "                     n_samples = 3380,\n",
    "                     random_state = 42)"
   ]
  },
  {
   "cell_type": "code",
   "execution_count": 22,
   "metadata": {},
   "outputs": [],
   "source": [
    "#Concatenate the dataframes\n",
    "\n",
    "df_boot = pd.concat([df_dummy, bootstrap])"
   ]
  },
  {
   "cell_type": "markdown",
   "metadata": {},
   "source": [
    "### Save For Modeling"
   ]
  },
  {
   "cell_type": "code",
   "execution_count": 23,
   "metadata": {},
   "outputs": [],
   "source": [
    "#Save csv's for modeling\n",
    "df_boot.to_csv('train_df_clean.csv', index=False)\n",
    "df_test_dummy.to_csv('test_df_clean.csv', index=False)"
   ]
  },
  {
   "cell_type": "markdown",
   "metadata": {},
   "source": [
    "### Prepare for Modeling"
   ]
  },
  {
   "cell_type": "code",
   "execution_count": 24,
   "metadata": {},
   "outputs": [
    {
     "data": {
      "text/plain": [
       "{'wage'}"
      ]
     },
     "execution_count": 24,
     "metadata": {},
     "output_type": "execute_result"
    }
   ],
   "source": [
    "#Double check for no extra columns\n",
    "set(df_boot.columns) - set(df_test_dummy.columns)"
   ]
  },
  {
   "cell_type": "code",
   "execution_count": 25,
   "metadata": {},
   "outputs": [],
   "source": [
    "#Set columns for modeling\n",
    "X = df_boot.drop('wage', axis = 1)\n",
    "test_X = df_test_dummy"
   ]
  },
  {
   "cell_type": "code",
   "execution_count": 26,
   "metadata": {},
   "outputs": [],
   "source": [
    "#Set target column\n",
    "y = df_boot['wage']"
   ]
  },
  {
   "cell_type": "markdown",
   "metadata": {},
   "source": [
    "### Standard Scaler"
   ]
  },
  {
   "cell_type": "code",
   "execution_count": 27,
   "metadata": {},
   "outputs": [],
   "source": [
    "#Scale Data with Standard Scaler\n",
    "\n",
    "from sklearn.preprocessing import StandardScaler\n",
    "ss = StandardScaler()\n",
    "\n",
    "#Fit and transform X values for both datasets\n",
    "X_scaled = ss.fit_transform(X)\n",
    "outside_X_scaled = ss.transform(test_X)"
   ]
  },
  {
   "cell_type": "code",
   "execution_count": 28,
   "metadata": {},
   "outputs": [
    {
     "name": "stdout",
     "output_type": "stream",
     "text": [
      "(9887, 46)\n",
      "(16262, 46)\n"
     ]
    }
   ],
   "source": [
    "#Check shapes\n",
    "\n",
    "print(X.shape)\n",
    "print(test_X.shape)"
   ]
  },
  {
   "cell_type": "markdown",
   "metadata": {},
   "source": [
    "### Modeling Imports"
   ]
  },
  {
   "cell_type": "code",
   "execution_count": 29,
   "metadata": {},
   "outputs": [],
   "source": [
    "#Import models and processing\n",
    "\n",
    "from sklearn.model_selection import GridSearchCV, train_test_split\n",
    "from sklearn.ensemble import BaggingClassifier, RandomForestClassifier, AdaBoostClassifier\n",
    "from sklearn.preprocessing import StandardScaler\n",
    "from sklearn.linear_model import LinearRegression, LogisticRegressionCV, LassoCV, RidgeCV\n",
    "from sklearn.tree import DecisionTreeClassifier, DecisionTreeRegressor\n",
    "from sklearn.metrics import mean_squared_error, f1_score\n",
    "from sklearn.neighbors import KNeighborsClassifier\n",
    "from sklearn.pipeline import Pipeline\n",
    "from sklearn.svm import SVC, SVR\n",
    "from sklearn.naive_bayes import MultinomialNB"
   ]
  },
  {
   "cell_type": "markdown",
   "metadata": {},
   "source": [
    "### Train Test Split"
   ]
  },
  {
   "cell_type": "code",
   "execution_count": 30,
   "metadata": {},
   "outputs": [],
   "source": [
    "#Instantiate a Train/Test Split\n",
    "\n",
    "X_train, X_test, y_train, y_test = train_test_split(X_scaled, y, random_state = 42, stratify = y)"
   ]
  },
  {
   "cell_type": "markdown",
   "metadata": {},
   "source": [
    "### Logistic Regression"
   ]
  },
  {
   "cell_type": "code",
   "execution_count": 31,
   "metadata": {},
   "outputs": [
    {
     "name": "stderr",
     "output_type": "stream",
     "text": [
      "/Users/davidtrichter/anaconda3/envs/dsi/lib/python3.7/site-packages/sklearn/model_selection/_split.py:1978: FutureWarning: The default value of cv will change from 3 to 5 in version 0.22. Specify it explicitly to silence this warning.\n",
      "  warnings.warn(CV_WARNING, FutureWarning)\n"
     ]
    },
    {
     "data": {
      "text/plain": [
       "LogisticRegressionCV(Cs=10, class_weight=None, cv='warn', dual=False,\n",
       "                     fit_intercept=True, intercept_scaling=1.0, l1_ratios=None,\n",
       "                     max_iter=100, multi_class='warn', n_jobs=None,\n",
       "                     penalty='l2', random_state=None, refit=True, scoring=None,\n",
       "                     solver='lbfgs', tol=0.0001, verbose=0)"
      ]
     },
     "execution_count": 31,
     "metadata": {},
     "output_type": "execute_result"
    }
   ],
   "source": [
    "#Instantiate and Fit Logistic Regression Model\n",
    "lr = LogisticRegressionCV()\n",
    "\n",
    "lr.fit(X_train, y_train)"
   ]
  },
  {
   "cell_type": "code",
   "execution_count": 32,
   "metadata": {},
   "outputs": [
    {
     "data": {
      "text/plain": [
       "0.8182063385030344"
      ]
     },
     "execution_count": 32,
     "metadata": {},
     "output_type": "execute_result"
    }
   ],
   "source": [
    "#Training Score\n",
    "lr.score(X_train, y_train)"
   ]
  },
  {
   "cell_type": "code",
   "execution_count": 33,
   "metadata": {},
   "outputs": [
    {
     "data": {
      "text/plain": [
       "0.8305016181229773"
      ]
     },
     "execution_count": 33,
     "metadata": {},
     "output_type": "execute_result"
    }
   ],
   "source": [
    "#Testing Score\n",
    "lr.score(X_test, y_test)"
   ]
  },
  {
   "cell_type": "markdown",
   "metadata": {},
   "source": [
    "### Adaboost"
   ]
  },
  {
   "cell_type": "code",
   "execution_count": 34,
   "metadata": {},
   "outputs": [
    {
     "data": {
      "text/plain": [
       "AdaBoostClassifier(algorithm='SAMME.R', base_estimator=None, learning_rate=1,\n",
       "                   n_estimators=100, random_state=42)"
      ]
     },
     "execution_count": 34,
     "metadata": {},
     "output_type": "execute_result"
    }
   ],
   "source": [
    "#Instantiate and Fit Adaboost Model\n",
    "ada = AdaBoostClassifier(n_estimators=100, learning_rate=1, random_state=42)\n",
    "\n",
    "ada.fit(X_train, y_train)"
   ]
  },
  {
   "cell_type": "code",
   "execution_count": 35,
   "metadata": {},
   "outputs": [
    {
     "data": {
      "text/plain": [
       "0.8453135536075522"
      ]
     },
     "execution_count": 35,
     "metadata": {},
     "output_type": "execute_result"
    }
   ],
   "source": [
    "#Training Score\n",
    "ada.score(X_train, y_train)"
   ]
  },
  {
   "cell_type": "code",
   "execution_count": 36,
   "metadata": {
    "scrolled": true
   },
   "outputs": [
    {
     "data": {
      "text/plain": [
       "0.8474919093851133"
      ]
     },
     "execution_count": 36,
     "metadata": {},
     "output_type": "execute_result"
    }
   ],
   "source": [
    "#Testing Score\n",
    "ada.score(X_test, y_test)"
   ]
  },
  {
   "cell_type": "markdown",
   "metadata": {},
   "source": [
    "## Random Forest Classifier"
   ]
  },
  {
   "cell_type": "code",
   "execution_count": 37,
   "metadata": {},
   "outputs": [
    {
     "name": "stderr",
     "output_type": "stream",
     "text": [
      "/Users/davidtrichter/anaconda3/envs/dsi/lib/python3.7/site-packages/sklearn/ensemble/forest.py:245: FutureWarning: The default value of n_estimators will change from 10 in version 0.20 to 100 in 0.22.\n",
      "  \"10 in version 0.20 to 100 in 0.22.\", FutureWarning)\n"
     ]
    },
    {
     "data": {
      "text/plain": [
       "RandomForestClassifier(bootstrap=True, class_weight=None, criterion='gini',\n",
       "                       max_depth=None, max_features='auto', max_leaf_nodes=1100,\n",
       "                       min_impurity_decrease=0.0, min_impurity_split=None,\n",
       "                       min_samples_leaf=1, min_samples_split=2,\n",
       "                       min_weight_fraction_leaf=0.0, n_estimators=10,\n",
       "                       n_jobs=None, oob_score=False, random_state=42, verbose=0,\n",
       "                       warm_start=False)"
      ]
     },
     "execution_count": 37,
     "metadata": {},
     "output_type": "execute_result"
    }
   ],
   "source": [
    "#Instantiate and Fit Random Forest Classifier\n",
    "rfc = RandomForestClassifier(random_state=42, max_leaf_nodes=1100)\n",
    "\n",
    "rfc.fit(X_train, y_train)"
   ]
  },
  {
   "cell_type": "code",
   "execution_count": 38,
   "metadata": {},
   "outputs": [
    {
     "data": {
      "text/plain": [
       "0.996223870532704"
      ]
     },
     "execution_count": 38,
     "metadata": {},
     "output_type": "execute_result"
    }
   ],
   "source": [
    "#Training Score\n",
    "rfc.score(X_train, y_train)"
   ]
  },
  {
   "cell_type": "code",
   "execution_count": 39,
   "metadata": {},
   "outputs": [
    {
     "data": {
      "text/plain": [
       "0.9227346278317152"
      ]
     },
     "execution_count": 39,
     "metadata": {},
     "output_type": "execute_result"
    }
   ],
   "source": [
    "#Testing Score\n",
    "rfc.score(X_test, y_test)"
   ]
  },
  {
   "cell_type": "markdown",
   "metadata": {},
   "source": [
    "### Feature Importance"
   ]
  },
  {
   "cell_type": "code",
   "execution_count": 42,
   "metadata": {},
   "outputs": [],
   "source": [
    "#Build new DataFrame for the feature importances with 'df_boot' columns\n",
    "\n",
    "df_features = pd.DataFrame({'variable':df_boot.drop('wage', axis = 1).columns,\n",
    "                   'importance': rfc.feature_importances_,\n",
    "                  })"
   ]
  },
  {
   "cell_type": "code",
   "execution_count": 43,
   "metadata": {},
   "outputs": [
    {
     "data": {
      "text/html": [
       "<div>\n",
       "<style scoped>\n",
       "    .dataframe tbody tr th:only-of-type {\n",
       "        vertical-align: middle;\n",
       "    }\n",
       "\n",
       "    .dataframe tbody tr th {\n",
       "        vertical-align: top;\n",
       "    }\n",
       "\n",
       "    .dataframe thead th {\n",
       "        text-align: right;\n",
       "    }\n",
       "</style>\n",
       "<table border=\"1\" class=\"dataframe\">\n",
       "  <thead>\n",
       "    <tr style=\"text-align: right;\">\n",
       "      <th></th>\n",
       "      <th>variable</th>\n",
       "      <th>importance</th>\n",
       "    </tr>\n",
       "  </thead>\n",
       "  <tbody>\n",
       "    <tr>\n",
       "      <th>45</th>\n",
       "      <td>mar_fnlwgt</td>\n",
       "      <td>1.347725e-01</td>\n",
       "    </tr>\n",
       "    <tr>\n",
       "      <th>17</th>\n",
       "      <td>marital-status_ Married-civ-spouse</td>\n",
       "      <td>1.159322e-01</td>\n",
       "    </tr>\n",
       "    <tr>\n",
       "      <th>0</th>\n",
       "      <td>age</td>\n",
       "      <td>1.113279e-01</td>\n",
       "    </tr>\n",
       "    <tr>\n",
       "      <th>1</th>\n",
       "      <td>fnlwgt</td>\n",
       "      <td>9.112277e-02</td>\n",
       "    </tr>\n",
       "    <tr>\n",
       "      <th>6</th>\n",
       "      <td>hours-per-week</td>\n",
       "      <td>6.870320e-02</td>\n",
       "    </tr>\n",
       "    <tr>\n",
       "      <th>3</th>\n",
       "      <td>education-num</td>\n",
       "      <td>6.760050e-02</td>\n",
       "    </tr>\n",
       "    <tr>\n",
       "      <th>4</th>\n",
       "      <td>capital-gain</td>\n",
       "      <td>6.466638e-02</td>\n",
       "    </tr>\n",
       "    <tr>\n",
       "      <th>44</th>\n",
       "      <td>age_ed</td>\n",
       "      <td>5.310314e-02</td>\n",
       "    </tr>\n",
       "    <tr>\n",
       "      <th>42</th>\n",
       "      <td>ed_mar</td>\n",
       "      <td>3.870843e-02</td>\n",
       "    </tr>\n",
       "    <tr>\n",
       "      <th>2</th>\n",
       "      <td>education</td>\n",
       "      <td>3.127237e-02</td>\n",
       "    </tr>\n",
       "    <tr>\n",
       "      <th>19</th>\n",
       "      <td>marital-status_ Never-married</td>\n",
       "      <td>2.696734e-02</td>\n",
       "    </tr>\n",
       "    <tr>\n",
       "      <th>25</th>\n",
       "      <td>occupation_ Exec-managerial</td>\n",
       "      <td>2.061425e-02</td>\n",
       "    </tr>\n",
       "    <tr>\n",
       "      <th>5</th>\n",
       "      <td>capital-loss</td>\n",
       "      <td>1.846157e-02</td>\n",
       "    </tr>\n",
       "    <tr>\n",
       "      <th>41</th>\n",
       "      <td>sex_ Male</td>\n",
       "      <td>1.736058e-02</td>\n",
       "    </tr>\n",
       "    <tr>\n",
       "      <th>11</th>\n",
       "      <td>workclass_ Private</td>\n",
       "      <td>1.073038e-02</td>\n",
       "    </tr>\n",
       "    <tr>\n",
       "      <th>24</th>\n",
       "      <td>occupation_ Craft-repair</td>\n",
       "      <td>8.912281e-03</td>\n",
       "    </tr>\n",
       "    <tr>\n",
       "      <th>31</th>\n",
       "      <td>occupation_ Prof-specialty</td>\n",
       "      <td>8.804542e-03</td>\n",
       "    </tr>\n",
       "    <tr>\n",
       "      <th>13</th>\n",
       "      <td>workclass_ Self-emp-not-inc</td>\n",
       "      <td>7.999886e-03</td>\n",
       "    </tr>\n",
       "    <tr>\n",
       "      <th>36</th>\n",
       "      <td>relationship_ Not-in-family</td>\n",
       "      <td>7.649398e-03</td>\n",
       "    </tr>\n",
       "    <tr>\n",
       "      <th>40</th>\n",
       "      <td>relationship_ Wife</td>\n",
       "      <td>7.474413e-03</td>\n",
       "    </tr>\n",
       "    <tr>\n",
       "      <th>33</th>\n",
       "      <td>occupation_ Sales</td>\n",
       "      <td>6.993097e-03</td>\n",
       "    </tr>\n",
       "    <tr>\n",
       "      <th>29</th>\n",
       "      <td>occupation_ Other-service</td>\n",
       "      <td>6.982174e-03</td>\n",
       "    </tr>\n",
       "    <tr>\n",
       "      <th>9</th>\n",
       "      <td>workclass_ Local-gov</td>\n",
       "      <td>6.757335e-03</td>\n",
       "    </tr>\n",
       "    <tr>\n",
       "      <th>22</th>\n",
       "      <td>occupation_ Adm-clerical</td>\n",
       "      <td>6.225477e-03</td>\n",
       "    </tr>\n",
       "    <tr>\n",
       "      <th>12</th>\n",
       "      <td>workclass_ Self-emp-inc</td>\n",
       "      <td>5.722884e-03</td>\n",
       "    </tr>\n",
       "    <tr>\n",
       "      <th>35</th>\n",
       "      <td>occupation_ Transport-moving</td>\n",
       "      <td>5.614891e-03</td>\n",
       "    </tr>\n",
       "    <tr>\n",
       "      <th>8</th>\n",
       "      <td>workclass_ Federal-gov</td>\n",
       "      <td>5.169531e-03</td>\n",
       "    </tr>\n",
       "    <tr>\n",
       "      <th>26</th>\n",
       "      <td>occupation_ Farming-fishing</td>\n",
       "      <td>5.059752e-03</td>\n",
       "    </tr>\n",
       "    <tr>\n",
       "      <th>14</th>\n",
       "      <td>workclass_ State-gov</td>\n",
       "      <td>5.051378e-03</td>\n",
       "    </tr>\n",
       "    <tr>\n",
       "      <th>28</th>\n",
       "      <td>occupation_ Machine-op-inspct</td>\n",
       "      <td>4.478303e-03</td>\n",
       "    </tr>\n",
       "    <tr>\n",
       "      <th>27</th>\n",
       "      <td>occupation_ Handlers-cleaners</td>\n",
       "      <td>4.061798e-03</td>\n",
       "    </tr>\n",
       "    <tr>\n",
       "      <th>38</th>\n",
       "      <td>relationship_ Own-child</td>\n",
       "      <td>3.936168e-03</td>\n",
       "    </tr>\n",
       "    <tr>\n",
       "      <th>43</th>\n",
       "      <td>ed_mar2</td>\n",
       "      <td>3.919758e-03</td>\n",
       "    </tr>\n",
       "    <tr>\n",
       "      <th>32</th>\n",
       "      <td>occupation_ Protective-serv</td>\n",
       "      <td>3.900358e-03</td>\n",
       "    </tr>\n",
       "    <tr>\n",
       "      <th>34</th>\n",
       "      <td>occupation_ Tech-support</td>\n",
       "      <td>3.536793e-03</td>\n",
       "    </tr>\n",
       "    <tr>\n",
       "      <th>39</th>\n",
       "      <td>relationship_ Unmarried</td>\n",
       "      <td>3.312466e-03</td>\n",
       "    </tr>\n",
       "    <tr>\n",
       "      <th>21</th>\n",
       "      <td>marital-status_ Widowed</td>\n",
       "      <td>2.124321e-03</td>\n",
       "    </tr>\n",
       "    <tr>\n",
       "      <th>20</th>\n",
       "      <td>marital-status_ Separated</td>\n",
       "      <td>1.953880e-03</td>\n",
       "    </tr>\n",
       "    <tr>\n",
       "      <th>37</th>\n",
       "      <td>relationship_ Other-relative</td>\n",
       "      <td>1.233951e-03</td>\n",
       "    </tr>\n",
       "    <tr>\n",
       "      <th>16</th>\n",
       "      <td>marital-status_ Married-AF-spouse</td>\n",
       "      <td>7.447269e-04</td>\n",
       "    </tr>\n",
       "    <tr>\n",
       "      <th>18</th>\n",
       "      <td>marital-status_ Married-spouse-absent</td>\n",
       "      <td>6.989523e-04</td>\n",
       "    </tr>\n",
       "    <tr>\n",
       "      <th>30</th>\n",
       "      <td>occupation_ Priv-house-serv</td>\n",
       "      <td>3.378553e-04</td>\n",
       "    </tr>\n",
       "    <tr>\n",
       "      <th>15</th>\n",
       "      <td>workclass_ Without-pay</td>\n",
       "      <td>1.326840e-07</td>\n",
       "    </tr>\n",
       "    <tr>\n",
       "      <th>10</th>\n",
       "      <td>workclass_ Never-worked</td>\n",
       "      <td>0.000000e+00</td>\n",
       "    </tr>\n",
       "    <tr>\n",
       "      <th>7</th>\n",
       "      <td>native-country</td>\n",
       "      <td>0.000000e+00</td>\n",
       "    </tr>\n",
       "    <tr>\n",
       "      <th>23</th>\n",
       "      <td>occupation_ Armed-Forces</td>\n",
       "      <td>0.000000e+00</td>\n",
       "    </tr>\n",
       "  </tbody>\n",
       "</table>\n",
       "</div>"
      ],
      "text/plain": [
       "                                 variable    importance\n",
       "45                             mar_fnlwgt  1.347725e-01\n",
       "17     marital-status_ Married-civ-spouse  1.159322e-01\n",
       "0                                     age  1.113279e-01\n",
       "1                                  fnlwgt  9.112277e-02\n",
       "6                          hours-per-week  6.870320e-02\n",
       "3                           education-num  6.760050e-02\n",
       "4                            capital-gain  6.466638e-02\n",
       "44                                 age_ed  5.310314e-02\n",
       "42                                 ed_mar  3.870843e-02\n",
       "2                               education  3.127237e-02\n",
       "19          marital-status_ Never-married  2.696734e-02\n",
       "25            occupation_ Exec-managerial  2.061425e-02\n",
       "5                            capital-loss  1.846157e-02\n",
       "41                              sex_ Male  1.736058e-02\n",
       "11                     workclass_ Private  1.073038e-02\n",
       "24               occupation_ Craft-repair  8.912281e-03\n",
       "31             occupation_ Prof-specialty  8.804542e-03\n",
       "13            workclass_ Self-emp-not-inc  7.999886e-03\n",
       "36            relationship_ Not-in-family  7.649398e-03\n",
       "40                     relationship_ Wife  7.474413e-03\n",
       "33                      occupation_ Sales  6.993097e-03\n",
       "29              occupation_ Other-service  6.982174e-03\n",
       "9                    workclass_ Local-gov  6.757335e-03\n",
       "22               occupation_ Adm-clerical  6.225477e-03\n",
       "12                workclass_ Self-emp-inc  5.722884e-03\n",
       "35           occupation_ Transport-moving  5.614891e-03\n",
       "8                  workclass_ Federal-gov  5.169531e-03\n",
       "26            occupation_ Farming-fishing  5.059752e-03\n",
       "14                   workclass_ State-gov  5.051378e-03\n",
       "28          occupation_ Machine-op-inspct  4.478303e-03\n",
       "27          occupation_ Handlers-cleaners  4.061798e-03\n",
       "38                relationship_ Own-child  3.936168e-03\n",
       "43                                ed_mar2  3.919758e-03\n",
       "32            occupation_ Protective-serv  3.900358e-03\n",
       "34               occupation_ Tech-support  3.536793e-03\n",
       "39                relationship_ Unmarried  3.312466e-03\n",
       "21                marital-status_ Widowed  2.124321e-03\n",
       "20              marital-status_ Separated  1.953880e-03\n",
       "37           relationship_ Other-relative  1.233951e-03\n",
       "16      marital-status_ Married-AF-spouse  7.447269e-04\n",
       "18  marital-status_ Married-spouse-absent  6.989523e-04\n",
       "30            occupation_ Priv-house-serv  3.378553e-04\n",
       "15                 workclass_ Without-pay  1.326840e-07\n",
       "10                workclass_ Never-worked  0.000000e+00\n",
       "7                          native-country  0.000000e+00\n",
       "23               occupation_ Armed-Forces  0.000000e+00"
      ]
     },
     "execution_count": 43,
     "metadata": {},
     "output_type": "execute_result"
    }
   ],
   "source": [
    "#Sort and Check feature Importance from Random Forest Model\n",
    "\n",
    "df_features.sort_values('importance', ascending = False)"
   ]
  },
  {
   "cell_type": "markdown",
   "metadata": {},
   "source": [
    "### For Project"
   ]
  },
  {
   "cell_type": "code",
   "execution_count": 44,
   "metadata": {},
   "outputs": [],
   "source": [
    "#Prepare data for submission with predicted probabilities from the Random Forest Model\n",
    "\n",
    "probs = rfc.predict_proba(outside_X_scaled)\n",
    "probs_df = pd.DataFrame(probs)\n",
    "\n",
    "probs_df.drop(0, axis = 1, inplace = True)\n",
    "\n",
    "probs_df.rename(mapper = {1: 'wage'}, axis = 1, inplace = True)"
   ]
  },
  {
   "cell_type": "code",
   "execution_count": 45,
   "metadata": {},
   "outputs": [
    {
     "data": {
      "text/html": [
       "<div>\n",
       "<style scoped>\n",
       "    .dataframe tbody tr th:only-of-type {\n",
       "        vertical-align: middle;\n",
       "    }\n",
       "\n",
       "    .dataframe tbody tr th {\n",
       "        vertical-align: top;\n",
       "    }\n",
       "\n",
       "    .dataframe thead th {\n",
       "        text-align: right;\n",
       "    }\n",
       "</style>\n",
       "<table border=\"1\" class=\"dataframe\">\n",
       "  <thead>\n",
       "    <tr style=\"text-align: right;\">\n",
       "      <th></th>\n",
       "      <th>wage</th>\n",
       "    </tr>\n",
       "  </thead>\n",
       "  <tbody>\n",
       "    <tr>\n",
       "      <th>0</th>\n",
       "      <td>0.0</td>\n",
       "    </tr>\n",
       "    <tr>\n",
       "      <th>1</th>\n",
       "      <td>0.1</td>\n",
       "    </tr>\n",
       "    <tr>\n",
       "      <th>2</th>\n",
       "      <td>0.4</td>\n",
       "    </tr>\n",
       "    <tr>\n",
       "      <th>3</th>\n",
       "      <td>0.9</td>\n",
       "    </tr>\n",
       "    <tr>\n",
       "      <th>4</th>\n",
       "      <td>0.0</td>\n",
       "    </tr>\n",
       "    <tr>\n",
       "      <th>5</th>\n",
       "      <td>0.0</td>\n",
       "    </tr>\n",
       "    <tr>\n",
       "      <th>6</th>\n",
       "      <td>0.0</td>\n",
       "    </tr>\n",
       "    <tr>\n",
       "      <th>7</th>\n",
       "      <td>0.8</td>\n",
       "    </tr>\n",
       "    <tr>\n",
       "      <th>8</th>\n",
       "      <td>0.0</td>\n",
       "    </tr>\n",
       "    <tr>\n",
       "      <th>9</th>\n",
       "      <td>0.0</td>\n",
       "    </tr>\n",
       "    <tr>\n",
       "      <th>10</th>\n",
       "      <td>0.9</td>\n",
       "    </tr>\n",
       "    <tr>\n",
       "      <th>11</th>\n",
       "      <td>0.6</td>\n",
       "    </tr>\n",
       "    <tr>\n",
       "      <th>12</th>\n",
       "      <td>0.0</td>\n",
       "    </tr>\n",
       "    <tr>\n",
       "      <th>13</th>\n",
       "      <td>0.2</td>\n",
       "    </tr>\n",
       "    <tr>\n",
       "      <th>14</th>\n",
       "      <td>0.5</td>\n",
       "    </tr>\n",
       "    <tr>\n",
       "      <th>15</th>\n",
       "      <td>1.0</td>\n",
       "    </tr>\n",
       "    <tr>\n",
       "      <th>16</th>\n",
       "      <td>0.0</td>\n",
       "    </tr>\n",
       "    <tr>\n",
       "      <th>17</th>\n",
       "      <td>0.6</td>\n",
       "    </tr>\n",
       "    <tr>\n",
       "      <th>18</th>\n",
       "      <td>0.0</td>\n",
       "    </tr>\n",
       "    <tr>\n",
       "      <th>19</th>\n",
       "      <td>1.0</td>\n",
       "    </tr>\n",
       "    <tr>\n",
       "      <th>20</th>\n",
       "      <td>1.0</td>\n",
       "    </tr>\n",
       "    <tr>\n",
       "      <th>21</th>\n",
       "      <td>0.0</td>\n",
       "    </tr>\n",
       "    <tr>\n",
       "      <th>22</th>\n",
       "      <td>0.0</td>\n",
       "    </tr>\n",
       "    <tr>\n",
       "      <th>23</th>\n",
       "      <td>0.0</td>\n",
       "    </tr>\n",
       "    <tr>\n",
       "      <th>24</th>\n",
       "      <td>0.6</td>\n",
       "    </tr>\n",
       "    <tr>\n",
       "      <th>25</th>\n",
       "      <td>0.9</td>\n",
       "    </tr>\n",
       "    <tr>\n",
       "      <th>26</th>\n",
       "      <td>0.0</td>\n",
       "    </tr>\n",
       "    <tr>\n",
       "      <th>27</th>\n",
       "      <td>0.0</td>\n",
       "    </tr>\n",
       "    <tr>\n",
       "      <th>28</th>\n",
       "      <td>0.2</td>\n",
       "    </tr>\n",
       "    <tr>\n",
       "      <th>29</th>\n",
       "      <td>0.0</td>\n",
       "    </tr>\n",
       "    <tr>\n",
       "      <th>30</th>\n",
       "      <td>0.7</td>\n",
       "    </tr>\n",
       "    <tr>\n",
       "      <th>31</th>\n",
       "      <td>0.1</td>\n",
       "    </tr>\n",
       "    <tr>\n",
       "      <th>32</th>\n",
       "      <td>0.1</td>\n",
       "    </tr>\n",
       "    <tr>\n",
       "      <th>33</th>\n",
       "      <td>0.7</td>\n",
       "    </tr>\n",
       "    <tr>\n",
       "      <th>34</th>\n",
       "      <td>0.1</td>\n",
       "    </tr>\n",
       "    <tr>\n",
       "      <th>35</th>\n",
       "      <td>0.5</td>\n",
       "    </tr>\n",
       "    <tr>\n",
       "      <th>36</th>\n",
       "      <td>0.8</td>\n",
       "    </tr>\n",
       "    <tr>\n",
       "      <th>37</th>\n",
       "      <td>0.0</td>\n",
       "    </tr>\n",
       "    <tr>\n",
       "      <th>38</th>\n",
       "      <td>0.0</td>\n",
       "    </tr>\n",
       "    <tr>\n",
       "      <th>39</th>\n",
       "      <td>0.0</td>\n",
       "    </tr>\n",
       "    <tr>\n",
       "      <th>40</th>\n",
       "      <td>0.9</td>\n",
       "    </tr>\n",
       "    <tr>\n",
       "      <th>41</th>\n",
       "      <td>1.0</td>\n",
       "    </tr>\n",
       "    <tr>\n",
       "      <th>42</th>\n",
       "      <td>0.1</td>\n",
       "    </tr>\n",
       "    <tr>\n",
       "      <th>43</th>\n",
       "      <td>0.0</td>\n",
       "    </tr>\n",
       "    <tr>\n",
       "      <th>44</th>\n",
       "      <td>0.0</td>\n",
       "    </tr>\n",
       "    <tr>\n",
       "      <th>45</th>\n",
       "      <td>0.4</td>\n",
       "    </tr>\n",
       "    <tr>\n",
       "      <th>46</th>\n",
       "      <td>0.1</td>\n",
       "    </tr>\n",
       "    <tr>\n",
       "      <th>47</th>\n",
       "      <td>0.3</td>\n",
       "    </tr>\n",
       "    <tr>\n",
       "      <th>48</th>\n",
       "      <td>0.0</td>\n",
       "    </tr>\n",
       "    <tr>\n",
       "      <th>49</th>\n",
       "      <td>0.3</td>\n",
       "    </tr>\n",
       "  </tbody>\n",
       "</table>\n",
       "</div>"
      ],
      "text/plain": [
       "    wage\n",
       "0    0.0\n",
       "1    0.1\n",
       "2    0.4\n",
       "3    0.9\n",
       "4    0.0\n",
       "5    0.0\n",
       "6    0.0\n",
       "7    0.8\n",
       "8    0.0\n",
       "9    0.0\n",
       "10   0.9\n",
       "11   0.6\n",
       "12   0.0\n",
       "13   0.2\n",
       "14   0.5\n",
       "15   1.0\n",
       "16   0.0\n",
       "17   0.6\n",
       "18   0.0\n",
       "19   1.0\n",
       "20   1.0\n",
       "21   0.0\n",
       "22   0.0\n",
       "23   0.0\n",
       "24   0.6\n",
       "25   0.9\n",
       "26   0.0\n",
       "27   0.0\n",
       "28   0.2\n",
       "29   0.0\n",
       "30   0.7\n",
       "31   0.1\n",
       "32   0.1\n",
       "33   0.7\n",
       "34   0.1\n",
       "35   0.5\n",
       "36   0.8\n",
       "37   0.0\n",
       "38   0.0\n",
       "39   0.0\n",
       "40   0.9\n",
       "41   1.0\n",
       "42   0.1\n",
       "43   0.0\n",
       "44   0.0\n",
       "45   0.4\n",
       "46   0.1\n",
       "47   0.3\n",
       "48   0.0\n",
       "49   0.3"
      ]
     },
     "execution_count": 45,
     "metadata": {},
     "output_type": "execute_result"
    }
   ],
   "source": [
    "probs_df.head(50)"
   ]
  },
  {
   "cell_type": "code",
   "execution_count": 46,
   "metadata": {},
   "outputs": [],
   "source": [
    "#Save .csv for Hackathon\n",
    "\n",
    "probs_df.to_csv('dreamteam_forHackathon.csv')"
   ]
<<<<<<< HEAD
  },
  {
   "cell_type": "code",
   "execution_count": null,
   "metadata": {},
   "outputs": [],
>>>>>>> 81d74b2659e16c9aaf6a63e34c5de583feecd6b3
   "source": []
=======
>>>>>>> 9ec66d979410472e90eafaefb960254af9fe9ae5
  }
 ],
 "metadata": {
  "kernelspec": {
   "display_name": "Python 3",
   "language": "python",
   "name": "python3"
  },
  "language_info": {
   "codemirror_mode": {
    "name": "ipython",
    "version": 3
   },
   "file_extension": ".py",
   "mimetype": "text/x-python",
   "name": "python",
   "nbconvert_exporter": "python",
   "pygments_lexer": "ipython3",
   "version": "3.7.3"
  }
 },
 "nbformat": 4,
 "nbformat_minor": 2
}
