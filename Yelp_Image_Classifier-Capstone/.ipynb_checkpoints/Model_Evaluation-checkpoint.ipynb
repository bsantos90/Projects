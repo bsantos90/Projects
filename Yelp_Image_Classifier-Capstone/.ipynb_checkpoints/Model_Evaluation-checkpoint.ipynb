{
 "cells": [
  {
   "cell_type": "markdown",
   "metadata": {},
   "source": [
    "# In this notebook, we will be loading all of our previously fitted and saved models and evaluating on the same set of testing data."
   ]
  },
  {
   "cell_type": "code",
   "execution_count": 1,
   "metadata": {},
   "outputs": [
    {
     "name": "stderr",
     "output_type": "stream",
     "text": [
      "Using TensorFlow backend.\n"
     ]
    }
   ],
   "source": [
    "# Imports\n",
    "\n",
    "import os\n",
    "import pandas as pd\n",
    "import numpy as np\n",
    "import keras\n",
    "import h5py\n",
    "import pickle\n",
    "\n",
    "from keras.models import Sequential\n",
    "from keras.layers import Dense, Dropout, Activation, Flatten\n",
    "from keras.layers import Conv2D, MaxPooling2D\n",
    "from keras.utils import np_utils\n",
    "from keras.preprocessing.image import ImageDataGenerator\n",
    "from keras.callbacks import EarlyStopping\n",
    "\n",
    "from sklearn.model_selection import train_test_split\n",
    "from sklearn.metrics import classification_report, confusion_matrix\n",
    "\n",
    "# Random seed for reproducibility\n",
    "np.random.seed(42)"
   ]
  },
  {
   "cell_type": "code",
   "execution_count": 2,
   "metadata": {},
   "outputs": [
    {
     "data": {
      "text/html": [
       "<div>\n",
       "<style scoped>\n",
       "    .dataframe tbody tr th:only-of-type {\n",
       "        vertical-align: middle;\n",
       "    }\n",
       "\n",
       "    .dataframe tbody tr th {\n",
       "        vertical-align: top;\n",
       "    }\n",
       "\n",
       "    .dataframe thead th {\n",
       "        text-align: right;\n",
       "    }\n",
       "</style>\n",
       "<table border=\"1\" class=\"dataframe\">\n",
       "  <thead>\n",
       "    <tr style=\"text-align: right;\">\n",
       "      <th></th>\n",
       "      <th>photo_id</th>\n",
       "      <th>label</th>\n",
       "    </tr>\n",
       "  </thead>\n",
       "  <tbody>\n",
       "    <tr>\n",
       "      <th>0</th>\n",
       "      <td>--3uF9gf2WttniseRLlI6g.jpg</td>\n",
       "      <td>1</td>\n",
       "    </tr>\n",
       "    <tr>\n",
       "      <th>1</th>\n",
       "      <td>--4v2HCSXi092RwfidxlMg.jpg</td>\n",
       "      <td>0</td>\n",
       "    </tr>\n",
       "    <tr>\n",
       "      <th>2</th>\n",
       "      <td>--5FyXiUudlvrJyUCvpZJA.jpg</td>\n",
       "      <td>0</td>\n",
       "    </tr>\n",
       "    <tr>\n",
       "      <th>3</th>\n",
       "      <td>--6kOAkha3ULjhhw32KN1w.jpg</td>\n",
       "      <td>2</td>\n",
       "    </tr>\n",
       "    <tr>\n",
       "      <th>4</th>\n",
       "      <td>--8aLa0rf2gfOjA6kCC3WQ.jpg</td>\n",
       "      <td>1</td>\n",
       "    </tr>\n",
       "  </tbody>\n",
       "</table>\n",
       "</div>"
      ],
      "text/plain": [
       "                     photo_id label\n",
       "0  --3uF9gf2WttniseRLlI6g.jpg     1\n",
       "1  --4v2HCSXi092RwfidxlMg.jpg     0\n",
       "2  --5FyXiUudlvrJyUCvpZJA.jpg     0\n",
       "3  --6kOAkha3ULjhhw32KN1w.jpg     2\n",
       "4  --8aLa0rf2gfOjA6kCC3WQ.jpg     1"
      ]
     },
     "execution_count": 2,
     "metadata": {},
     "output_type": "execute_result"
    }
   ],
   "source": [
    "photos = pd.read_csv('../../../data/yelp/photos_with_labels.csv')\n",
    "photos['label'] = photos['label'].astype(str)\n",
    "photos.head()"
   ]
  },
  {
   "cell_type": "code",
   "execution_count": 3,
   "metadata": {},
   "outputs": [
    {
     "data": {
      "text/plain": [
       "photo_id    object\n",
       "label       object\n",
       "dtype: object"
      ]
     },
     "execution_count": 3,
     "metadata": {},
     "output_type": "execute_result"
    }
   ],
   "source": [
    "photos.dtypes"
   ]
  },
  {
   "cell_type": "code",
   "execution_count": 4,
   "metadata": {},
   "outputs": [
    {
     "name": "stdout",
     "output_type": "stream",
     "text": [
      "200000\n"
     ]
    }
   ],
   "source": [
    "main_dir = '../../../data/yelp/photos/'\n",
    "images = os.listdir(main_dir)\n",
    "print(len(images))"
   ]
  },
  {
   "cell_type": "code",
   "execution_count": 5,
   "metadata": {},
   "outputs": [],
   "source": [
    "# Split the data into training and testing sets\n",
    "# 10,000 testing images\n",
    "\n",
    "train, test = train_test_split(photos, test_size = 0.05, random_state = 42, stratify = photos['label'])"
   ]
  },
  {
   "cell_type": "code",
   "execution_count": 6,
   "metadata": {},
   "outputs": [
    {
     "data": {
      "text/html": [
       "<div>\n",
       "<style scoped>\n",
       "    .dataframe tbody tr th:only-of-type {\n",
       "        vertical-align: middle;\n",
       "    }\n",
       "\n",
       "    .dataframe tbody tr th {\n",
       "        vertical-align: top;\n",
       "    }\n",
       "\n",
       "    .dataframe thead th {\n",
       "        text-align: right;\n",
       "    }\n",
       "</style>\n",
       "<table border=\"1\" class=\"dataframe\">\n",
       "  <thead>\n",
       "    <tr style=\"text-align: right;\">\n",
       "      <th></th>\n",
       "      <th>photo_id</th>\n",
       "      <th>label</th>\n",
       "    </tr>\n",
       "  </thead>\n",
       "  <tbody>\n",
       "    <tr>\n",
       "      <th>11685</th>\n",
       "      <td>2kLHHZhvzRBcCkqrD8BvXQ.jpg</td>\n",
       "      <td>1</td>\n",
       "    </tr>\n",
       "    <tr>\n",
       "      <th>13882</th>\n",
       "      <td>3SYgJ2ttrvrkkZQVwBB9ZA.jpg</td>\n",
       "      <td>1</td>\n",
       "    </tr>\n",
       "    <tr>\n",
       "      <th>43353</th>\n",
       "      <td>Cv1ONeniReCw_1qi2cljtA.jpg</td>\n",
       "      <td>0</td>\n",
       "    </tr>\n",
       "    <tr>\n",
       "      <th>4756</th>\n",
       "      <td>0XjhceFCeCqM08OUm6Oniw.jpg</td>\n",
       "      <td>2</td>\n",
       "    </tr>\n",
       "    <tr>\n",
       "      <th>172017</th>\n",
       "      <td>r0cvTXkUdTk5AZ8fgvv6Cw.jpg</td>\n",
       "      <td>0</td>\n",
       "    </tr>\n",
       "  </tbody>\n",
       "</table>\n",
       "</div>"
      ],
      "text/plain": [
       "                          photo_id label\n",
       "11685   2kLHHZhvzRBcCkqrD8BvXQ.jpg     1\n",
       "13882   3SYgJ2ttrvrkkZQVwBB9ZA.jpg     1\n",
       "43353   Cv1ONeniReCw_1qi2cljtA.jpg     0\n",
       "4756    0XjhceFCeCqM08OUm6Oniw.jpg     2\n",
       "172017  r0cvTXkUdTk5AZ8fgvv6Cw.jpg     0"
      ]
     },
     "execution_count": 6,
     "metadata": {},
     "output_type": "execute_result"
    }
   ],
   "source": [
    "train.head()"
   ]
  },
  {
   "cell_type": "code",
   "execution_count": 7,
   "metadata": {},
   "outputs": [
    {
     "data": {
      "text/html": [
       "<div>\n",
       "<style scoped>\n",
       "    .dataframe tbody tr th:only-of-type {\n",
       "        vertical-align: middle;\n",
       "    }\n",
       "\n",
       "    .dataframe tbody tr th {\n",
       "        vertical-align: top;\n",
       "    }\n",
       "\n",
       "    .dataframe thead th {\n",
       "        text-align: right;\n",
       "    }\n",
       "</style>\n",
       "<table border=\"1\" class=\"dataframe\">\n",
       "  <thead>\n",
       "    <tr style=\"text-align: right;\">\n",
       "      <th></th>\n",
       "      <th>photo_id</th>\n",
       "      <th>label</th>\n",
       "    </tr>\n",
       "  </thead>\n",
       "  <tbody>\n",
       "    <tr>\n",
       "      <th>44587</th>\n",
       "      <td>DJfdb5ollatiIBcXhb_mVw.jpg</td>\n",
       "      <td>0</td>\n",
       "    </tr>\n",
       "    <tr>\n",
       "      <th>37985</th>\n",
       "      <td>BDk3HPd4srLRB34I6m794g.jpg</td>\n",
       "      <td>0</td>\n",
       "    </tr>\n",
       "    <tr>\n",
       "      <th>152320</th>\n",
       "      <td>kizRI9rvstjGs_6lyddxNA.jpg</td>\n",
       "      <td>3</td>\n",
       "    </tr>\n",
       "    <tr>\n",
       "      <th>4733</th>\n",
       "      <td>0X45rZJBrarNJnOk4sphqA.jpg</td>\n",
       "      <td>0</td>\n",
       "    </tr>\n",
       "    <tr>\n",
       "      <th>13497</th>\n",
       "      <td>3KUcJRrR_WYG7eAFZWGz0w.jpg</td>\n",
       "      <td>1</td>\n",
       "    </tr>\n",
       "  </tbody>\n",
       "</table>\n",
       "</div>"
      ],
      "text/plain": [
       "                          photo_id label\n",
       "44587   DJfdb5ollatiIBcXhb_mVw.jpg     0\n",
       "37985   BDk3HPd4srLRB34I6m794g.jpg     0\n",
       "152320  kizRI9rvstjGs_6lyddxNA.jpg     3\n",
       "4733    0X45rZJBrarNJnOk4sphqA.jpg     0\n",
       "13497   3KUcJRrR_WYG7eAFZWGz0w.jpg     1"
      ]
     },
     "execution_count": 7,
     "metadata": {},
     "output_type": "execute_result"
    }
   ],
   "source": [
    "test.head()"
   ]
  },
  {
   "cell_type": "code",
   "execution_count": 8,
   "metadata": {},
   "outputs": [],
   "source": [
    "# Instantiate an ImageDataGenerator class to pass all of our images through\n",
    "# With rescaling\n",
    "\n",
    "new_datagen=ImageDataGenerator(samplewise_center=True,\n",
    "                               samplewise_std_normalization=True,\n",
    "                               rotation_range=20,\n",
    "                               width_shift_range=0.1,\n",
    "                               height_shift_range=0.1,\n",
    "                               shear_range=16,\n",
    "                               zoom_range=[0.9, 1.1],\n",
    "                               fill_mode=\"constant\",\n",
    "                               cval=255,\n",
    "                               horizontal_flip=True,\n",
    "                               vertical_flip=True,\n",
    "                               rescale=1./255.,\n",
    "                               validation_split=0.25)\n",
    "\n",
    "test_datagen = ImageDataGenerator(samplewise_center=True,\n",
    "                                  samplewise_std_normalization=True,\n",
    "                                  rotation_range=20,\n",
    "                                  width_shift_range=0.1,\n",
    "                                  height_shift_range=0.1,\n",
    "                                  shear_range=16,\n",
    "                                  zoom_range=[0.9, 1.1],\n",
    "                                  fill_mode=\"constant\",\n",
    "                                  cval=255,\n",
    "                                  horizontal_flip=True,\n",
    "                                  vertical_flip=True,\n",
    "                                  rescale=1./255.)"
   ]
  },
  {
   "cell_type": "code",
   "execution_count": 9,
   "metadata": {},
   "outputs": [
    {
     "name": "stdout",
     "output_type": "stream",
     "text": [
      "Found 142500 validated image filenames belonging to 5 classes.\n",
      "Found 47500 validated image filenames belonging to 5 classes.\n",
      "Found 10000 validated image filenames belonging to 5 classes.\n"
     ]
    }
   ],
   "source": [
    "# Create Train, Validation, and Testing generators\n",
    "\n",
    "new_train_generator = new_datagen.flow_from_dataframe(\n",
    "    dataframe=train,\n",
    "    directory=main_dir,\n",
    "    x_col=\"photo_id\",\n",
    "    y_col=\"label\",\n",
    "    subset=\"training\",\n",
    "    batch_size=250,\n",
    "    seed=42,\n",
    "    shuffle=True,\n",
    "    class_mode=\"categorical\",\n",
    "    interpolation=\"bilinear\",\n",
    "    target_size=(256, 256)\n",
    ")\n",
    "\n",
    "new_valid_generator = new_datagen.flow_from_dataframe(\n",
    "    dataframe=train,\n",
    "    directory=main_dir,\n",
    "    x_col=\"photo_id\",\n",
    "    y_col=\"label\",\n",
    "    subset=\"validation\",\n",
    "    batch_size=250,\n",
    "    seed=42,\n",
    "    shuffle=True,\n",
    "    class_mode=\"categorical\",\n",
    "    interpolation=\"bilinear\",\n",
    "    target_size=(256, 256)\n",
    ")\n",
    "\n",
    "test_generator = test_datagen.flow_from_dataframe(\n",
    "    dataframe=test,\n",
    "    directory=main_dir,\n",
    "    x_col=\"photo_id\",\n",
    "    y_col=\"label\",\n",
    "    batch_size=1,\n",
    "    seed=42,\n",
    "    shuffle=True,\n",
    "    class_mode=\"categorical\",\n",
    "    interpolation=\"bilinear\",\n",
    "    target_size=(256, 256)\n",
    ")"
   ]
  },
  {
   "cell_type": "code",
   "execution_count": 10,
   "metadata": {},
   "outputs": [],
   "source": [
    "# Instantiate an ImageDataGenerator class to pass all of our images through\n",
    "# Without rescaling\n",
    "\n",
    "nors_datagen=ImageDataGenerator(featurewise_center=True,\n",
    "                           featurewise_std_normalization=True,\n",
    "                           rotation_range=20,\n",
    "                           width_shift_range=0.1,\n",
    "                           height_shift_range=0.1,\n",
    "                           shear_range=16,\n",
    "                           zoom_range=[0.9, 1.1],\n",
    "                           fill_mode=\"constant\",\n",
    "                           cval=255,\n",
    "                           horizontal_flip=True,\n",
    "                           vertical_flip=True,\n",
    "                           validation_split=0.25)\n",
    "\n",
    "nors_test_datagen = ImageDataGenerator(samplewise_center=True,\n",
    "                                  samplewise_std_normalization=True,\n",
    "                                  rotation_range=20,\n",
    "                                  width_shift_range=0.1,\n",
    "                                  height_shift_range=0.1,\n",
    "                                  shear_range=16,\n",
    "                                  zoom_range=[0.9, 1.1],\n",
    "                                  fill_mode=\"constant\",\n",
    "                                  cval=255,\n",
    "                                  horizontal_flip=True,\n",
    "                                  vertical_flip=True)"
   ]
  },
  {
   "cell_type": "code",
   "execution_count": 11,
   "metadata": {},
   "outputs": [
    {
     "name": "stdout",
     "output_type": "stream",
     "text": [
      "Found 142500 validated image filenames belonging to 5 classes.\n",
      "Found 47500 validated image filenames belonging to 5 classes.\n",
      "Found 10000 validated image filenames belonging to 5 classes.\n"
     ]
    }
   ],
   "source": [
    "# Create Train, Validation, and Testing generators\n",
    "\n",
    "nors_train_generator = nors_datagen.flow_from_dataframe(\n",
    "                                            dataframe=train,\n",
    "                                            directory=main_dir,\n",
    "                                            x_col=\"photo_id\",\n",
    "                                            y_col=\"label\",\n",
    "                                            subset=\"training\",\n",
    "                                            batch_size=100,\n",
    "                                            seed=42,\n",
    "                                            shuffle=True,\n",
    "                                            class_mode=\"categorical\",\n",
    "                                            interpolation=\"bilinear\",\n",
    "                                            target_size=(256, 256))\n",
    "nors_valid_generator = nors_datagen.flow_from_dataframe(\n",
    "                                            dataframe=train,\n",
    "                                            directory=main_dir,\n",
    "                                            x_col=\"photo_id\",\n",
    "                                            y_col=\"label\",\n",
    "                                            subset=\"validation\",\n",
    "                                            batch_size=100,\n",
    "                                            seed=42,\n",
    "                                            shuffle=True,\n",
    "                                            class_mode=\"categorical\",\n",
    "                                            interpolation=\"bilinear\",\n",
    "                                            target_size=(256, 256))\n",
    "\n",
    "nors_test_generator = nors_test_datagen.flow_from_dataframe(\n",
    "    dataframe=test,\n",
    "    directory=main_dir,\n",
    "    x_col=\"photo_id\",\n",
    "    y_col=\"label\",\n",
    "    batch_size=1,\n",
    "    seed=42,\n",
    "    shuffle=True,\n",
    "    class_mode=\"categorical\",\n",
    "    interpolation=\"bilinear\",\n",
    "    target_size=(256, 256)\n",
    ")"
   ]
  },
  {
   "cell_type": "markdown",
   "metadata": {},
   "source": [
    "## We will seek to see if rescaling images has a significant impact in our predictions."
   ]
  },
  {
   "cell_type": "markdown",
   "metadata": {},
   "source": [
    "### First Model"
   ]
  },
  {
   "cell_type": "code",
   "execution_count": 12,
   "metadata": {},
   "outputs": [
    {
     "name": "stdout",
     "output_type": "stream",
     "text": [
      "WARNING:tensorflow:From C:\\Users\\bruno\\Anaconda3\\lib\\site-packages\\tensorflow\\python\\framework\\op_def_library.py:263: colocate_with (from tensorflow.python.framework.ops) is deprecated and will be removed in a future version.\n",
      "Instructions for updating:\n",
      "Colocations handled automatically by placer.\n",
      "WARNING:tensorflow:From C:\\Users\\bruno\\Anaconda3\\lib\\site-packages\\keras\\backend\\tensorflow_backend.py:3445: calling dropout (from tensorflow.python.ops.nn_ops) with keep_prob is deprecated and will be removed in a future version.\n",
      "Instructions for updating:\n",
      "Please use `rate` instead of `keep_prob`. Rate should be set to `rate = 1 - keep_prob`.\n",
      "WARNING:tensorflow:From C:\\Users\\bruno\\Anaconda3\\lib\\site-packages\\tensorflow\\python\\ops\\math_ops.py:3066: to_int32 (from tensorflow.python.ops.math_ops) is deprecated and will be removed in a future version.\n",
      "Instructions for updating:\n",
      "Use tf.cast instead.\n"
     ]
    }
   ],
   "source": [
    "# Load the pickled model\n",
    "\n",
    "with open('../../../first_model.pkl', 'rb') as f:\n",
    "    model1 = pickle.load(f)"
   ]
  },
  {
   "cell_type": "code",
   "execution_count": 13,
   "metadata": {},
   "outputs": [
    {
     "name": "stdout",
     "output_type": "stream",
     "text": [
      "_________________________________________________________________\n",
      "Layer (type)                 Output Shape              Param #   \n",
      "=================================================================\n",
      "conv2d_1 (Conv2D)            (None, 254, 254, 16)      448       \n",
      "_________________________________________________________________\n",
      "max_pooling2d_1 (MaxPooling2 (None, 127, 127, 16)      0         \n",
      "_________________________________________________________________\n",
      "conv2d_2 (Conv2D)            (None, 125, 125, 64)      9280      \n",
      "_________________________________________________________________\n",
      "max_pooling2d_2 (MaxPooling2 (None, 62, 62, 64)        0         \n",
      "_________________________________________________________________\n",
      "flatten_1 (Flatten)          (None, 246016)            0         \n",
      "_________________________________________________________________\n",
      "dense_1 (Dense)              (None, 64)                15745088  \n",
      "_________________________________________________________________\n",
      "dropout_1 (Dropout)          (None, 64)                0         \n",
      "_________________________________________________________________\n",
      "dense_2 (Dense)              (None, 32)                2080      \n",
      "_________________________________________________________________\n",
      "dropout_2 (Dropout)          (None, 32)                0         \n",
      "_________________________________________________________________\n",
      "dense_3 (Dense)              (None, 5)                 165       \n",
      "=================================================================\n",
      "Total params: 15,757,061\n",
      "Trainable params: 15,757,061\n",
      "Non-trainable params: 0\n",
      "_________________________________________________________________\n"
     ]
    }
   ],
   "source": [
    "# Model summary\n",
    "\n",
    "model1.summary()"
   ]
  },
  {
   "cell_type": "code",
   "execution_count": 14,
   "metadata": {},
   "outputs": [
    {
     "name": "stdout",
     "output_type": "stream",
     "text": [
      "10000/10000 [==============================] - 319s 32ms/step\n"
     ]
    },
    {
     "data": {
      "text/plain": [
       "[1.1065300325712801, 0.6867]"
      ]
     },
     "execution_count": 14,
     "metadata": {},
     "output_type": "execute_result"
    }
   ],
   "source": [
    "model1.evaluate_generator(test_generator, steps = len(test_generator), verbose = 1)"
   ]
  },
  {
   "cell_type": "code",
   "execution_count": 15,
   "metadata": {},
   "outputs": [
    {
     "name": "stdout",
     "output_type": "stream",
     "text": [
      "Confusion Matrix\n",
      "[[4401 1337    6    0    0]\n",
      " [2046  573    3    0    0]\n",
      " [ 698  207    1    0    0]\n",
      " [ 447  127    3    0    0]\n",
      " [ 114   37    0    0    0]]\n",
      "Classification Report\n",
      "              precision    recall  f1-score   support\n",
      "\n",
      "        Food       0.57      0.77      0.65      5744\n",
      "      Inside       0.25      0.22      0.23      2622\n",
      "       Drink       0.08      0.00      0.00       906\n",
      "     Outside       0.00      0.00      0.00       577\n",
      "        Menu       0.00      0.00      0.00       151\n",
      "\n",
      "    accuracy                           0.50     10000\n",
      "   macro avg       0.18      0.20      0.18     10000\n",
      "weighted avg       0.40      0.50      0.44     10000\n",
      "\n"
     ]
    },
    {
     "name": "stderr",
     "output_type": "stream",
     "text": [
      "C:\\Users\\bruno\\Anaconda3\\lib\\site-packages\\sklearn\\metrics\\classification.py:1437: UndefinedMetricWarning: Precision and F-score are ill-defined and being set to 0.0 in labels with no predicted samples.\n",
      "  'precision', 'predicted', average, warn_for)\n"
     ]
    }
   ],
   "source": [
    "# With rescaled images\n",
    "\n",
    "Y_pred = model1.predict_generator(test_generator, len(test_generator))\n",
    "y_pred = np.argmax(Y_pred, axis=1)\n",
    "print('Confusion Matrix')\n",
    "print(confusion_matrix(test_generator.classes, y_pred))\n",
    "print('Classification Report')\n",
    "target_names = ['Food', 'Inside', 'Drink', 'Outside', 'Menu']\n",
    "print(classification_report(test_generator.classes, y_pred, target_names=target_names))"
   ]
  },
  {
   "cell_type": "code",
   "execution_count": 19,
   "metadata": {},
   "outputs": [
    {
     "name": "stdout",
     "output_type": "stream",
     "text": [
      "10000/10000 [==============================] - 327s 33ms/step\n"
     ]
    },
    {
     "data": {
      "text/plain": [
       "[1.0953757158050121, 0.6937]"
      ]
     },
     "execution_count": 19,
     "metadata": {},
     "output_type": "execute_result"
    }
   ],
   "source": [
    "model1.evaluate_generator(nors_test_generator, steps = len(nors_test_generator), verbose = 1)"
   ]
  },
  {
   "cell_type": "code",
   "execution_count": 16,
   "metadata": {},
   "outputs": [
    {
     "name": "stdout",
     "output_type": "stream",
     "text": [
      "Confusion Matrix\n",
      "[[4445 1292    7    0    0]\n",
      " [2036  583    3    0    0]\n",
      " [ 719  187    0    0    0]\n",
      " [ 443  130    4    0    0]\n",
      " [ 110   40    1    0    0]]\n",
      "Classification Report\n",
      "              precision    recall  f1-score   support\n",
      "\n",
      "        Food       0.57      0.77      0.66      5744\n",
      "      Inside       0.26      0.22      0.24      2622\n",
      "       Drink       0.00      0.00      0.00       906\n",
      "     Outside       0.00      0.00      0.00       577\n",
      "        Menu       0.00      0.00      0.00       151\n",
      "\n",
      "    accuracy                           0.50     10000\n",
      "   macro avg       0.17      0.20      0.18     10000\n",
      "weighted avg       0.40      0.50      0.44     10000\n",
      "\n"
     ]
    },
    {
     "name": "stderr",
     "output_type": "stream",
     "text": [
      "C:\\Users\\bruno\\Anaconda3\\lib\\site-packages\\sklearn\\metrics\\classification.py:1437: UndefinedMetricWarning: Precision and F-score are ill-defined and being set to 0.0 in labels with no predicted samples.\n",
      "  'precision', 'predicted', average, warn_for)\n"
     ]
    }
   ],
   "source": [
    "# With non-rescaled images\n",
    "\n",
    "Y_pred = model1.predict_generator(nors_test_generator, len(nors_test_generator))\n",
    "y_pred = np.argmax(Y_pred, axis=1)\n",
    "print('Confusion Matrix')\n",
    "print(confusion_matrix(nors_test_generator.classes, y_pred))\n",
    "print('Classification Report')\n",
    "target_names = ['Food', 'Inside', 'Drink', 'Outside', 'Menu']\n",
    "print(classification_report(nors_test_generator.classes, y_pred, target_names=target_names))"
   ]
  },
  {
   "cell_type": "markdown",
   "metadata": {},
   "source": [
    "### Second Model"
   ]
  },
  {
   "cell_type": "code",
   "execution_count": 17,
   "metadata": {},
   "outputs": [],
   "source": [
    "# Load the pickled model\n",
    "\n",
    "with open('Models/3conv2densemodel15epoch.pkl', 'rb') as f:\n",
    "    model2 = pickle.load(f)"
   ]
  },
  {
   "cell_type": "code",
   "execution_count": 18,
   "metadata": {},
   "outputs": [
    {
     "name": "stdout",
     "output_type": "stream",
     "text": [
      "_________________________________________________________________\n",
      "Layer (type)                 Output Shape              Param #   \n",
      "=================================================================\n",
      "conv2d_1 (Conv2D)            (None, 254, 254, 16)      448       \n",
      "_________________________________________________________________\n",
      "max_pooling2d_1 (MaxPooling2 (None, 127, 127, 16)      0         \n",
      "_________________________________________________________________\n",
      "conv2d_2 (Conv2D)            (None, 125, 125, 32)      4640      \n",
      "_________________________________________________________________\n",
      "max_pooling2d_2 (MaxPooling2 (None, 62, 62, 32)        0         \n",
      "_________________________________________________________________\n",
      "conv2d_3 (Conv2D)            (None, 60, 60, 64)        18496     \n",
      "_________________________________________________________________\n",
      "max_pooling2d_3 (MaxPooling2 (None, 30, 30, 64)        0         \n",
      "_________________________________________________________________\n",
      "flatten_1 (Flatten)          (None, 57600)             0         \n",
      "_________________________________________________________________\n",
      "dense_1 (Dense)              (None, 64)                3686464   \n",
      "_________________________________________________________________\n",
      "dropout_1 (Dropout)          (None, 64)                0         \n",
      "_________________________________________________________________\n",
      "dense_2 (Dense)              (None, 32)                2080      \n",
      "_________________________________________________________________\n",
      "dropout_2 (Dropout)          (None, 32)                0         \n",
      "_________________________________________________________________\n",
      "dense_3 (Dense)              (None, 5)                 165       \n",
      "=================================================================\n",
      "Total params: 3,712,293\n",
      "Trainable params: 3,712,293\n",
      "Non-trainable params: 0\n",
      "_________________________________________________________________\n"
     ]
    }
   ],
   "source": [
    "# Model summary\n",
    "\n",
    "model2.summary()"
   ]
  },
  {
   "cell_type": "code",
   "execution_count": 20,
   "metadata": {},
   "outputs": [
    {
     "name": "stdout",
     "output_type": "stream",
     "text": [
      "10000/10000 [==============================] - 354s 35ms/step\n"
     ]
    },
    {
     "data": {
      "text/plain": [
       "[0.3949575798887481, 0.8712]"
      ]
     },
     "execution_count": 20,
     "metadata": {},
     "output_type": "execute_result"
    }
   ],
   "source": [
    "model2.evaluate_generator(test_generator, steps = len(test_generator), verbose = 1)"
   ]
  },
  {
   "cell_type": "code",
   "execution_count": 21,
   "metadata": {},
   "outputs": [
    {
     "name": "stdout",
     "output_type": "stream",
     "text": [
      "10000/10000 [==============================] - 421s 42ms/step\n"
     ]
    },
    {
     "data": {
      "text/plain": [
       "[0.39495747243667617, 0.8712]"
      ]
     },
     "execution_count": 21,
     "metadata": {},
     "output_type": "execute_result"
    }
   ],
   "source": [
    "model2.evaluate_generator(nors_test_generator, steps = len(nors_test_generator), verbose = 1)"
   ]
  },
  {
   "cell_type": "code",
   "execution_count": 22,
   "metadata": {},
   "outputs": [
    {
     "name": "stdout",
     "output_type": "stream",
     "text": [
      "Confusion Matrix\n",
      "[[3510 1601  315  265   53]\n",
      " [1605  756  131  107   23]\n",
      " [ 552  275   45   29    5]\n",
      " [ 359  166   27   19    6]\n",
      " [  99   37    6    6    3]]\n",
      "Classification Report\n",
      "              precision    recall  f1-score   support\n",
      "\n",
      "        Food       0.57      0.61      0.59      5744\n",
      "      Inside       0.27      0.29      0.28      2622\n",
      "       Drink       0.09      0.05      0.06       906\n",
      "     Outside       0.04      0.03      0.04       577\n",
      "        Menu       0.03      0.02      0.02       151\n",
      "\n",
      "    accuracy                           0.43     10000\n",
      "   macro avg       0.20      0.20      0.20     10000\n",
      "weighted avg       0.41      0.43      0.42     10000\n",
      "\n"
     ]
    }
   ],
   "source": [
    "# With rescaled images\n",
    "\n",
    "Y_pred = model2.predict_generator(test_generator, len(test_generator))\n",
    "y_pred = np.argmax(Y_pred, axis=1)\n",
    "print('Confusion Matrix')\n",
    "print(confusion_matrix(test_generator.classes, y_pred))\n",
    "print('Classification Report')\n",
    "target_names = ['Food', 'Inside', 'Drink', 'Outside', 'Menu']\n",
    "print(classification_report(test_generator.classes, y_pred, target_names=target_names))"
   ]
  },
  {
   "cell_type": "code",
   "execution_count": 23,
   "metadata": {},
   "outputs": [
    {
     "name": "stdout",
     "output_type": "stream",
     "text": [
      "Confusion Matrix\n",
      "[[3510 1601  315  265   53]\n",
      " [1605  756  131  107   23]\n",
      " [ 552  275   45   29    5]\n",
      " [ 359  166   27   19    6]\n",
      " [  99   37    6    6    3]]\n",
      "Classification Report\n",
      "              precision    recall  f1-score   support\n",
      "\n",
      "        Food       0.57      0.61      0.59      5744\n",
      "      Inside       0.27      0.29      0.28      2622\n",
      "       Drink       0.09      0.05      0.06       906\n",
      "     Outside       0.04      0.03      0.04       577\n",
      "        Menu       0.03      0.02      0.02       151\n",
      "\n",
      "    accuracy                           0.43     10000\n",
      "   macro avg       0.20      0.20      0.20     10000\n",
      "weighted avg       0.41      0.43      0.42     10000\n",
      "\n"
     ]
    }
   ],
   "source": [
    "# With non-rescaled images\n",
    "\n",
    "Y_pred = model2.predict_generator(nors_test_generator, len(nors_test_generator))\n",
    "y_pred = np.argmax(Y_pred, axis=1)\n",
    "print('Confusion Matrix')\n",
    "print(confusion_matrix(nors_test_generator.classes, y_pred))\n",
    "print('Classification Report')\n",
    "target_names = ['Food', 'Inside', 'Drink', 'Outside', 'Menu']\n",
    "print(classification_report(nors_test_generator.classes, y_pred, target_names=target_names))"
   ]
  },
  {
   "cell_type": "markdown",
   "metadata": {},
   "source": [
    "### Third model"
   ]
  },
  {
   "cell_type": "code",
   "execution_count": 24,
   "metadata": {},
   "outputs": [],
   "source": [
    "# Load the pickled model\n",
    "\n",
    "with open('Models/3conv2densemodel_2_30epochs.pkl', 'rb') as f:\n",
    "    model3 = pickle.load(f)"
   ]
  },
  {
   "cell_type": "code",
   "execution_count": 25,
   "metadata": {},
   "outputs": [
    {
     "name": "stdout",
     "output_type": "stream",
     "text": [
      "_________________________________________________________________\n",
      "Layer (type)                 Output Shape              Param #   \n",
      "=================================================================\n",
      "conv2d_4 (Conv2D)            (None, 254, 254, 16)      448       \n",
      "_________________________________________________________________\n",
      "max_pooling2d_4 (MaxPooling2 (None, 127, 127, 16)      0         \n",
      "_________________________________________________________________\n",
      "conv2d_5 (Conv2D)            (None, 125, 125, 32)      4640      \n",
      "_________________________________________________________________\n",
      "max_pooling2d_5 (MaxPooling2 (None, 62, 62, 32)        0         \n",
      "_________________________________________________________________\n",
      "conv2d_6 (Conv2D)            (None, 60, 60, 64)        18496     \n",
      "_________________________________________________________________\n",
      "max_pooling2d_6 (MaxPooling2 (None, 30, 30, 64)        0         \n",
      "_________________________________________________________________\n",
      "flatten_2 (Flatten)          (None, 57600)             0         \n",
      "_________________________________________________________________\n",
      "dense_4 (Dense)              (None, 64)                3686464   \n",
      "_________________________________________________________________\n",
      "dropout_3 (Dropout)          (None, 64)                0         \n",
      "_________________________________________________________________\n",
      "dense_5 (Dense)              (None, 32)                2080      \n",
      "_________________________________________________________________\n",
      "dropout_4 (Dropout)          (None, 32)                0         \n",
      "_________________________________________________________________\n",
      "dense_6 (Dense)              (None, 5)                 165       \n",
      "=================================================================\n",
      "Total params: 3,712,293\n",
      "Trainable params: 3,712,293\n",
      "Non-trainable params: 0\n",
      "_________________________________________________________________\n"
     ]
    }
   ],
   "source": [
    "# Model summary\n",
    "\n",
    "model3.summary()"
   ]
  },
  {
   "cell_type": "code",
   "execution_count": 26,
   "metadata": {},
   "outputs": [
    {
     "name": "stdout",
     "output_type": "stream",
     "text": [
      "10000/10000 [==============================] - 328s 33ms/step\n"
     ]
    },
    {
     "data": {
      "text/plain": [
       "[0.3575285795898364, 0.8733]"
      ]
     },
     "execution_count": 26,
     "metadata": {},
     "output_type": "execute_result"
    }
   ],
   "source": [
    "model3.evaluate_generator(test_generator, steps = len(test_generator), verbose = 1)"
   ]
  },
  {
   "cell_type": "code",
   "execution_count": 27,
   "metadata": {},
   "outputs": [
    {
     "name": "stdout",
     "output_type": "stream",
     "text": [
      "10000/10000 [==============================] - 326s 33ms/step\n"
     ]
    },
    {
     "data": {
      "text/plain": [
       "[0.35752856176394654, 0.8733]"
      ]
     },
     "execution_count": 27,
     "metadata": {},
     "output_type": "execute_result"
    }
   ],
   "source": [
    "model3.evaluate_generator(nors_test_generator, steps = len(nors_test_generator), verbose = 1)"
   ]
  },
  {
   "cell_type": "code",
   "execution_count": 28,
   "metadata": {},
   "outputs": [
    {
     "name": "stdout",
     "output_type": "stream",
     "text": [
      "Confusion Matrix\n",
      "[[3564 1521  376  200   83]\n",
      " [1613  695  177  104   33]\n",
      " [ 575  231   65   24   11]\n",
      " [ 357  148   40   24    8]\n",
      " [  95   38   10    5    3]]\n",
      "Classification Report\n",
      "              precision    recall  f1-score   support\n",
      "\n",
      "        Food       0.57      0.62      0.60      5744\n",
      "      Inside       0.26      0.27      0.26      2622\n",
      "       Drink       0.10      0.07      0.08       906\n",
      "     Outside       0.07      0.04      0.05       577\n",
      "        Menu       0.02      0.02      0.02       151\n",
      "\n",
      "    accuracy                           0.44     10000\n",
      "   macro avg       0.20      0.20      0.20     10000\n",
      "weighted avg       0.41      0.44      0.42     10000\n",
      "\n"
     ]
    }
   ],
   "source": [
    "# With rescaled images\n",
    "\n",
    "Y_pred = model3.predict_generator(test_generator, len(test_generator))\n",
    "y_pred = np.argmax(Y_pred, axis=1)\n",
    "print('Confusion Matrix')\n",
    "print(confusion_matrix(test_generator.classes, y_pred))\n",
    "print('Classification Report')\n",
    "target_names = ['Food', 'Inside', 'Drink', 'Outside', 'Menu']\n",
    "print(classification_report(test_generator.classes, y_pred, target_names=target_names))"
   ]
  },
  {
   "cell_type": "code",
   "execution_count": 29,
   "metadata": {},
   "outputs": [
    {
     "name": "stdout",
     "output_type": "stream",
     "text": [
      "Confusion Matrix\n",
      "[[3564 1521  376  200   83]\n",
      " [1613  695  177  104   33]\n",
      " [ 575  231   65   24   11]\n",
      " [ 357  148   40   24    8]\n",
      " [  95   38   10    5    3]]\n",
      "Classification Report\n",
      "              precision    recall  f1-score   support\n",
      "\n",
      "        Food       0.57      0.62      0.60      5744\n",
      "      Inside       0.26      0.27      0.26      2622\n",
      "       Drink       0.10      0.07      0.08       906\n",
      "     Outside       0.07      0.04      0.05       577\n",
      "        Menu       0.02      0.02      0.02       151\n",
      "\n",
      "    accuracy                           0.44     10000\n",
      "   macro avg       0.20      0.20      0.20     10000\n",
      "weighted avg       0.41      0.44      0.42     10000\n",
      "\n"
     ]
    }
   ],
   "source": [
    "# With non-rescaled images\n",
    "\n",
    "Y_pred = model3.predict_generator(nors_test_generator, len(nors_test_generator))\n",
    "y_pred = np.argmax(Y_pred, axis=1)\n",
    "print('Confusion Matrix')\n",
    "print(confusion_matrix(nors_test_generator.classes, y_pred))\n",
    "print('Classification Report')\n",
    "target_names = ['Food', 'Inside', 'Drink', 'Outside', 'Menu']\n",
    "print(classification_report(nors_test_generator.classes, y_pred, target_names=target_names))"
   ]
  },
  {
   "cell_type": "markdown",
   "metadata": {},
   "source": [
    "### Fourth model"
   ]
  },
  {
   "cell_type": "code",
   "execution_count": 31,
   "metadata": {},
   "outputs": [],
   "source": [
    "# Load the h5py instance of the model using keras.models.load_model\n",
    "\n",
    "model4 = keras.models.load_model('Models/new_model_for_testing.h5')"
   ]
  },
  {
   "cell_type": "code",
   "execution_count": 32,
   "metadata": {},
   "outputs": [
    {
     "name": "stdout",
     "output_type": "stream",
     "text": [
      "_________________________________________________________________\n",
      "Layer (type)                 Output Shape              Param #   \n",
      "=================================================================\n",
      "conv2d_7 (Conv2D)            (None, 254, 254, 16)      448       \n",
      "_________________________________________________________________\n",
      "max_pooling2d_7 (MaxPooling2 (None, 127, 127, 16)      0         \n",
      "_________________________________________________________________\n",
      "conv2d_8 (Conv2D)            (None, 125, 125, 32)      4640      \n",
      "_________________________________________________________________\n",
      "max_pooling2d_8 (MaxPooling2 (None, 62, 62, 32)        0         \n",
      "_________________________________________________________________\n",
      "conv2d_9 (Conv2D)            (None, 60, 60, 64)        18496     \n",
      "_________________________________________________________________\n",
      "max_pooling2d_9 (MaxPooling2 (None, 30, 30, 64)        0         \n",
      "_________________________________________________________________\n",
      "flatten_3 (Flatten)          (None, 57600)             0         \n",
      "_________________________________________________________________\n",
      "dense_7 (Dense)              (None, 64)                3686464   \n",
      "_________________________________________________________________\n",
      "dropout_5 (Dropout)          (None, 64)                0         \n",
      "_________________________________________________________________\n",
      "dense_8 (Dense)              (None, 32)                2080      \n",
      "_________________________________________________________________\n",
      "dropout_6 (Dropout)          (None, 32)                0         \n",
      "_________________________________________________________________\n",
      "dense_9 (Dense)              (None, 5)                 165       \n",
      "=================================================================\n",
      "Total params: 3,712,293\n",
      "Trainable params: 3,712,293\n",
      "Non-trainable params: 0\n",
      "_________________________________________________________________\n"
     ]
    }
   ],
   "source": [
    "# Look at the model summary\n",
    "\n",
    "model4.summary()"
   ]
  },
  {
   "cell_type": "code",
   "execution_count": 33,
   "metadata": {},
   "outputs": [
    {
     "name": "stdout",
     "output_type": "stream",
     "text": [
      "10000/10000 [==============================] - 329s 33ms/step\n"
     ]
    },
    {
     "data": {
      "text/plain": [
       "[0.35494111035507797, 0.8754]"
      ]
     },
     "execution_count": 33,
     "metadata": {},
     "output_type": "execute_result"
    }
   ],
   "source": [
    "model4.evaluate_generator(test_generator, steps = len(test_generator), verbose = 1)"
   ]
  },
  {
   "cell_type": "code",
   "execution_count": 34,
   "metadata": {},
   "outputs": [
    {
     "name": "stdout",
     "output_type": "stream",
     "text": [
      "10000/10000 [==============================] - 336s 34ms/step\n"
     ]
    },
    {
     "data": {
      "text/plain": [
       "[0.3549411430792122, 0.8754]"
      ]
     },
     "execution_count": 34,
     "metadata": {},
     "output_type": "execute_result"
    }
   ],
   "source": [
    "model4.evaluate_generator(nors_test_generator, steps = len(nors_test_generator), verbose = 1)"
   ]
  },
  {
   "cell_type": "code",
   "execution_count": 35,
   "metadata": {},
   "outputs": [
    {
     "name": "stdout",
     "output_type": "stream",
     "text": [
      "Confusion Matrix\n",
      "[[3663 1564  239  197   81]\n",
      " [1655  765   95   73   34]\n",
      " [ 579  236   48   37    6]\n",
      " [ 361  159   29   21    7]\n",
      " [ 100   39    5    5    2]]\n",
      "Classification Report\n",
      "              precision    recall  f1-score   support\n",
      "\n",
      "        Food       0.58      0.64      0.61      5744\n",
      "      Inside       0.28      0.29      0.28      2622\n",
      "       Drink       0.12      0.05      0.07       906\n",
      "     Outside       0.06      0.04      0.05       577\n",
      "        Menu       0.02      0.01      0.01       151\n",
      "\n",
      "    accuracy                           0.45     10000\n",
      "   macro avg       0.21      0.21      0.20     10000\n",
      "weighted avg       0.42      0.45      0.43     10000\n",
      "\n"
     ]
    }
   ],
   "source": [
    "# With rescaled images\n",
    "\n",
    "Y_pred = model4.predict_generator(test_generator, len(test_generator))\n",
    "y_pred = np.argmax(Y_pred, axis=1)\n",
    "print('Confusion Matrix')\n",
    "print(confusion_matrix(test_generator.classes, y_pred))\n",
    "print('Classification Report')\n",
    "target_names = ['Food', 'Inside', 'Drink', 'Outside', 'Menu']\n",
    "print(classification_report(test_generator.classes, y_pred, target_names=target_names))"
   ]
  },
  {
   "cell_type": "code",
   "execution_count": 36,
   "metadata": {},
   "outputs": [
    {
     "name": "stdout",
     "output_type": "stream",
     "text": [
      "Confusion Matrix\n",
      "[[3663 1564  239  197   81]\n",
      " [1655  765   95   73   34]\n",
      " [ 579  236   48   37    6]\n",
      " [ 361  159   29   21    7]\n",
      " [ 100   39    5    5    2]]\n",
      "Classification Report\n",
      "              precision    recall  f1-score   support\n",
      "\n",
      "        Food       0.58      0.64      0.61      5744\n",
      "      Inside       0.28      0.29      0.28      2622\n",
      "       Drink       0.12      0.05      0.07       906\n",
      "     Outside       0.06      0.04      0.05       577\n",
      "        Menu       0.02      0.01      0.01       151\n",
      "\n",
      "    accuracy                           0.45     10000\n",
      "   macro avg       0.21      0.21      0.20     10000\n",
      "weighted avg       0.42      0.45      0.43     10000\n",
      "\n"
     ]
    }
   ],
   "source": [
    "# With non-rescaled images\n",
    "\n",
    "Y_pred = model4.predict_generator(nors_test_generator, len(nors_test_generator))\n",
    "y_pred = np.argmax(Y_pred, axis=1)\n",
    "print('Confusion Matrix')\n",
    "print(confusion_matrix(nors_test_generator.classes, y_pred))\n",
    "print('Classification Report')\n",
    "target_names = ['Food', 'Inside', 'Drink', 'Outside', 'Menu']\n",
    "print(classification_report(nors_test_generator.classes, y_pred, target_names=target_names))"
   ]
  },
  {
   "cell_type": "markdown",
   "metadata": {},
   "source": [
    "### Fifth Model"
   ]
  },
  {
   "cell_type": "code",
   "execution_count": 37,
   "metadata": {},
   "outputs": [],
   "source": [
    "# Load the h5py instance of the model using keras.models.load_model\n",
    "\n",
    "model5 = keras.models.load_model('Models/big_conv_model.h5')"
   ]
  },
  {
   "cell_type": "code",
   "execution_count": 38,
   "metadata": {},
   "outputs": [
    {
     "name": "stdout",
     "output_type": "stream",
     "text": [
      "_________________________________________________________________\n",
      "Layer (type)                 Output Shape              Param #   \n",
      "=================================================================\n",
      "conv2d_4 (Conv2D)            (None, 254, 254, 16)      448       \n",
      "_________________________________________________________________\n",
      "max_pooling2d_4 (MaxPooling2 (None, 127, 127, 16)      0         \n",
      "_________________________________________________________________\n",
      "conv2d_5 (Conv2D)            (None, 125, 125, 32)      4640      \n",
      "_________________________________________________________________\n",
      "conv2d_6 (Conv2D)            (None, 123, 123, 32)      9248      \n",
      "_________________________________________________________________\n",
      "max_pooling2d_5 (MaxPooling2 (None, 61, 61, 32)        0         \n",
      "_________________________________________________________________\n",
      "conv2d_7 (Conv2D)            (None, 59, 59, 64)        18496     \n",
      "_________________________________________________________________\n",
      "conv2d_8 (Conv2D)            (None, 57, 57, 64)        36928     \n",
      "_________________________________________________________________\n",
      "max_pooling2d_6 (MaxPooling2 (None, 28, 28, 64)        0         \n",
      "_________________________________________________________________\n",
      "conv2d_9 (Conv2D)            (None, 26, 26, 128)       73856     \n",
      "_________________________________________________________________\n",
      "max_pooling2d_7 (MaxPooling2 (None, 13, 13, 128)       0         \n",
      "_________________________________________________________________\n",
      "flatten_2 (Flatten)          (None, 21632)             0         \n",
      "_________________________________________________________________\n",
      "dense_4 (Dense)              (None, 64)                1384512   \n",
      "_________________________________________________________________\n",
      "dropout_3 (Dropout)          (None, 64)                0         \n",
      "_________________________________________________________________\n",
      "dense_5 (Dense)              (None, 32)                2080      \n",
      "_________________________________________________________________\n",
      "dropout_4 (Dropout)          (None, 32)                0         \n",
      "_________________________________________________________________\n",
      "dense_6 (Dense)              (None, 5)                 165       \n",
      "=================================================================\n",
      "Total params: 1,530,373\n",
      "Trainable params: 1,530,373\n",
      "Non-trainable params: 0\n",
      "_________________________________________________________________\n"
     ]
    }
   ],
   "source": [
    "# Model Summary\n",
    "\n",
    "model5.summary()"
   ]
  },
  {
   "cell_type": "code",
   "execution_count": 39,
   "metadata": {},
   "outputs": [
    {
     "name": "stdout",
     "output_type": "stream",
     "text": [
      "Confusion Matrix\n",
      "[[3471 1558  317  300   98]\n",
      " [1599  716  152  134   21]\n",
      " [ 557  239   58   40   12]\n",
      " [ 345  158   38   24   12]\n",
      " [  93   34   11   10    3]]\n",
      "Classification Report\n",
      "              precision    recall  f1-score   support\n",
      "\n",
      "        Food       0.57      0.60      0.59      5744\n",
      "      Inside       0.26      0.27      0.27      2622\n",
      "       Drink       0.10      0.06      0.08       906\n",
      "     Outside       0.05      0.04      0.04       577\n",
      "        Menu       0.02      0.02      0.02       151\n",
      "\n",
      "    accuracy                           0.43     10000\n",
      "   macro avg       0.20      0.20      0.20     10000\n",
      "weighted avg       0.41      0.43      0.42     10000\n",
      "\n"
     ]
    }
   ],
   "source": [
    "# With rescaled images\n",
    "\n",
    "Y_pred = model5.predict_generator(test_generator, len(test_generator))\n",
    "y_pred = np.argmax(Y_pred, axis=1)\n",
    "print('Confusion Matrix')\n",
    "print(confusion_matrix(test_generator.classes, y_pred))\n",
    "print('Classification Report')\n",
    "target_names = ['Food', 'Inside', 'Drink', 'Outside', 'Menu']\n",
    "print(classification_report(test_generator.classes, y_pred, target_names=target_names))"
   ]
  },
  {
   "cell_type": "code",
   "execution_count": 40,
   "metadata": {},
   "outputs": [
    {
     "name": "stdout",
     "output_type": "stream",
     "text": [
      "Confusion Matrix\n",
      "[[3471 1558  317  300   98]\n",
      " [1599  716  152  134   21]\n",
      " [ 557  239   58   40   12]\n",
      " [ 345  158   38   24   12]\n",
      " [  93   34   11   10    3]]\n",
      "Classification Report\n",
      "              precision    recall  f1-score   support\n",
      "\n",
      "        Food       0.57      0.60      0.59      5744\n",
      "      Inside       0.26      0.27      0.27      2622\n",
      "       Drink       0.10      0.06      0.08       906\n",
      "     Outside       0.05      0.04      0.04       577\n",
      "        Menu       0.02      0.02      0.02       151\n",
      "\n",
      "    accuracy                           0.43     10000\n",
      "   macro avg       0.20      0.20      0.20     10000\n",
      "weighted avg       0.41      0.43      0.42     10000\n",
      "\n"
     ]
    }
   ],
   "source": [
    "# With non-rescaled images\n",
    "\n",
    "Y_pred = model5.predict_generator(nors_test_generator, len(nors_test_generator))\n",
    "y_pred = np.argmax(Y_pred, axis=1)\n",
    "print('Confusion Matrix')\n",
    "print(confusion_matrix(nors_test_generator.classes, y_pred))\n",
    "print('Classification Report')\n",
    "target_names = ['Food', 'Inside', 'Drink', 'Outside', 'Menu']\n",
    "print(classification_report(nors_test_generator.classes, y_pred, target_names=target_names))"
   ]
  },
  {
   "cell_type": "markdown",
   "metadata": {},
   "source": [
    "### Sixth Model - Balanced"
   ]
  },
  {
   "cell_type": "code",
   "execution_count": 41,
   "metadata": {},
   "outputs": [],
   "source": [
    "# Load the h5py instance of the model using keras.models.load_model\n",
    "\n",
    "bal_mod = keras.models.load_model('Models/balanced_model.h5')"
   ]
  },
  {
   "cell_type": "code",
   "execution_count": 42,
   "metadata": {},
   "outputs": [
    {
     "name": "stdout",
     "output_type": "stream",
     "text": [
      "_________________________________________________________________\n",
      "Layer (type)                 Output Shape              Param #   \n",
      "=================================================================\n",
      "conv2d_7 (Conv2D)            (None, 254, 254, 16)      448       \n",
      "_________________________________________________________________\n",
      "max_pooling2d_5 (MaxPooling2 (None, 127, 127, 16)      0         \n",
      "_________________________________________________________________\n",
      "conv2d_8 (Conv2D)            (None, 125, 125, 32)      4640      \n",
      "_________________________________________________________________\n",
      "conv2d_9 (Conv2D)            (None, 123, 123, 32)      9248      \n",
      "_________________________________________________________________\n",
      "max_pooling2d_6 (MaxPooling2 (None, 61, 61, 32)        0         \n",
      "_________________________________________________________________\n",
      "conv2d_10 (Conv2D)           (None, 59, 59, 64)        18496     \n",
      "_________________________________________________________________\n",
      "conv2d_11 (Conv2D)           (None, 57, 57, 64)        36928     \n",
      "_________________________________________________________________\n",
      "max_pooling2d_7 (MaxPooling2 (None, 28, 28, 64)        0         \n",
      "_________________________________________________________________\n",
      "conv2d_12 (Conv2D)           (None, 26, 26, 128)       73856     \n",
      "_________________________________________________________________\n",
      "max_pooling2d_8 (MaxPooling2 (None, 13, 13, 128)       0         \n",
      "_________________________________________________________________\n",
      "flatten_2 (Flatten)          (None, 21632)             0         \n",
      "_________________________________________________________________\n",
      "dense_4 (Dense)              (None, 64)                1384512   \n",
      "_________________________________________________________________\n",
      "dropout_3 (Dropout)          (None, 64)                0         \n",
      "_________________________________________________________________\n",
      "dense_5 (Dense)              (None, 32)                2080      \n",
      "_________________________________________________________________\n",
      "dropout_4 (Dropout)          (None, 32)                0         \n",
      "_________________________________________________________________\n",
      "dense_6 (Dense)              (None, 5)                 165       \n",
      "=================================================================\n",
      "Total params: 1,530,373\n",
      "Trainable params: 1,530,373\n",
      "Non-trainable params: 0\n",
      "_________________________________________________________________\n"
     ]
    }
   ],
   "source": [
    "# Model Summary\n",
    "\n",
    "bal_mod.summary()"
   ]
  },
  {
   "cell_type": "code",
   "execution_count": 43,
   "metadata": {},
   "outputs": [
    {
     "name": "stdout",
     "output_type": "stream",
     "text": [
      "Confusion Matrix\n",
      "[[   0    0 5573  171    0]\n",
      " [   0    0 2548   74    0]\n",
      " [   0    0  878   28    0]\n",
      " [   0    0  559   18    0]\n",
      " [   0    0  143    8    0]]\n",
      "Classification Report\n",
      "              precision    recall  f1-score   support\n",
      "\n",
      "        Food       0.00      0.00      0.00      5744\n",
      "      Inside       0.00      0.00      0.00      2622\n",
      "       Drink       0.09      0.97      0.17       906\n",
      "     Outside       0.06      0.03      0.04       577\n",
      "        Menu       0.00      0.00      0.00       151\n",
      "\n",
      "    accuracy                           0.09     10000\n",
      "   macro avg       0.03      0.20      0.04     10000\n",
      "weighted avg       0.01      0.09      0.02     10000\n",
      "\n"
     ]
    },
    {
     "name": "stderr",
     "output_type": "stream",
     "text": [
      "C:\\Users\\bruno\\Anaconda3\\lib\\site-packages\\sklearn\\metrics\\classification.py:1437: UndefinedMetricWarning: Precision and F-score are ill-defined and being set to 0.0 in labels with no predicted samples.\n",
      "  'precision', 'predicted', average, warn_for)\n"
     ]
    }
   ],
   "source": [
    "# With rescaled images\n",
    "\n",
    "Y_pred = bal_mod.predict_generator(test_generator, len(test_generator))\n",
    "y_pred = np.argmax(Y_pred, axis=1)\n",
    "print('Confusion Matrix')\n",
    "print(confusion_matrix(test_generator.classes, y_pred))\n",
    "print('Classification Report')\n",
    "target_names = ['Food', 'Inside', 'Drink', 'Outside', 'Menu']\n",
    "print(classification_report(test_generator.classes, y_pred, target_names=target_names))"
   ]
  },
  {
   "cell_type": "code",
   "execution_count": 44,
   "metadata": {},
   "outputs": [
    {
     "name": "stdout",
     "output_type": "stream",
     "text": [
      "Confusion Matrix\n",
      "[[   0    0 5573  171    0]\n",
      " [   0    0 2548   74    0]\n",
      " [   0    0  878   28    0]\n",
      " [   0    0  559   18    0]\n",
      " [   0    0  143    8    0]]\n",
      "Classification Report\n",
      "              precision    recall  f1-score   support\n",
      "\n",
      "        Food       0.00      0.00      0.00      5744\n",
      "      Inside       0.00      0.00      0.00      2622\n",
      "       Drink       0.09      0.97      0.17       906\n",
      "     Outside       0.06      0.03      0.04       577\n",
      "        Menu       0.00      0.00      0.00       151\n",
      "\n",
      "    accuracy                           0.09     10000\n",
      "   macro avg       0.03      0.20      0.04     10000\n",
      "weighted avg       0.01      0.09      0.02     10000\n",
      "\n"
     ]
    }
   ],
   "source": [
    "# With non-rescaled images\n",
    "\n",
    "Y_pred = bal_mod.predict_generator(nors_test_generator, len(nors_test_generator))\n",
    "y_pred = np.argmax(Y_pred, axis=1)\n",
    "print('Confusion Matrix')\n",
    "print(confusion_matrix(nors_test_generator.classes, y_pred))\n",
    "print('Classification Report')\n",
    "target_names = ['Food', 'Inside', 'Drink', 'Outside', 'Menu']\n",
    "print(classification_report(nors_test_generator.classes, y_pred, target_names=target_names))"
   ]
  }
 ],
 "metadata": {
  "kernelspec": {
   "display_name": "Python 3",
   "language": "python",
   "name": "python3"
  },
  "language_info": {
   "codemirror_mode": {
    "name": "ipython",
    "version": 3
   },
   "file_extension": ".py",
   "mimetype": "text/x-python",
   "name": "python",
   "nbconvert_exporter": "python",
   "pygments_lexer": "ipython3",
   "version": "3.7.4"
  }
 },
 "nbformat": 4,
 "nbformat_minor": 2
}
